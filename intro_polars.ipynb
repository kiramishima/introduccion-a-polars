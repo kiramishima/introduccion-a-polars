{
 "cells": [
  {
   "attachments": {},
   "cell_type": "markdown",
   "metadata": {},
   "source": [
    "# **Introducción a Polars**\n",
    "\n",
    "Polars es una librería que permite el manejo y manipulación de Dataframes a nivel multihilo y alto procesamiento. Esta escrito para funcionar y trabajar en Rust, Python & NodeJS\n",
    "\n",
    "Sus caracteristicas son:\n",
    "- **Rápido**: Esta escrito desde 0, para adaptarse a la maquina y trabajar sin dependencias.\n",
    "- **I/O**: Soporte de primera clase para todas las capas comunes de almacenamiento de datos: local, almacenamiento en la nube y base de datos.\n",
    "- **Facíl de usar**: Permite escribír consultas que son faciles de entender. Internamente polars determinara la manera más eficiente para ejecutar usando un optimizador de consultas de manera interna.\n",
    "- **Out of Core**: Permite procesar los datos sin requerir que todos los datos esten cargados en memoria al mismo tiempo.\n",
    "- **Parallel**: Polars optmiza completamente el poder de la maquina dividiendo la carga de trabajo entre la cantidad de nucleos de CPU disponible sin ninguna configuración adicional.\n",
    "- **Vectorized Query Engine**: Polars usa `Apache Arrow`, un formato de datos de columna, procesa las consultas de una manera vectorizada. Utiliza [SIMD](https://en.wikipedia.org/wiki/Single_instruction,_multiple_data) para optimizar el uso del CPU.\n",
    "\n",
    "![alt](images/dato_tabular_rectangular.png)\n",
    "\n",
    "Estructuras de Polars:\n",
    "\n",
    "- **DataFrame** : Permite representar los datos de manera tabular. Esta compuesto por 2 o más series.\n",
    "- **Lazy DataFrame** : Permite representar los datos de manera tabular. Esta compuesto por 2 o más series. Los datos de este tipo de DataFrame son obtenidos cuando son solicitados o son necesarios.\n",
    "- **Series** : Es una estructura de datos de 1 dimensión con elementos del mismo tipop de dato.\n",
    "\n",
    "\n",
    "Más información: [https://pola-rs.github.io/polars-book/](https://pola-rs.github.io/polars-book/)"
   ]
  },
  {
   "attachments": {},
   "cell_type": "markdown",
   "metadata": {},
   "source": [
    "> R también tiene manejo de DataFrames, mientras que SQL tiene tablas en sus BD"
   ]
  },
  {
   "attachments": {},
   "cell_type": "markdown",
   "metadata": {},
   "source": [
    "## Instalación\n",
    "\n",
    "**PIP**\n",
    "```bash\n",
    "pip install polars\n",
    "!pip install polars # Google Colab\n",
    "```\n",
    "\n",
    "\n",
    "**CONDA**\n",
    "```bash\n",
    "conda install polars\n",
    "```\n",
    "\n",
    "Link: [https://pola-rs.github.io/polars-book/user-guide/installation/](https://pola-rs.github.io/polars-book/user-guide/installation/)\n",
    "\n",
    "Link: [https://anaconda.org/conda-forge/polars](https://anaconda.org/conda-forge/polars)"
   ]
  },
  {
   "attachments": {},
   "cell_type": "markdown",
   "metadata": {},
   "source": [
    "## Importando Polars"
   ]
  },
  {
   "cell_type": "code",
   "execution_count": 7,
   "metadata": {},
   "outputs": [],
   "source": [
    "import polars as pl"
   ]
  },
  {
   "attachments": {},
   "cell_type": "markdown",
   "metadata": {},
   "source": [
    "## Creando el primer Dataframe\n"
   ]
  },
  {
   "cell_type": "code",
   "execution_count": 9,
   "metadata": {},
   "outputs": [
    {
     "data": {
      "text/html": [
       "<div><style>\n",
       ".dataframe > thead > tr > th,\n",
       ".dataframe > tbody > tr > td {\n",
       "  text-align: right;\n",
       "}\n",
       "</style>\n",
       "<small>shape: (11, 2)</small><table border=\"1\" class=\"dataframe\"><thead><tr><th>X</th><th>Y</th></tr><tr><td>i64</td><td>i64</td></tr></thead><tbody><tr><td>0</td><td>0</td></tr><tr><td>1</td><td>1</td></tr><tr><td>2</td><td>4</td></tr><tr><td>3</td><td>9</td></tr><tr><td>4</td><td>16</td></tr><tr><td>5</td><td>25</td></tr><tr><td>6</td><td>36</td></tr><tr><td>7</td><td>49</td></tr><tr><td>8</td><td>64</td></tr><tr><td>9</td><td>81</td></tr><tr><td>10</td><td>100</td></tr></tbody></table></div>"
      ],
      "text/plain": [
       "shape: (11, 2)\n",
       "┌─────┬─────┐\n",
       "│ X   ┆ Y   │\n",
       "│ --- ┆ --- │\n",
       "│ i64 ┆ i64 │\n",
       "╞═════╪═════╡\n",
       "│ 0   ┆ 0   │\n",
       "│ 1   ┆ 1   │\n",
       "│ 2   ┆ 4   │\n",
       "│ 3   ┆ 9   │\n",
       "│ …   ┆ …   │\n",
       "│ 7   ┆ 49  │\n",
       "│ 8   ┆ 64  │\n",
       "│ 9   ┆ 81  │\n",
       "│ 10  ┆ 100 │\n",
       "└─────┴─────┘"
      ]
     },
     "execution_count": 9,
     "metadata": {},
     "output_type": "execute_result"
    }
   ],
   "source": [
    "x = [0, 1, 2, 3, 4, 5, 6, 7, 8, 9, 10]\n",
    "datos = {\n",
    "    \"X\": x,\n",
    "    \"Y\": [v**2 for v in x]\n",
    "}\n",
    "\n",
    "df = pl.DataFrame(datos)\n",
    "df"
   ]
  },
  {
   "attachments": {},
   "cell_type": "markdown",
   "metadata": {},
   "source": [
    "## Cargando datos a un Dataframe de Polars"
   ]
  },
  {
   "attachments": {},
   "cell_type": "markdown",
   "metadata": {},
   "source": [
    "Polars ofrece soporte para cargar y escribir archivos:\n",
    "\n",
    "- CSV\n",
    "- Parquet\n",
    "- JSON\n",
    "- AVRO\n",
    "\n",
    "También nos permite cargar información desde:\n",
    "\n",
    "- Bases de Datos\n",
    "    - ConnectorX\n",
    "    - ADBC (Arrow Database Connectivity)\n",
    "    - SQLAlchemy\n",
    "- AWS\n",
    "    - S3\n",
    "- Google Big Query"
   ]
  },
  {
   "attachments": {},
   "cell_type": "markdown",
   "metadata": {},
   "source": [
    "## Cargando datos desde un CSV en polars\n",
    "\n",
    "Dependiendo del tipo de archivo, polars nos ofrece los metodos para la carga. Para leer encontraremos el metodo `read_` y para escribir `write_` seguido del tipo de archivo.\n",
    "\n",
    "```python\n",
    "df = pl.read_csv(\"<ruta del archivo>/archivo.csv\")\n",
    "```"
   ]
  },
  {
   "cell_type": "code",
   "execution_count": 10,
   "metadata": {},
   "outputs": [],
   "source": [
    "df = pl.read_csv(\"DATASETS/beer_reviews.csv\")"
   ]
  },
  {
   "attachments": {},
   "cell_type": "markdown",
   "metadata": {},
   "source": [
    "## Inspeccionando un Dataframe\n",
    "\n",
    "- **head()** : Regresara por default las primeras 5 filas del DataFrame, también podemos indicar el número de filas que deseamos mostrar, pasando como argumento el número.\n",
    "- **tail()** : Regresara por default las ultimas 5 filas del DataFrame, también podemos indicar el número de filas que deseamos mostrar, pasando como argumento el número.\n",
    "- **shape**: Regresara el número de filas y columnas de nuestro DataFrame. (n, m), donde n son las filas y m el número de columnas.\n",
    "- **dtypes**: Retorna el listado de columnas y el tipo que tienen\n",
    "- **columns**: Retorna una lista con los nombres de columnas del DataFrame.\n",
    "- **height**: Retorna el total de filas que hay en el DataFrame.\n",
    "- **width**: Retorna el total de columnas/variables que hay en el DataFrame.\n",
    "- **schema**: Retorna un diccionario con el nombre de columna/variable y el tipo de dato que utiliza.\n",
    "- **sample**: Retorna una muestra aleatoria de datos, recibe como argumento el número de muestra que deseamos tomar de todo el DataFrame.\n",
    "- **describe()**: Calcula algunas estadisticas de resumen para las columnas númericas, como la media, la mediana, desviación estandar, etc."
   ]
  },
  {
   "attachments": {},
   "cell_type": "markdown",
   "metadata": {},
   "source": [
    "### Head & Tail"
   ]
  },
  {
   "cell_type": "code",
   "execution_count": 11,
   "metadata": {},
   "outputs": [
    {
     "data": {
      "text/html": [
       "<div><style>\n",
       ".dataframe > thead > tr > th,\n",
       ".dataframe > tbody > tr > td {\n",
       "  text-align: right;\n",
       "}\n",
       "</style>\n",
       "<small>shape: (5, 13)</small><table border=\"1\" class=\"dataframe\"><thead><tr><th>brewery_id</th><th>brewery_name</th><th>review_time</th><th>review_overall</th><th>review_aroma</th><th>review_appearance</th><th>review_profilename</th><th>beer_style</th><th>review_palate</th><th>review_taste</th><th>beer_name</th><th>beer_abv</th><th>beer_beerid</th></tr><tr><td>i64</td><td>str</td><td>i64</td><td>f64</td><td>f64</td><td>f64</td><td>str</td><td>str</td><td>f64</td><td>f64</td><td>str</td><td>f64</td><td>i64</td></tr></thead><tbody><tr><td>10325</td><td>&quot;Vecchio Birrai…</td><td>1234817823</td><td>1.5</td><td>2.0</td><td>2.5</td><td>&quot;stcules&quot;</td><td>&quot;Hefeweizen&quot;</td><td>1.5</td><td>1.5</td><td>&quot;Sausa Weizen&quot;</td><td>5.0</td><td>47986</td></tr><tr><td>10325</td><td>&quot;Vecchio Birrai…</td><td>1235915097</td><td>3.0</td><td>2.5</td><td>3.0</td><td>&quot;stcules&quot;</td><td>&quot;English Strong…</td><td>3.0</td><td>3.0</td><td>&quot;Red Moon&quot;</td><td>6.2</td><td>48213</td></tr><tr><td>10325</td><td>&quot;Vecchio Birrai…</td><td>1235916604</td><td>3.0</td><td>2.5</td><td>3.0</td><td>&quot;stcules&quot;</td><td>&quot;Foreign / Expo…</td><td>3.0</td><td>3.0</td><td>&quot;Black Horse Bl…</td><td>6.5</td><td>48215</td></tr><tr><td>10325</td><td>&quot;Vecchio Birrai…</td><td>1234725145</td><td>3.0</td><td>3.0</td><td>3.5</td><td>&quot;stcules&quot;</td><td>&quot;German Pilsene…</td><td>2.5</td><td>3.0</td><td>&quot;Sausa Pils&quot;</td><td>5.0</td><td>47969</td></tr><tr><td>1075</td><td>&quot;Caldera Brewin…</td><td>1293735206</td><td>4.0</td><td>4.5</td><td>4.0</td><td>&quot;johnmichaelsen…</td><td>&quot;American Doubl…</td><td>4.0</td><td>4.5</td><td>&quot;Cauldron DIPA&quot;</td><td>7.7</td><td>64883</td></tr></tbody></table></div>"
      ],
      "text/plain": [
       "shape: (5, 13)\n",
       "┌──────────┬────────────┬───────────┬────────────┬───┬────────────┬─────────┬──────────┬───────────┐\n",
       "│ brewery_ ┆ brewery_na ┆ review_ti ┆ review_ove ┆ … ┆ review_tas ┆ beer_na ┆ beer_abv ┆ beer_beer │\n",
       "│ id       ┆ me         ┆ me        ┆ rall       ┆   ┆ te         ┆ me      ┆ ---      ┆ id        │\n",
       "│ ---      ┆ ---        ┆ ---       ┆ ---        ┆   ┆ ---        ┆ ---     ┆ f64      ┆ ---       │\n",
       "│ i64      ┆ str        ┆ i64       ┆ f64        ┆   ┆ f64        ┆ str     ┆          ┆ i64       │\n",
       "╞══════════╪════════════╪═══════════╪════════════╪═══╪════════════╪═════════╪══════════╪═══════════╡\n",
       "│ 10325    ┆ Vecchio    ┆ 123481782 ┆ 1.5        ┆ … ┆ 1.5        ┆ Sausa   ┆ 5.0      ┆ 47986     │\n",
       "│          ┆ Birraio    ┆ 3         ┆            ┆   ┆            ┆ Weizen  ┆          ┆           │\n",
       "│ 10325    ┆ Vecchio    ┆ 123591509 ┆ 3.0        ┆ … ┆ 3.0        ┆ Red     ┆ 6.2      ┆ 48213     │\n",
       "│          ┆ Birraio    ┆ 7         ┆            ┆   ┆            ┆ Moon    ┆          ┆           │\n",
       "│ 10325    ┆ Vecchio    ┆ 123591660 ┆ 3.0        ┆ … ┆ 3.0        ┆ Black   ┆ 6.5      ┆ 48215     │\n",
       "│          ┆ Birraio    ┆ 4         ┆            ┆   ┆            ┆ Horse   ┆          ┆           │\n",
       "│          ┆            ┆           ┆            ┆   ┆            ┆ Black   ┆          ┆           │\n",
       "│          ┆            ┆           ┆            ┆   ┆            ┆ Beer    ┆          ┆           │\n",
       "│ 10325    ┆ Vecchio    ┆ 123472514 ┆ 3.0        ┆ … ┆ 3.0        ┆ Sausa   ┆ 5.0      ┆ 47969     │\n",
       "│          ┆ Birraio    ┆ 5         ┆            ┆   ┆            ┆ Pils    ┆          ┆           │\n",
       "│ 1075     ┆ Caldera    ┆ 129373520 ┆ 4.0        ┆ … ┆ 4.5        ┆ Cauldro ┆ 7.7      ┆ 64883     │\n",
       "│          ┆ Brewing    ┆ 6         ┆            ┆   ┆            ┆ n DIPA  ┆          ┆           │\n",
       "│          ┆ Company    ┆           ┆            ┆   ┆            ┆         ┆          ┆           │\n",
       "└──────────┴────────────┴───────────┴────────────┴───┴────────────┴─────────┴──────────┴───────────┘"
      ]
     },
     "execution_count": 11,
     "metadata": {},
     "output_type": "execute_result"
    }
   ],
   "source": [
    "df.head()"
   ]
  },
  {
   "cell_type": "code",
   "execution_count": 12,
   "metadata": {},
   "outputs": [
    {
     "data": {
      "text/html": [
       "<div><style>\n",
       ".dataframe > thead > tr > th,\n",
       ".dataframe > tbody > tr > td {\n",
       "  text-align: right;\n",
       "}\n",
       "</style>\n",
       "<small>shape: (5, 13)</small><table border=\"1\" class=\"dataframe\"><thead><tr><th>brewery_id</th><th>brewery_name</th><th>review_time</th><th>review_overall</th><th>review_aroma</th><th>review_appearance</th><th>review_profilename</th><th>beer_style</th><th>review_palate</th><th>review_taste</th><th>beer_name</th><th>beer_abv</th><th>beer_beerid</th></tr><tr><td>i64</td><td>str</td><td>i64</td><td>f64</td><td>f64</td><td>f64</td><td>str</td><td>str</td><td>f64</td><td>f64</td><td>str</td><td>f64</td><td>i64</td></tr></thead><tbody><tr><td>14359</td><td>&quot;The Defiant Br…</td><td>1162684892</td><td>5.0</td><td>4.0</td><td>3.5</td><td>&quot;maddogruss&quot;</td><td>&quot;Pumpkin Ale&quot;</td><td>4.0</td><td>4.0</td><td>&quot;The Horseman&#x27;s…</td><td>5.2</td><td>33061</td></tr><tr><td>14359</td><td>&quot;The Defiant Br…</td><td>1161048566</td><td>4.0</td><td>5.0</td><td>2.5</td><td>&quot;yelterdow&quot;</td><td>&quot;Pumpkin Ale&quot;</td><td>2.0</td><td>4.0</td><td>&quot;The Horseman&#x27;s…</td><td>5.2</td><td>33061</td></tr><tr><td>14359</td><td>&quot;The Defiant Br…</td><td>1160702513</td><td>4.5</td><td>3.5</td><td>3.0</td><td>&quot;TongoRad&quot;</td><td>&quot;Pumpkin Ale&quot;</td><td>3.5</td><td>4.0</td><td>&quot;The Horseman&#x27;s…</td><td>5.2</td><td>33061</td></tr><tr><td>14359</td><td>&quot;The Defiant Br…</td><td>1160023044</td><td>4.0</td><td>4.5</td><td>4.5</td><td>&quot;dherling&quot;</td><td>&quot;Pumpkin Ale&quot;</td><td>4.5</td><td>4.5</td><td>&quot;The Horseman&#x27;s…</td><td>5.2</td><td>33061</td></tr><tr><td>14359</td><td>&quot;The Defiant Br…</td><td>1160005319</td><td>5.0</td><td>4.5</td><td>4.5</td><td>&quot;cbl2&quot;</td><td>&quot;Pumpkin Ale&quot;</td><td>4.5</td><td>4.5</td><td>&quot;The Horseman&#x27;s…</td><td>5.2</td><td>33061</td></tr></tbody></table></div>"
      ],
      "text/plain": [
       "shape: (5, 13)\n",
       "┌──────────┬────────────┬───────────┬────────────┬───┬────────────┬─────────┬──────────┬───────────┐\n",
       "│ brewery_ ┆ brewery_na ┆ review_ti ┆ review_ove ┆ … ┆ review_tas ┆ beer_na ┆ beer_abv ┆ beer_beer │\n",
       "│ id       ┆ me         ┆ me        ┆ rall       ┆   ┆ te         ┆ me      ┆ ---      ┆ id        │\n",
       "│ ---      ┆ ---        ┆ ---       ┆ ---        ┆   ┆ ---        ┆ ---     ┆ f64      ┆ ---       │\n",
       "│ i64      ┆ str        ┆ i64       ┆ f64        ┆   ┆ f64        ┆ str     ┆          ┆ i64       │\n",
       "╞══════════╪════════════╪═══════════╪════════════╪═══╪════════════╪═════════╪══════════╪═══════════╡\n",
       "│ 14359    ┆ The        ┆ 116268489 ┆ 5.0        ┆ … ┆ 4.0        ┆ The Hor ┆ 5.2      ┆ 33061     │\n",
       "│          ┆ Defiant    ┆ 2         ┆            ┆   ┆            ┆ seman's ┆          ┆           │\n",
       "│          ┆ Brewing    ┆           ┆            ┆   ┆            ┆ Ale     ┆          ┆           │\n",
       "│          ┆ Company    ┆           ┆            ┆   ┆            ┆         ┆          ┆           │\n",
       "│ 14359    ┆ The        ┆ 116104856 ┆ 4.0        ┆ … ┆ 4.0        ┆ The Hor ┆ 5.2      ┆ 33061     │\n",
       "│          ┆ Defiant    ┆ 6         ┆            ┆   ┆            ┆ seman's ┆          ┆           │\n",
       "│          ┆ Brewing    ┆           ┆            ┆   ┆            ┆ Ale     ┆          ┆           │\n",
       "│          ┆ Company    ┆           ┆            ┆   ┆            ┆         ┆          ┆           │\n",
       "│ 14359    ┆ The        ┆ 116070251 ┆ 4.5        ┆ … ┆ 4.0        ┆ The Hor ┆ 5.2      ┆ 33061     │\n",
       "│          ┆ Defiant    ┆ 3         ┆            ┆   ┆            ┆ seman's ┆          ┆           │\n",
       "│          ┆ Brewing    ┆           ┆            ┆   ┆            ┆ Ale     ┆          ┆           │\n",
       "│          ┆ Company    ┆           ┆            ┆   ┆            ┆         ┆          ┆           │\n",
       "│ 14359    ┆ The        ┆ 116002304 ┆ 4.0        ┆ … ┆ 4.5        ┆ The Hor ┆ 5.2      ┆ 33061     │\n",
       "│          ┆ Defiant    ┆ 4         ┆            ┆   ┆            ┆ seman's ┆          ┆           │\n",
       "│          ┆ Brewing    ┆           ┆            ┆   ┆            ┆ Ale     ┆          ┆           │\n",
       "│          ┆ Company    ┆           ┆            ┆   ┆            ┆         ┆          ┆           │\n",
       "│ 14359    ┆ The        ┆ 116000531 ┆ 5.0        ┆ … ┆ 4.5        ┆ The Hor ┆ 5.2      ┆ 33061     │\n",
       "│          ┆ Defiant    ┆ 9         ┆            ┆   ┆            ┆ seman's ┆          ┆           │\n",
       "│          ┆ Brewing    ┆           ┆            ┆   ┆            ┆ Ale     ┆          ┆           │\n",
       "│          ┆ Company    ┆           ┆            ┆   ┆            ┆         ┆          ┆           │\n",
       "└──────────┴────────────┴───────────┴────────────┴───┴────────────┴─────────┴──────────┴───────────┘"
      ]
     },
     "execution_count": 12,
     "metadata": {},
     "output_type": "execute_result"
    }
   ],
   "source": [
    "df.tail()"
   ]
  },
  {
   "attachments": {},
   "cell_type": "markdown",
   "metadata": {},
   "source": [
    "### shape"
   ]
  },
  {
   "cell_type": "code",
   "execution_count": 13,
   "metadata": {},
   "outputs": [
    {
     "data": {
      "text/plain": [
       "(1586614, 13)"
      ]
     },
     "execution_count": 13,
     "metadata": {},
     "output_type": "execute_result"
    }
   ],
   "source": [
    "df.shape"
   ]
  },
  {
   "attachments": {},
   "cell_type": "markdown",
   "metadata": {},
   "source": [
    "### dtypes"
   ]
  },
  {
   "cell_type": "code",
   "execution_count": 14,
   "metadata": {},
   "outputs": [
    {
     "data": {
      "text/plain": [
       "[Int64,\n",
       " Utf8,\n",
       " Int64,\n",
       " Float64,\n",
       " Float64,\n",
       " Float64,\n",
       " Utf8,\n",
       " Utf8,\n",
       " Float64,\n",
       " Float64,\n",
       " Utf8,\n",
       " Float64,\n",
       " Int64]"
      ]
     },
     "execution_count": 14,
     "metadata": {},
     "output_type": "execute_result"
    }
   ],
   "source": [
    "df.dtypes"
   ]
  },
  {
   "attachments": {},
   "cell_type": "markdown",
   "metadata": {},
   "source": [
    "### Columns"
   ]
  },
  {
   "cell_type": "code",
   "execution_count": 15,
   "metadata": {},
   "outputs": [
    {
     "data": {
      "text/plain": [
       "['brewery_id',\n",
       " 'brewery_name',\n",
       " 'review_time',\n",
       " 'review_overall',\n",
       " 'review_aroma',\n",
       " 'review_appearance',\n",
       " 'review_profilename',\n",
       " 'beer_style',\n",
       " 'review_palate',\n",
       " 'review_taste',\n",
       " 'beer_name',\n",
       " 'beer_abv',\n",
       " 'beer_beerid']"
      ]
     },
     "execution_count": 15,
     "metadata": {},
     "output_type": "execute_result"
    }
   ],
   "source": [
    "df.columns"
   ]
  },
  {
   "attachments": {},
   "cell_type": "markdown",
   "metadata": {},
   "source": [
    "### Height & Width"
   ]
  },
  {
   "cell_type": "code",
   "execution_count": 16,
   "metadata": {},
   "outputs": [
    {
     "data": {
      "text/plain": [
       "1586614"
      ]
     },
     "execution_count": 16,
     "metadata": {},
     "output_type": "execute_result"
    }
   ],
   "source": [
    "df.height"
   ]
  },
  {
   "cell_type": "code",
   "execution_count": 17,
   "metadata": {},
   "outputs": [
    {
     "data": {
      "text/plain": [
       "13"
      ]
     },
     "execution_count": 17,
     "metadata": {},
     "output_type": "execute_result"
    }
   ],
   "source": [
    "df.width"
   ]
  },
  {
   "attachments": {},
   "cell_type": "markdown",
   "metadata": {},
   "source": [
    "### schema"
   ]
  },
  {
   "cell_type": "code",
   "execution_count": 18,
   "metadata": {},
   "outputs": [
    {
     "data": {
      "text/plain": [
       "{'brewery_id': Int64,\n",
       " 'brewery_name': Utf8,\n",
       " 'review_time': Int64,\n",
       " 'review_overall': Float64,\n",
       " 'review_aroma': Float64,\n",
       " 'review_appearance': Float64,\n",
       " 'review_profilename': Utf8,\n",
       " 'beer_style': Utf8,\n",
       " 'review_palate': Float64,\n",
       " 'review_taste': Float64,\n",
       " 'beer_name': Utf8,\n",
       " 'beer_abv': Float64,\n",
       " 'beer_beerid': Int64}"
      ]
     },
     "execution_count": 18,
     "metadata": {},
     "output_type": "execute_result"
    }
   ],
   "source": [
    "df.schema"
   ]
  },
  {
   "attachments": {},
   "cell_type": "markdown",
   "metadata": {},
   "source": [
    "### sample"
   ]
  },
  {
   "cell_type": "code",
   "execution_count": 20,
   "metadata": {},
   "outputs": [
    {
     "data": {
      "text/html": [
       "<div><style>\n",
       ".dataframe > thead > tr > th,\n",
       ".dataframe > tbody > tr > td {\n",
       "  text-align: right;\n",
       "}\n",
       "</style>\n",
       "<small>shape: (2, 13)</small><table border=\"1\" class=\"dataframe\"><thead><tr><th>brewery_id</th><th>brewery_name</th><th>review_time</th><th>review_overall</th><th>review_aroma</th><th>review_appearance</th><th>review_profilename</th><th>beer_style</th><th>review_palate</th><th>review_taste</th><th>beer_name</th><th>beer_abv</th><th>beer_beerid</th></tr><tr><td>i64</td><td>str</td><td>i64</td><td>f64</td><td>f64</td><td>f64</td><td>str</td><td>str</td><td>f64</td><td>f64</td><td>str</td><td>f64</td><td>i64</td></tr></thead><tbody><tr><td>811</td><td>&quot;Highland Brewi…</td><td>1254989926</td><td>4.0</td><td>4.5</td><td>4.0</td><td>&quot;corby112&quot;</td><td>&quot;American Stout…</td><td>3.5</td><td>4.0</td><td>&quot;Highland Black…</td><td>5.6</td><td>6373</td></tr><tr><td>388</td><td>&quot;Brasserie Cant…</td><td>1171490559</td><td>4.0</td><td>4.0</td><td>4.0</td><td>&quot;akorsak&quot;</td><td>&quot;Lambic - Fruit…</td><td>4.5</td><td>4.5</td><td>&quot;Cantillon Sain…</td><td>6.0</td><td>8954</td></tr></tbody></table></div>"
      ],
      "text/plain": [
       "shape: (2, 13)\n",
       "┌──────────┬────────────┬───────────┬────────────┬───┬────────────┬─────────┬──────────┬───────────┐\n",
       "│ brewery_ ┆ brewery_na ┆ review_ti ┆ review_ove ┆ … ┆ review_tas ┆ beer_na ┆ beer_abv ┆ beer_beer │\n",
       "│ id       ┆ me         ┆ me        ┆ rall       ┆   ┆ te         ┆ me      ┆ ---      ┆ id        │\n",
       "│ ---      ┆ ---        ┆ ---       ┆ ---        ┆   ┆ ---        ┆ ---     ┆ f64      ┆ ---       │\n",
       "│ i64      ┆ str        ┆ i64       ┆ f64        ┆   ┆ f64        ┆ str     ┆          ┆ i64       │\n",
       "╞══════════╪════════════╪═══════════╪════════════╪═══╪════════════╪═════════╪══════════╪═══════════╡\n",
       "│ 811      ┆ Highland   ┆ 125498992 ┆ 4.0        ┆ … ┆ 4.0        ┆ Highlan ┆ 5.6      ┆ 6373      │\n",
       "│          ┆ Brewing    ┆ 6         ┆            ┆   ┆            ┆ d Black ┆          ┆           │\n",
       "│          ┆            ┆           ┆            ┆   ┆            ┆ Mocha   ┆          ┆           │\n",
       "│          ┆            ┆           ┆            ┆   ┆            ┆ Stout   ┆          ┆           │\n",
       "│ 388      ┆ Brasserie  ┆ 117149055 ┆ 4.0        ┆ … ┆ 4.5        ┆ Cantill ┆ 6.0      ┆ 8954      │\n",
       "│          ┆ Cantillon  ┆ 9         ┆            ┆   ┆            ┆ on      ┆          ┆           │\n",
       "│          ┆            ┆           ┆            ┆   ┆            ┆ Saint   ┆          ┆           │\n",
       "│          ┆            ┆           ┆            ┆   ┆            ┆ Lamvinu ┆          ┆           │\n",
       "│          ┆            ┆           ┆            ┆   ┆            ┆ s       ┆          ┆           │\n",
       "└──────────┴────────────┴───────────┴────────────┴───┴────────────┴─────────┴──────────┴───────────┘"
      ]
     },
     "execution_count": 20,
     "metadata": {},
     "output_type": "execute_result"
    }
   ],
   "source": [
    "df.sample(2)"
   ]
  },
  {
   "attachments": {},
   "cell_type": "markdown",
   "metadata": {},
   "source": [
    "### Describe"
   ]
  },
  {
   "cell_type": "code",
   "execution_count": 21,
   "metadata": {},
   "outputs": [
    {
     "data": {
      "text/html": [
       "<div><style>\n",
       ".dataframe > thead > tr > th,\n",
       ".dataframe > tbody > tr > td {\n",
       "  text-align: right;\n",
       "}\n",
       "</style>\n",
       "<small>shape: (9, 14)</small><table border=\"1\" class=\"dataframe\"><thead><tr><th>describe</th><th>brewery_id</th><th>brewery_name</th><th>review_time</th><th>review_overall</th><th>review_aroma</th><th>review_appearance</th><th>review_profilename</th><th>beer_style</th><th>review_palate</th><th>review_taste</th><th>beer_name</th><th>beer_abv</th><th>beer_beerid</th></tr><tr><td>str</td><td>f64</td><td>str</td><td>f64</td><td>f64</td><td>f64</td><td>f64</td><td>str</td><td>str</td><td>f64</td><td>f64</td><td>str</td><td>f64</td><td>f64</td></tr></thead><tbody><tr><td>&quot;count&quot;</td><td>1.586614e6</td><td>&quot;1586614&quot;</td><td>1.586614e6</td><td>1.586614e6</td><td>1.586614e6</td><td>1.586614e6</td><td>&quot;1586614&quot;</td><td>&quot;1586614&quot;</td><td>1.586614e6</td><td>1.586614e6</td><td>&quot;1586614&quot;</td><td>1.586614e6</td><td>1.586614e6</td></tr><tr><td>&quot;null_count&quot;</td><td>0.0</td><td>&quot;0&quot;</td><td>0.0</td><td>0.0</td><td>0.0</td><td>0.0</td><td>&quot;348&quot;</td><td>&quot;0&quot;</td><td>0.0</td><td>0.0</td><td>&quot;0&quot;</td><td>67785.0</td><td>0.0</td></tr><tr><td>&quot;mean&quot;</td><td>3130.099202</td><td>null</td><td>1.2241e9</td><td>3.815581</td><td>3.735636</td><td>3.841642</td><td>null</td><td>null</td><td>3.743701</td><td>3.79286</td><td>null</td><td>7.042387</td><td>21712.794279</td></tr><tr><td>&quot;std&quot;</td><td>5578.103987</td><td>null</td><td>7.6544e7</td><td>0.720622</td><td>0.697617</td><td>0.616093</td><td>null</td><td>null</td><td>0.682218</td><td>0.73197</td><td>null</td><td>2.322526</td><td>21818.335997</td></tr><tr><td>&quot;min&quot;</td><td>1.0</td><td>&quot;&quot;</td><td>8.40672001e8</td><td>0.0</td><td>1.0</td><td>0.0</td><td>&quot;0110x011&quot;</td><td>&quot;Altbier&quot;</td><td>1.0</td><td>1.0</td><td>&quot;! (Old Ale)&quot;</td><td>0.01</td><td>3.0</td></tr><tr><td>&quot;max&quot;</td><td>28003.0</td><td>&quot;Łódzkie Browar…</td><td>1.3263e9</td><td>5.0</td><td>5.0</td><td>5.0</td><td>&quot;zzajjber&quot;</td><td>&quot;Witbier&quot;</td><td>5.0</td><td>5.0</td><td>&quot;葉山ビール (Hayama …</td><td>57.7</td><td>77317.0</td></tr><tr><td>&quot;median&quot;</td><td>429.0</td><td>null</td><td>1.2392e9</td><td>4.0</td><td>4.0</td><td>4.0</td><td>null</td><td>null</td><td>4.0</td><td>4.0</td><td>null</td><td>6.5</td><td>13906.0</td></tr><tr><td>&quot;25%&quot;</td><td>143.0</td><td>null</td><td>1.1732e9</td><td>3.5</td><td>3.5</td><td>3.5</td><td>null</td><td>null</td><td>3.5</td><td>3.5</td><td>null</td><td>5.2</td><td>1717.0</td></tr><tr><td>&quot;75%&quot;</td><td>2372.0</td><td>null</td><td>1.2886e9</td><td>4.5</td><td>4.0</td><td>4.0</td><td>null</td><td>null</td><td>4.0</td><td>4.5</td><td>null</td><td>8.5</td><td>39441.0</td></tr></tbody></table></div>"
      ],
      "text/plain": [
       "shape: (9, 14)\n",
       "┌───────────┬──────────┬────────────┬───────────┬───┬────────────┬─────────┬───────────┬───────────┐\n",
       "│ describe  ┆ brewery_ ┆ brewery_na ┆ review_ti ┆ … ┆ review_tas ┆ beer_na ┆ beer_abv  ┆ beer_beer │\n",
       "│ ---       ┆ id       ┆ me         ┆ me        ┆   ┆ te         ┆ me      ┆ ---       ┆ id        │\n",
       "│ str       ┆ ---      ┆ ---        ┆ ---       ┆   ┆ ---        ┆ ---     ┆ f64       ┆ ---       │\n",
       "│           ┆ f64      ┆ str        ┆ f64       ┆   ┆ f64        ┆ str     ┆           ┆ f64       │\n",
       "╞═══════════╪══════════╪════════════╪═══════════╪═══╪════════════╪═════════╪═══════════╪═══════════╡\n",
       "│ count     ┆ 1.586614 ┆ 1586614    ┆ 1.586614e ┆ … ┆ 1.586614e6 ┆ 1586614 ┆ 1.586614e ┆ 1.586614e │\n",
       "│           ┆ e6       ┆            ┆ 6         ┆   ┆            ┆         ┆ 6         ┆ 6         │\n",
       "│ null_coun ┆ 0.0      ┆ 0          ┆ 0.0       ┆ … ┆ 0.0        ┆ 0       ┆ 67785.0   ┆ 0.0       │\n",
       "│ t         ┆          ┆            ┆           ┆   ┆            ┆         ┆           ┆           │\n",
       "│ mean      ┆ 3130.099 ┆ null       ┆ 1.2241e9  ┆ … ┆ 3.79286    ┆ null    ┆ 7.042387  ┆ 21712.794 │\n",
       "│           ┆ 202      ┆            ┆           ┆   ┆            ┆         ┆           ┆ 279       │\n",
       "│ std       ┆ 5578.103 ┆ null       ┆ 7.6544e7  ┆ … ┆ 0.73197    ┆ null    ┆ 2.322526  ┆ 21818.335 │\n",
       "│           ┆ 987      ┆            ┆           ┆   ┆            ┆         ┆           ┆ 997       │\n",
       "│ min       ┆ 1.0      ┆            ┆ 8.4067200 ┆ … ┆ 1.0        ┆ ! (Old  ┆ 0.01      ┆ 3.0       │\n",
       "│           ┆          ┆            ┆ 1e8       ┆   ┆            ┆ Ale)    ┆           ┆           │\n",
       "│ max       ┆ 28003.0  ┆ Łódzkie    ┆ 1.3263e9  ┆ … ┆ 5.0        ┆ 葉山ビ  ┆ 57.7      ┆ 77317.0   │\n",
       "│           ┆          ┆ Browary    ┆           ┆   ┆            ┆ ール    ┆           ┆           │\n",
       "│           ┆          ┆ S.A.       ┆           ┆   ┆            ┆ (Hayama ┆           ┆           │\n",
       "│           ┆          ┆            ┆           ┆   ┆            ┆ Beer)   ┆           ┆           │\n",
       "│ median    ┆ 429.0    ┆ null       ┆ 1.2392e9  ┆ … ┆ 4.0        ┆ null    ┆ 6.5       ┆ 13906.0   │\n",
       "│ 25%       ┆ 143.0    ┆ null       ┆ 1.1732e9  ┆ … ┆ 3.5        ┆ null    ┆ 5.2       ┆ 1717.0    │\n",
       "│ 75%       ┆ 2372.0   ┆ null       ┆ 1.2886e9  ┆ … ┆ 4.5        ┆ null    ┆ 8.5       ┆ 39441.0   │\n",
       "└───────────┴──────────┴────────────┴───────────┴───┴────────────┴─────────┴───────────┴───────────┘"
      ]
     },
     "execution_count": 21,
     "metadata": {},
     "output_type": "execute_result"
    }
   ],
   "source": [
    "df.describe()"
   ]
  },
  {
   "attachments": {},
   "cell_type": "markdown",
   "metadata": {},
   "source": [
    "## Seleccionando Columnas del DF\n",
    "\n",
    "Polars usa otros metodos para obtener los datos de la columna o columnas, si usamos `[]` como en Pandas es considerado un antipatron, sin embargo podemos hacer uso de los `[]`. \n",
    "\n",
    "No hay notación punto, así que no habra que preocuparse de columnas/variables con nombres con caracteres especiales."
   ]
  },
  {
   "attachments": {},
   "cell_type": "markdown",
   "metadata": {},
   "source": [
    "### Seleccionando una columna\n",
    "\n",
    "Para seleccionar una columna tenemos 2 maneras de hacerlo.\n",
    "La primera forma es usar el método `select` y dentro colocar la columna/variable que deseamos obtener usando `pl.col`.\n",
    "\n",
    "\n",
    "```python\n",
    "selected_col = df.select(pl.col(\"col_name\"))\n",
    "\n",
    "selected_col = df.select(\"col_name\")\n",
    "```\n",
    "\n",
    "La segunda forma de seleccionar la columna, es hacerlo como en Pandas, sin embargo, esto es considerado como un antipatron en Polars.\n",
    "\n",
    "```python\n",
    "# No es recomendado, pero podemos usar [col_name] como en pandas\n",
    "selected_col = df[\"col_name\"]\n",
    "```"
   ]
  },
  {
   "cell_type": "code",
   "execution_count": 22,
   "metadata": {},
   "outputs": [
    {
     "data": {
      "text/html": [
       "<div><style>\n",
       ".dataframe > thead > tr > th,\n",
       ".dataframe > tbody > tr > td {\n",
       "  text-align: right;\n",
       "}\n",
       "</style>\n",
       "<small>shape: (5_743, 1)</small><table border=\"1\" class=\"dataframe\"><thead><tr><th>brewery_name</th></tr><tr><td>str</td></tr></thead><tbody><tr><td>&quot;Brouwerij Slag…</td></tr><tr><td>&quot;Big Time Brewe…</td></tr><tr><td>&quot;Eskilstuna Ölk…</td></tr><tr><td>&quot;Off The Rail B…</td></tr><tr><td>&quot;Rocky Run Tap …</td></tr><tr><td>&quot;Brauerei Josef…</td></tr><tr><td>&quot;Brauerei Gotha…</td></tr><tr><td>&quot;The Caledonian…</td></tr><tr><td>&quot;Heinzelmännche…</td></tr><tr><td>&quot;Beach Brewing …</td></tr><tr><td>&quot;Walking Man Br…</td></tr><tr><td>&quot;Hertel Brauver…</td></tr><tr><td>&hellip;</td></tr><tr><td>&quot;Desert Edge Br…</td></tr><tr><td>&quot;Hepworth &amp; Co.…</td></tr><tr><td>&quot;Independent Di…</td></tr><tr><td>&quot;Brewery Urpin …</td></tr><tr><td>&quot;Pivovar Ostrav…</td></tr><tr><td>&quot;Earth Bread + …</td></tr><tr><td>&quot;Ottakringer Br…</td></tr><tr><td>&quot;Mac&#x27;s Brewery&quot;</td></tr><tr><td>&quot;Bierhalle&quot;</td></tr><tr><td>&quot;Langham Brewer…</td></tr><tr><td>&quot;Brauerei Göss …</td></tr><tr><td>&quot;Swan On The Gr…</td></tr></tbody></table></div>"
      ],
      "text/plain": [
       "shape: (5_743, 1)\n",
       "┌─────────────────────────────┐\n",
       "│ brewery_name                │\n",
       "│ ---                         │\n",
       "│ str                         │\n",
       "╞═════════════════════════════╡\n",
       "│ Brouwerij Slaghmuylder      │\n",
       "│ Big Time Brewery & Alehouse │\n",
       "│ Eskilstuna Ölkultur         │\n",
       "│ Off The Rail Brewery        │\n",
       "│ …                           │\n",
       "│ Bierhalle                   │\n",
       "│ Langham Brewery             │\n",
       "│ Brauerei Göss (Brau Union)  │\n",
       "│ Swan On The Green, The      │\n",
       "└─────────────────────────────┘"
      ]
     },
     "execution_count": 22,
     "metadata": {},
     "output_type": "execute_result"
    }
   ],
   "source": [
    "df.select(\"brewery_name\").unique()"
   ]
  },
  {
   "cell_type": "code",
   "execution_count": 23,
   "metadata": {},
   "outputs": [
    {
     "data": {
      "text/html": [
       "<div><style>\n",
       ".dataframe > thead > tr > th,\n",
       ".dataframe > tbody > tr > td {\n",
       "  text-align: right;\n",
       "}\n",
       "</style>\n",
       "<small>shape: (5_743, 1)</small><table border=\"1\" class=\"dataframe\"><thead><tr><th>brewery_name</th></tr><tr><td>str</td></tr></thead><tbody><tr><td>&quot;Bavarian Barba…</td></tr><tr><td>&quot;Lost Duck Brew…</td></tr><tr><td>&quot;Barley and Hop…</td></tr><tr><td>&quot;Hebei Lanbei L…</td></tr><tr><td>&quot;Lucette Brewin…</td></tr><tr><td>&quot;Brasserie Du C…</td></tr><tr><td>&quot;Neustadt Sprin…</td></tr><tr><td>&quot;Eight Degrees …</td></tr><tr><td>&quot;Brok Brewery&quot;</td></tr><tr><td>&quot;Comanche Creek…</td></tr><tr><td>&quot;Goulburn Brewe…</td></tr><tr><td>&quot;Kross Microbre…</td></tr><tr><td>&hellip;</td></tr><tr><td>&quot;Ishikari Banya…</td></tr><tr><td>&quot;Stadtbrauerei …</td></tr><tr><td>&quot;Blue House Med…</td></tr><tr><td>&quot;Passport Brewh…</td></tr><tr><td>&quot;Blindmans Brew…</td></tr><tr><td>&quot;Fortiverd&quot;</td></tr><tr><td>&quot;Engelbräu Rett…</td></tr><tr><td>&quot;Zum Löwenbräu&quot;</td></tr><tr><td>&quot;Skytop Steakho…</td></tr><tr><td>&quot;The Doodle Bre…</td></tr><tr><td>&quot;Brauerei  Gast…</td></tr><tr><td>&quot;Scharers Littl…</td></tr></tbody></table></div>"
      ],
      "text/plain": [
       "shape: (5_743, 1)\n",
       "┌───────────────────────────────────┐\n",
       "│ brewery_name                      │\n",
       "│ ---                               │\n",
       "│ str                               │\n",
       "╞═══════════════════════════════════╡\n",
       "│ Bavarian Barbarian Brewing Compa… │\n",
       "│ Lost Duck Brewpub                 │\n",
       "│ Barley and Hops Grill & Microbre… │\n",
       "│ Hebei Lanbei Liquor Group         │\n",
       "│ …                                 │\n",
       "│ Skytop Steakhouse                 │\n",
       "│ The Doodle Brewing Company        │\n",
       "│ Brauerei  Gasthof Höhn            │\n",
       "│ Scharers Little Brewery           │\n",
       "└───────────────────────────────────┘"
      ]
     },
     "execution_count": 23,
     "metadata": {},
     "output_type": "execute_result"
    }
   ],
   "source": [
    "df.select(\n",
    "    pl.col(\"brewery_name\").unique()\n",
    ")"
   ]
  },
  {
   "cell_type": "code",
   "execution_count": 25,
   "metadata": {},
   "outputs": [
    {
     "name": "stdout",
     "output_type": "stream",
     "text": [
      "148 ms ± 363 µs per loop (mean ± std. dev. of 7 runs, 10 loops each)\n"
     ]
    }
   ],
   "source": [
    "%%timeit\n",
    "breweries = df.select(\n",
    "    pl.col(\"brewery_name\").unique()\n",
    ")\n",
    "\n",
    "breweries"
   ]
  },
  {
   "cell_type": "code",
   "execution_count": 27,
   "metadata": {},
   "outputs": [
    {
     "name": "stdout",
     "output_type": "stream",
     "text": [
      "149 ms ± 296 µs per loop (mean ± std. dev. of 7 runs, 10 loops each)\n"
     ]
    }
   ],
   "source": [
    "%%timeit\n",
    "df[\"brewery_name\"].unique()"
   ]
  },
  {
   "attachments": {},
   "cell_type": "markdown",
   "metadata": {},
   "source": [
    "### Seleccionando multiples columnas\n",
    "\n",
    "Para seleccionar varias columnas, usaremos `pl.col` pero en lugar de pasar el nombre de columna/variable, pasaremos como argumento una lista con las columnas a seleccionar([]). \n",
    "De esta manera crearemos un subconjunto del DataFrame\n",
    "\n",
    "```python\n",
    "sub_df = df.select(['col_1', 'col_2'])\n",
    "\n",
    "sub_df = df.select(pl.col(['col_1', 'col_2']))\n",
    "\n",
    "sub_df = df.select(\n",
    "    pl.col('col_1'), \n",
    "    pl.col('col_2')\n",
    ")\n",
    "\n",
    "\n",
    "subdf\n",
    "```\n",
    "\n",
    "Si quisieras seleccionar todas usamos `*` o `pl.all()`\n",
    "\n",
    "```python\n",
    "sub_df = df.select(pl.col('*'))\n",
    "subdf\n",
    "```"
   ]
  },
  {
   "cell_type": "code",
   "execution_count": 28,
   "metadata": {},
   "outputs": [
    {
     "data": {
      "text/html": [
       "<div><style>\n",
       ".dataframe > thead > tr > th,\n",
       ".dataframe > tbody > tr > td {\n",
       "  text-align: right;\n",
       "}\n",
       "</style>\n",
       "<small>shape: (3, 2)</small><table border=\"1\" class=\"dataframe\"><thead><tr><th>brewery_name</th><th>beer_name</th></tr><tr><td>str</td><td>str</td></tr></thead><tbody><tr><td>&quot;Vecchio Birrai…</td><td>&quot;Sausa Weizen&quot;</td></tr><tr><td>&quot;Vecchio Birrai…</td><td>&quot;Red Moon&quot;</td></tr><tr><td>&quot;Vecchio Birrai…</td><td>&quot;Black Horse Bl…</td></tr></tbody></table></div>"
      ],
      "text/plain": [
       "shape: (3, 2)\n",
       "┌─────────────────┬────────────────────────┐\n",
       "│ brewery_name    ┆ beer_name              │\n",
       "│ ---             ┆ ---                    │\n",
       "│ str             ┆ str                    │\n",
       "╞═════════════════╪════════════════════════╡\n",
       "│ Vecchio Birraio ┆ Sausa Weizen           │\n",
       "│ Vecchio Birraio ┆ Red Moon               │\n",
       "│ Vecchio Birraio ┆ Black Horse Black Beer │\n",
       "└─────────────────┴────────────────────────┘"
      ]
     },
     "execution_count": 28,
     "metadata": {},
     "output_type": "execute_result"
    }
   ],
   "source": [
    "subdf = df.select(\n",
    "    pl.col([\"brewery_name\", \"beer_name\"])\n",
    ")\n",
    "\n",
    "subdf.head(3)"
   ]
  },
  {
   "cell_type": "code",
   "execution_count": 29,
   "metadata": {},
   "outputs": [
    {
     "data": {
      "text/html": [
       "<div><style>\n",
       ".dataframe > thead > tr > th,\n",
       ".dataframe > tbody > tr > td {\n",
       "  text-align: right;\n",
       "}\n",
       "</style>\n",
       "<small>shape: (3, 13)</small><table border=\"1\" class=\"dataframe\"><thead><tr><th>brewery_id</th><th>brewery_name</th><th>review_time</th><th>review_overall</th><th>review_aroma</th><th>review_appearance</th><th>review_profilename</th><th>beer_style</th><th>review_palate</th><th>review_taste</th><th>beer_name</th><th>beer_abv</th><th>beer_beerid</th></tr><tr><td>i64</td><td>str</td><td>i64</td><td>f64</td><td>f64</td><td>f64</td><td>str</td><td>str</td><td>f64</td><td>f64</td><td>str</td><td>f64</td><td>i64</td></tr></thead><tbody><tr><td>3521</td><td>&quot;De Proefbrouwe…</td><td>1144643208</td><td>5.0</td><td>4.5</td><td>4.5</td><td>&quot;BeerPanther&quot;</td><td>&quot;Belgian Strong…</td><td>4.5</td><td>4.5</td><td>&quot;De Proef Flemi…</td><td>9.0</td><td>20679</td></tr><tr><td>13014</td><td>&quot;Surly Brewing …</td><td>1323597352</td><td>3.5</td><td>3.5</td><td>3.5</td><td>&quot;MrKennedy&quot;</td><td>&quot;American Brown…</td><td>4.5</td><td>3.5</td><td>&quot;Coffee Bender&quot;</td><td>5.1</td><td>30764</td></tr><tr><td>3820</td><td>&quot;Bozeman Brewin…</td><td>1151206880</td><td>4.0</td><td>3.0</td><td>4.0</td><td>&quot;objectivemonke…</td><td>&quot;American Pale …</td><td>4.0</td><td>3.5</td><td>&quot;Bozone Hefe We…</td><td>6.0</td><td>31306</td></tr></tbody></table></div>"
      ],
      "text/plain": [
       "shape: (3, 13)\n",
       "┌──────────┬────────────┬───────────┬────────────┬───┬────────────┬─────────┬──────────┬───────────┐\n",
       "│ brewery_ ┆ brewery_na ┆ review_ti ┆ review_ove ┆ … ┆ review_tas ┆ beer_na ┆ beer_abv ┆ beer_beer │\n",
       "│ id       ┆ me         ┆ me        ┆ rall       ┆   ┆ te         ┆ me      ┆ ---      ┆ id        │\n",
       "│ ---      ┆ ---        ┆ ---       ┆ ---        ┆   ┆ ---        ┆ ---     ┆ f64      ┆ ---       │\n",
       "│ i64      ┆ str        ┆ i64       ┆ f64        ┆   ┆ f64        ┆ str     ┆          ┆ i64       │\n",
       "╞══════════╪════════════╪═══════════╪════════════╪═══╪════════════╪═════════╪══════════╪═══════════╡\n",
       "│ 3521     ┆ De Proefbr ┆ 114464320 ┆ 5.0        ┆ … ┆ 4.5        ┆ De      ┆ 9.0      ┆ 20679     │\n",
       "│          ┆ ouwerij    ┆ 8         ┆            ┆   ┆            ┆ Proef   ┆          ┆           │\n",
       "│          ┆ (bvba      ┆           ┆            ┆   ┆            ┆ Flemish ┆          ┆           │\n",
       "│          ┆ Andelot)   ┆           ┆            ┆   ┆            ┆ Primiti ┆          ┆           │\n",
       "│          ┆            ┆           ┆            ┆   ┆            ┆ ve Wild ┆          ┆           │\n",
       "│          ┆            ┆           ┆            ┆   ┆            ┆ …       ┆          ┆           │\n",
       "│ 13014    ┆ Surly      ┆ 132359735 ┆ 3.5        ┆ … ┆ 3.5        ┆ Coffee  ┆ 5.1      ┆ 30764     │\n",
       "│          ┆ Brewing    ┆ 2         ┆            ┆   ┆            ┆ Bender  ┆          ┆           │\n",
       "│          ┆ Company    ┆           ┆            ┆   ┆            ┆         ┆          ┆           │\n",
       "│ 3820     ┆ Bozeman    ┆ 115120688 ┆ 4.0        ┆ … ┆ 3.5        ┆ Bozone  ┆ 6.0      ┆ 31306     │\n",
       "│          ┆ Brewing    ┆ 0         ┆            ┆   ┆            ┆ Hefe    ┆          ┆           │\n",
       "│          ┆ Company    ┆           ┆            ┆   ┆            ┆ Weizen  ┆          ┆           │\n",
       "└──────────┴────────────┴───────────┴────────────┴───┴────────────┴─────────┴──────────┴───────────┘"
      ]
     },
     "execution_count": 29,
     "metadata": {},
     "output_type": "execute_result"
    }
   ],
   "source": [
    "df.select(\n",
    "    pl.col(\"*\")\n",
    ").sample(3)"
   ]
  },
  {
   "attachments": {},
   "cell_type": "markdown",
   "metadata": {},
   "source": [
    "### Seleccionando por tipo de dato\n",
    "\n",
    "Polars maneja varios tipos de datos, alguno de ellos los podemos visualizar al usar `schema` sobre nuestro DataFrame y visualizar la relación columna/variable y tipo de dato que esta usa.\n",
    "Esto nos permite seleccionar las columnas en base al tipo de Dato. Por ejemplo:\n",
    "\n",
    "```python\n",
    "df.select(\n",
    "    pl.col(pl.Int64)\n",
    ")\n",
    "```\n",
    "\n",
    "\n",
    "Link: [https://pola-rs.github.io/polars-book/user-guide/concepts/data-types/](https://pola-rs.github.io/polars-book/user-guide/concepts/data-types/)"
   ]
  },
  {
   "cell_type": "code",
   "execution_count": 32,
   "metadata": {},
   "outputs": [
    {
     "data": {
      "text/html": [
       "<div><style>\n",
       ".dataframe > thead > tr > th,\n",
       ".dataframe > tbody > tr > td {\n",
       "  text-align: right;\n",
       "}\n",
       "</style>\n",
       "<small>shape: (1_586_614, 4)</small><table border=\"1\" class=\"dataframe\"><thead><tr><th>brewery_name</th><th>review_profilename</th><th>beer_style</th><th>beer_name</th></tr><tr><td>str</td><td>str</td><td>str</td><td>str</td></tr></thead><tbody><tr><td>&quot;Vecchio Birrai…</td><td>&quot;stcules&quot;</td><td>&quot;Hefeweizen&quot;</td><td>&quot;Sausa Weizen&quot;</td></tr><tr><td>&quot;Vecchio Birrai…</td><td>&quot;stcules&quot;</td><td>&quot;English Strong…</td><td>&quot;Red Moon&quot;</td></tr><tr><td>&quot;Vecchio Birrai…</td><td>&quot;stcules&quot;</td><td>&quot;Foreign / Expo…</td><td>&quot;Black Horse Bl…</td></tr><tr><td>&quot;Vecchio Birrai…</td><td>&quot;stcules&quot;</td><td>&quot;German Pilsene…</td><td>&quot;Sausa Pils&quot;</td></tr><tr><td>&quot;Caldera Brewin…</td><td>&quot;johnmichaelsen…</td><td>&quot;American Doubl…</td><td>&quot;Cauldron DIPA&quot;</td></tr><tr><td>&quot;Caldera Brewin…</td><td>&quot;oline73&quot;</td><td>&quot;Herbed / Spice…</td><td>&quot;Caldera Ginger…</td></tr><tr><td>&quot;Caldera Brewin…</td><td>&quot;Reidrover&quot;</td><td>&quot;Herbed / Spice…</td><td>&quot;Caldera Ginger…</td></tr><tr><td>&quot;Caldera Brewin…</td><td>&quot;alpinebryant&quot;</td><td>&quot;Herbed / Spice…</td><td>&quot;Caldera Ginger…</td></tr><tr><td>&quot;Caldera Brewin…</td><td>&quot;LordAdmNelson&quot;</td><td>&quot;Herbed / Spice…</td><td>&quot;Caldera Ginger…</td></tr><tr><td>&quot;Caldera Brewin…</td><td>&quot;augustgarage&quot;</td><td>&quot;Herbed / Spice…</td><td>&quot;Caldera Ginger…</td></tr><tr><td>&quot;Amstel Brouwer…</td><td>&quot;fodeeoz&quot;</td><td>&quot;Light Lager&quot;</td><td>&quot;Amstel Light&quot;</td></tr><tr><td>&quot;Caldera Brewin…</td><td>&quot;MadeInOregon&quot;</td><td>&quot;Herbed / Spice…</td><td>&quot;Caldera Ginger…</td></tr><tr><td>&hellip;</td><td>&hellip;</td><td>&hellip;</td><td>&hellip;</td></tr><tr><td>&quot;The Defiant Br…</td><td>&quot;asabreed&quot;</td><td>&quot;Pumpkin Ale&quot;</td><td>&quot;The Horseman&#x27;s…</td></tr><tr><td>&quot;The Defiant Br…</td><td>&quot;infi&quot;</td><td>&quot;Pumpkin Ale&quot;</td><td>&quot;The Horseman&#x27;s…</td></tr><tr><td>&quot;The Defiant Br…</td><td>&quot;njmoons&quot;</td><td>&quot;Pumpkin Ale&quot;</td><td>&quot;The Horseman&#x27;s…</td></tr><tr><td>&quot;The Defiant Br…</td><td>&quot;NyackNicky&quot;</td><td>&quot;Pumpkin Ale&quot;</td><td>&quot;The Horseman&#x27;s…</td></tr><tr><td>&quot;The Defiant Br…</td><td>&quot;blitheringidio…</td><td>&quot;Pumpkin Ale&quot;</td><td>&quot;The Horseman&#x27;s…</td></tr><tr><td>&quot;The Defiant Br…</td><td>&quot;PopeDX&quot;</td><td>&quot;Pumpkin Ale&quot;</td><td>&quot;The Horseman&#x27;s…</td></tr><tr><td>&quot;The Defiant Br…</td><td>&quot;treehugger0201…</td><td>&quot;Pumpkin Ale&quot;</td><td>&quot;The Horseman&#x27;s…</td></tr><tr><td>&quot;The Defiant Br…</td><td>&quot;maddogruss&quot;</td><td>&quot;Pumpkin Ale&quot;</td><td>&quot;The Horseman&#x27;s…</td></tr><tr><td>&quot;The Defiant Br…</td><td>&quot;yelterdow&quot;</td><td>&quot;Pumpkin Ale&quot;</td><td>&quot;The Horseman&#x27;s…</td></tr><tr><td>&quot;The Defiant Br…</td><td>&quot;TongoRad&quot;</td><td>&quot;Pumpkin Ale&quot;</td><td>&quot;The Horseman&#x27;s…</td></tr><tr><td>&quot;The Defiant Br…</td><td>&quot;dherling&quot;</td><td>&quot;Pumpkin Ale&quot;</td><td>&quot;The Horseman&#x27;s…</td></tr><tr><td>&quot;The Defiant Br…</td><td>&quot;cbl2&quot;</td><td>&quot;Pumpkin Ale&quot;</td><td>&quot;The Horseman&#x27;s…</td></tr></tbody></table></div>"
      ],
      "text/plain": [
       "shape: (1_586_614, 4)\n",
       "┌─────────────────────┬────────────────────┬────────────────────────┬────────────────────────┐\n",
       "│ brewery_name        ┆ review_profilename ┆ beer_style             ┆ beer_name              │\n",
       "│ ---                 ┆ ---                ┆ ---                    ┆ ---                    │\n",
       "│ str                 ┆ str                ┆ str                    ┆ str                    │\n",
       "╞═════════════════════╪════════════════════╪════════════════════════╪════════════════════════╡\n",
       "│ Vecchio Birraio     ┆ stcules            ┆ Hefeweizen             ┆ Sausa Weizen           │\n",
       "│ Vecchio Birraio     ┆ stcules            ┆ English Strong Ale     ┆ Red Moon               │\n",
       "│ Vecchio Birraio     ┆ stcules            ┆ Foreign / Export Stout ┆ Black Horse Black Beer │\n",
       "│ Vecchio Birraio     ┆ stcules            ┆ German Pilsener        ┆ Sausa Pils             │\n",
       "│ …                   ┆ …                  ┆ …                      ┆ …                      │\n",
       "│ The Defiant Brewing ┆ yelterdow          ┆ Pumpkin Ale            ┆ The Horseman's Ale     │\n",
       "│ Company             ┆                    ┆                        ┆                        │\n",
       "│ The Defiant Brewing ┆ TongoRad           ┆ Pumpkin Ale            ┆ The Horseman's Ale     │\n",
       "│ Company             ┆                    ┆                        ┆                        │\n",
       "│ The Defiant Brewing ┆ dherling           ┆ Pumpkin Ale            ┆ The Horseman's Ale     │\n",
       "│ Company             ┆                    ┆                        ┆                        │\n",
       "│ The Defiant Brewing ┆ cbl2               ┆ Pumpkin Ale            ┆ The Horseman's Ale     │\n",
       "│ Company             ┆                    ┆                        ┆                        │\n",
       "└─────────────────────┴────────────────────┴────────────────────────┴────────────────────────┘"
      ]
     },
     "execution_count": 32,
     "metadata": {},
     "output_type": "execute_result"
    }
   ],
   "source": [
    "df.select(\n",
    "    pl.col(pl.Utf8)\n",
    ")"
   ]
  },
  {
   "cell_type": "code",
   "execution_count": 33,
   "metadata": {},
   "outputs": [
    {
     "data": {
      "text/html": [
       "<div><style>\n",
       ".dataframe > thead > tr > th,\n",
       ".dataframe > tbody > tr > td {\n",
       "  text-align: right;\n",
       "}\n",
       "</style>\n",
       "<small>shape: (1_586_614, 4)</small><table border=\"1\" class=\"dataframe\"><thead><tr><th>brewery_name</th><th>brewery_id</th><th>review_time</th><th>beer_beerid</th></tr><tr><td>str</td><td>i64</td><td>i64</td><td>i64</td></tr></thead><tbody><tr><td>&quot;Vecchio Birrai…</td><td>10325</td><td>1234817823</td><td>47986</td></tr><tr><td>&quot;Vecchio Birrai…</td><td>10325</td><td>1235915097</td><td>48213</td></tr><tr><td>&quot;Vecchio Birrai…</td><td>10325</td><td>1235916604</td><td>48215</td></tr><tr><td>&quot;Vecchio Birrai…</td><td>10325</td><td>1234725145</td><td>47969</td></tr><tr><td>&quot;Caldera Brewin…</td><td>1075</td><td>1293735206</td><td>64883</td></tr><tr><td>&quot;Caldera Brewin…</td><td>1075</td><td>1325524659</td><td>52159</td></tr><tr><td>&quot;Caldera Brewin…</td><td>1075</td><td>1318991115</td><td>52159</td></tr><tr><td>&quot;Caldera Brewin…</td><td>1075</td><td>1306276018</td><td>52159</td></tr><tr><td>&quot;Caldera Brewin…</td><td>1075</td><td>1290454503</td><td>52159</td></tr><tr><td>&quot;Caldera Brewin…</td><td>1075</td><td>1285632924</td><td>52159</td></tr><tr><td>&quot;Amstel Brouwer…</td><td>163</td><td>1010963392</td><td>436</td></tr><tr><td>&quot;Caldera Brewin…</td><td>1075</td><td>1283154365</td><td>52159</td></tr><tr><td>&hellip;</td><td>&hellip;</td><td>&hellip;</td><td>&hellip;</td></tr><tr><td>&quot;The Defiant Br…</td><td>14359</td><td>1291054144</td><td>33061</td></tr><tr><td>&quot;The Defiant Br…</td><td>14359</td><td>1289366204</td><td>33061</td></tr><tr><td>&quot;The Defiant Br…</td><td>14359</td><td>1288890206</td><td>33061</td></tr><tr><td>&quot;The Defiant Br…</td><td>14359</td><td>1163291143</td><td>33061</td></tr><tr><td>&quot;The Defiant Br…</td><td>14359</td><td>1162871808</td><td>33061</td></tr><tr><td>&quot;The Defiant Br…</td><td>14359</td><td>1162865640</td><td>33061</td></tr><tr><td>&quot;The Defiant Br…</td><td>14359</td><td>1162685856</td><td>33061</td></tr><tr><td>&quot;The Defiant Br…</td><td>14359</td><td>1162684892</td><td>33061</td></tr><tr><td>&quot;The Defiant Br…</td><td>14359</td><td>1161048566</td><td>33061</td></tr><tr><td>&quot;The Defiant Br…</td><td>14359</td><td>1160702513</td><td>33061</td></tr><tr><td>&quot;The Defiant Br…</td><td>14359</td><td>1160023044</td><td>33061</td></tr><tr><td>&quot;The Defiant Br…</td><td>14359</td><td>1160005319</td><td>33061</td></tr></tbody></table></div>"
      ],
      "text/plain": [
       "shape: (1_586_614, 4)\n",
       "┌─────────────────────────────┬────────────┬─────────────┬─────────────┐\n",
       "│ brewery_name                ┆ brewery_id ┆ review_time ┆ beer_beerid │\n",
       "│ ---                         ┆ ---        ┆ ---         ┆ ---         │\n",
       "│ str                         ┆ i64        ┆ i64         ┆ i64         │\n",
       "╞═════════════════════════════╪════════════╪═════════════╪═════════════╡\n",
       "│ Vecchio Birraio             ┆ 10325      ┆ 1234817823  ┆ 47986       │\n",
       "│ Vecchio Birraio             ┆ 10325      ┆ 1235915097  ┆ 48213       │\n",
       "│ Vecchio Birraio             ┆ 10325      ┆ 1235916604  ┆ 48215       │\n",
       "│ Vecchio Birraio             ┆ 10325      ┆ 1234725145  ┆ 47969       │\n",
       "│ …                           ┆ …          ┆ …           ┆ …           │\n",
       "│ The Defiant Brewing Company ┆ 14359      ┆ 1161048566  ┆ 33061       │\n",
       "│ The Defiant Brewing Company ┆ 14359      ┆ 1160702513  ┆ 33061       │\n",
       "│ The Defiant Brewing Company ┆ 14359      ┆ 1160023044  ┆ 33061       │\n",
       "│ The Defiant Brewing Company ┆ 14359      ┆ 1160005319  ┆ 33061       │\n",
       "└─────────────────────────────┴────────────┴─────────────┴─────────────┘"
      ]
     },
     "execution_count": 33,
     "metadata": {},
     "output_type": "execute_result"
    }
   ],
   "source": [
    "df.select(\n",
    "    [pl.col(\"brewery_name\"), pl.col(pl.Int64)]\n",
    ")"
   ]
  },
  {
   "attachments": {},
   "cell_type": "markdown",
   "metadata": {},
   "source": [
    "### Seleccionando por indice"
   ]
  },
  {
   "cell_type": "code",
   "execution_count": 34,
   "metadata": {},
   "outputs": [
    {
     "ename": "AttributeError",
     "evalue": "'DataFrame' object has no attribute 'iloc'",
     "output_type": "error",
     "traceback": [
      "\u001b[0;31m---------------------------------------------------------------------------\u001b[0m",
      "\u001b[0;31mAttributeError\u001b[0m                            Traceback (most recent call last)",
      "Cell \u001b[0;32mIn[34], line 1\u001b[0m\n\u001b[0;32m----> 1\u001b[0m df\u001b[39m.\u001b[39;49miloc[:, :]\n",
      "\u001b[0;31mAttributeError\u001b[0m: 'DataFrame' object has no attribute 'iloc'"
     ]
    }
   ],
   "source": [
    "df.iloc[:, :]"
   ]
  },
  {
   "attachments": {},
   "cell_type": "markdown",
   "metadata": {},
   "source": [
    "![alt](https://www.descargarstickers.com/publico/static/src_img/2020/05/445560.png)"
   ]
  },
  {
   "cell_type": "code",
   "execution_count": 35,
   "metadata": {},
   "outputs": [
    {
     "data": {
      "text/plain": [
       "(10325,\n",
       " 'Vecchio Birraio',\n",
       " 1234817823,\n",
       " 1.5,\n",
       " 2.0,\n",
       " 2.5,\n",
       " 'stcules',\n",
       " 'Hefeweizen',\n",
       " 1.5,\n",
       " 1.5,\n",
       " 'Sausa Weizen',\n",
       " 5.0,\n",
       " 47986)"
      ]
     },
     "execution_count": 35,
     "metadata": {},
     "output_type": "execute_result"
    }
   ],
   "source": [
    "df.row(0)"
   ]
  },
  {
   "cell_type": "code",
   "execution_count": 36,
   "metadata": {},
   "outputs": [
    {
     "data": {
      "text/plain": [
       "{'brewery_id': 10325,\n",
       " 'brewery_name': 'Vecchio Birraio',\n",
       " 'review_time': 1234817823,\n",
       " 'review_overall': 1.5,\n",
       " 'review_aroma': 2.0,\n",
       " 'review_appearance': 2.5,\n",
       " 'review_profilename': 'stcules',\n",
       " 'beer_style': 'Hefeweizen',\n",
       " 'review_palate': 1.5,\n",
       " 'review_taste': 1.5,\n",
       " 'beer_name': 'Sausa Weizen',\n",
       " 'beer_abv': 5.0,\n",
       " 'beer_beerid': 47986}"
      ]
     },
     "execution_count": 36,
     "metadata": {},
     "output_type": "execute_result"
    }
   ],
   "source": [
    "df.row(0, named=True)"
   ]
  },
  {
   "cell_type": "code",
   "execution_count": 40,
   "metadata": {},
   "outputs": [
    {
     "data": {
      "text/plain": [
       "{'brewery_id': 10325,\n",
       " 'brewery_name': 'Vecchio Birraio',\n",
       " 'review_time': 1234817823,\n",
       " 'review_overall': 1.5,\n",
       " 'review_aroma': 2.0,\n",
       " 'review_appearance': 2.5,\n",
       " 'review_profilename': 'stcules',\n",
       " 'beer_style': 'Hefeweizen',\n",
       " 'review_palate': 1.5,\n",
       " 'review_taste': 1.5,\n",
       " 'beer_name': 'Sausa Weizen',\n",
       " 'beer_abv': 5.0,\n",
       " 'beer_beerid': 47986}"
      ]
     },
     "execution_count": 40,
     "metadata": {},
     "output_type": "execute_result"
    }
   ],
   "source": [
    "df.row(by_predicate=((pl.col(\"brewery_name\") == \"Vecchio Birraio\") & (pl.col(\"beer_beerid\") == 47986)), named=True)"
   ]
  },
  {
   "cell_type": "code",
   "execution_count": 41,
   "metadata": {},
   "outputs": [
    {
     "data": {
      "text/html": [
       "<div><style>\n",
       ".dataframe > thead > tr > th,\n",
       ".dataframe > tbody > tr > td {\n",
       "  text-align: right;\n",
       "}\n",
       "</style>\n",
       "<small>shape: (3, 13)</small><table border=\"1\" class=\"dataframe\"><thead><tr><th>brewery_id</th><th>brewery_name</th><th>review_time</th><th>review_overall</th><th>review_aroma</th><th>review_appearance</th><th>review_profilename</th><th>beer_style</th><th>review_palate</th><th>review_taste</th><th>beer_name</th><th>beer_abv</th><th>beer_beerid</th></tr><tr><td>i64</td><td>str</td><td>i64</td><td>f64</td><td>f64</td><td>f64</td><td>str</td><td>str</td><td>f64</td><td>f64</td><td>str</td><td>f64</td><td>i64</td></tr></thead><tbody><tr><td>10325</td><td>&quot;Vecchio Birrai…</td><td>1234817823</td><td>1.5</td><td>2.0</td><td>2.5</td><td>&quot;stcules&quot;</td><td>&quot;Hefeweizen&quot;</td><td>1.5</td><td>1.5</td><td>&quot;Sausa Weizen&quot;</td><td>5.0</td><td>47986</td></tr><tr><td>10325</td><td>&quot;Vecchio Birrai…</td><td>1235915097</td><td>3.0</td><td>2.5</td><td>3.0</td><td>&quot;stcules&quot;</td><td>&quot;English Strong…</td><td>3.0</td><td>3.0</td><td>&quot;Red Moon&quot;</td><td>6.2</td><td>48213</td></tr><tr><td>10325</td><td>&quot;Vecchio Birrai…</td><td>1235916604</td><td>3.0</td><td>2.5</td><td>3.0</td><td>&quot;stcules&quot;</td><td>&quot;Foreign / Expo…</td><td>3.0</td><td>3.0</td><td>&quot;Black Horse Bl…</td><td>6.5</td><td>48215</td></tr></tbody></table></div>"
      ],
      "text/plain": [
       "shape: (3, 13)\n",
       "┌──────────┬────────────┬───────────┬────────────┬───┬────────────┬─────────┬──────────┬───────────┐\n",
       "│ brewery_ ┆ brewery_na ┆ review_ti ┆ review_ove ┆ … ┆ review_tas ┆ beer_na ┆ beer_abv ┆ beer_beer │\n",
       "│ id       ┆ me         ┆ me        ┆ rall       ┆   ┆ te         ┆ me      ┆ ---      ┆ id        │\n",
       "│ ---      ┆ ---        ┆ ---       ┆ ---        ┆   ┆ ---        ┆ ---     ┆ f64      ┆ ---       │\n",
       "│ i64      ┆ str        ┆ i64       ┆ f64        ┆   ┆ f64        ┆ str     ┆          ┆ i64       │\n",
       "╞══════════╪════════════╪═══════════╪════════════╪═══╪════════════╪═════════╪══════════╪═══════════╡\n",
       "│ 10325    ┆ Vecchio    ┆ 123481782 ┆ 1.5        ┆ … ┆ 1.5        ┆ Sausa   ┆ 5.0      ┆ 47986     │\n",
       "│          ┆ Birraio    ┆ 3         ┆            ┆   ┆            ┆ Weizen  ┆          ┆           │\n",
       "│ 10325    ┆ Vecchio    ┆ 123591509 ┆ 3.0        ┆ … ┆ 3.0        ┆ Red     ┆ 6.2      ┆ 48213     │\n",
       "│          ┆ Birraio    ┆ 7         ┆            ┆   ┆            ┆ Moon    ┆          ┆           │\n",
       "│ 10325    ┆ Vecchio    ┆ 123591660 ┆ 3.0        ┆ … ┆ 3.0        ┆ Black   ┆ 6.5      ┆ 48215     │\n",
       "│          ┆ Birraio    ┆ 4         ┆            ┆   ┆            ┆ Horse   ┆          ┆           │\n",
       "│          ┆            ┆           ┆            ┆   ┆            ┆ Black   ┆          ┆           │\n",
       "│          ┆            ┆           ┆            ┆   ┆            ┆ Beer    ┆          ┆           │\n",
       "└──────────┴────────────┴───────────┴────────────┴───┴────────────┴─────────┴──────────┴───────────┘"
      ]
     },
     "execution_count": 41,
     "metadata": {},
     "output_type": "execute_result"
    }
   ],
   "source": [
    "df.head(3)"
   ]
  },
  {
   "cell_type": "code",
   "execution_count": 42,
   "metadata": {},
   "outputs": [
    {
     "data": {
      "text/html": [
       "<div><style>\n",
       ".dataframe > thead > tr > th,\n",
       ".dataframe > tbody > tr > td {\n",
       "  text-align: right;\n",
       "}\n",
       "</style>\n",
       "<small>shape: (3, 13)</small><table border=\"1\" class=\"dataframe\"><thead><tr><th>brewery_id</th><th>brewery_name</th><th>review_time</th><th>review_overall</th><th>review_aroma</th><th>review_appearance</th><th>review_profilename</th><th>beer_style</th><th>review_palate</th><th>review_taste</th><th>beer_name</th><th>beer_abv</th><th>beer_beerid</th></tr><tr><td>i64</td><td>str</td><td>i64</td><td>f64</td><td>f64</td><td>f64</td><td>str</td><td>str</td><td>f64</td><td>f64</td><td>str</td><td>f64</td><td>i64</td></tr></thead><tbody><tr><td>10325</td><td>&quot;Vecchio Birrai…</td><td>1234817823</td><td>1.5</td><td>2.0</td><td>2.5</td><td>&quot;stcules&quot;</td><td>&quot;Hefeweizen&quot;</td><td>1.5</td><td>1.5</td><td>&quot;Sausa Weizen&quot;</td><td>5.0</td><td>47986</td></tr><tr><td>10325</td><td>&quot;Vecchio Birrai…</td><td>1235915097</td><td>3.0</td><td>2.5</td><td>3.0</td><td>&quot;stcules&quot;</td><td>&quot;English Strong…</td><td>3.0</td><td>3.0</td><td>&quot;Red Moon&quot;</td><td>6.2</td><td>48213</td></tr><tr><td>10325</td><td>&quot;Vecchio Birrai…</td><td>1235916604</td><td>3.0</td><td>2.5</td><td>3.0</td><td>&quot;stcules&quot;</td><td>&quot;Foreign / Expo…</td><td>3.0</td><td>3.0</td><td>&quot;Black Horse Bl…</td><td>6.5</td><td>48215</td></tr></tbody></table></div>"
      ],
      "text/plain": [
       "shape: (3, 13)\n",
       "┌──────────┬────────────┬───────────┬────────────┬───┬────────────┬─────────┬──────────┬───────────┐\n",
       "│ brewery_ ┆ brewery_na ┆ review_ti ┆ review_ove ┆ … ┆ review_tas ┆ beer_na ┆ beer_abv ┆ beer_beer │\n",
       "│ id       ┆ me         ┆ me        ┆ rall       ┆   ┆ te         ┆ me      ┆ ---      ┆ id        │\n",
       "│ ---      ┆ ---        ┆ ---       ┆ ---        ┆   ┆ ---        ┆ ---     ┆ f64      ┆ ---       │\n",
       "│ i64      ┆ str        ┆ i64       ┆ f64        ┆   ┆ f64        ┆ str     ┆          ┆ i64       │\n",
       "╞══════════╪════════════╪═══════════╪════════════╪═══╪════════════╪═════════╪══════════╪═══════════╡\n",
       "│ 10325    ┆ Vecchio    ┆ 123481782 ┆ 1.5        ┆ … ┆ 1.5        ┆ Sausa   ┆ 5.0      ┆ 47986     │\n",
       "│          ┆ Birraio    ┆ 3         ┆            ┆   ┆            ┆ Weizen  ┆          ┆           │\n",
       "│ 10325    ┆ Vecchio    ┆ 123591509 ┆ 3.0        ┆ … ┆ 3.0        ┆ Red     ┆ 6.2      ┆ 48213     │\n",
       "│          ┆ Birraio    ┆ 7         ┆            ┆   ┆            ┆ Moon    ┆          ┆           │\n",
       "│ 10325    ┆ Vecchio    ┆ 123591660 ┆ 3.0        ┆ … ┆ 3.0        ┆ Black   ┆ 6.5      ┆ 48215     │\n",
       "│          ┆ Birraio    ┆ 4         ┆            ┆   ┆            ┆ Horse   ┆          ┆           │\n",
       "│          ┆            ┆           ┆            ┆   ┆            ┆ Black   ┆          ┆           │\n",
       "│          ┆            ┆           ┆            ┆   ┆            ┆ Beer    ┆          ┆           │\n",
       "└──────────┴────────────┴───────────┴────────────┴───┴────────────┴─────────┴──────────┴───────────┘"
      ]
     },
     "execution_count": 42,
     "metadata": {},
     "output_type": "execute_result"
    }
   ],
   "source": [
    "df[:3]"
   ]
  },
  {
   "attachments": {},
   "cell_type": "markdown",
   "metadata": {},
   "source": [
    "## Filtrando Datos\n",
    "\n",
    "Para filtrar información usaremos el método `filter` el cual recibe como argumentos `pl.col(\"columna\")` y posteriormente realizamos la operación de filtrado que deseamos aplicar a nuestros datos.\n",
    "\n",
    "```python\n",
    "df.filter(\n",
    "    pl.col(\"c\").is_between(datetime(2022, 12, 2), datetime(2022, 12, 8)),\n",
    ")\n",
    "```\n",
    "\n",
    "Tambien podemos usar los operadores logicos y de comparación sobre las columnas, y de esta manera filtrar por más columnas\n",
    "\n",
    "```python\n",
    "df.filter(\n",
    "    (pl.col(\"a\") <= 3) & (pl.col(\"d\").is_not_nan())\n",
    ")\n",
    "```\n",
    "\n",
    "\n",
    "```python\n",
    "df.filter(\n",
    "    pl.col(\"beer_name\") == \"Guinness\"\n",
    ").select(pl.col('brewery_name').unique())\n",
    "```"
   ]
  },
  {
   "cell_type": "code",
   "execution_count": 43,
   "metadata": {},
   "outputs": [
    {
     "data": {
      "text/html": [
       "<div><style>\n",
       ".dataframe > thead > tr > th,\n",
       ".dataframe > tbody > tr > td {\n",
       "  text-align: right;\n",
       "}\n",
       "</style>\n",
       "<small>shape: (1, 13)</small><table border=\"1\" class=\"dataframe\"><thead><tr><th>brewery_id</th><th>brewery_name</th><th>review_time</th><th>review_overall</th><th>review_aroma</th><th>review_appearance</th><th>review_profilename</th><th>beer_style</th><th>review_palate</th><th>review_taste</th><th>beer_name</th><th>beer_abv</th><th>beer_beerid</th></tr><tr><td>i64</td><td>str</td><td>i64</td><td>f64</td><td>f64</td><td>f64</td><td>str</td><td>str</td><td>f64</td><td>f64</td><td>str</td><td>f64</td><td>i64</td></tr></thead><tbody><tr><td>10325</td><td>&quot;Vecchio Birrai…</td><td>1235915097</td><td>3.0</td><td>2.5</td><td>3.0</td><td>&quot;stcules&quot;</td><td>&quot;English Strong…</td><td>3.0</td><td>3.0</td><td>&quot;Red Moon&quot;</td><td>6.2</td><td>48213</td></tr></tbody></table></div>"
      ],
      "text/plain": [
       "shape: (1, 13)\n",
       "┌──────────┬────────────┬───────────┬────────────┬───┬────────────┬───────────┬──────────┬───────────┐\n",
       "│ brewery_ ┆ brewery_na ┆ review_ti ┆ review_ove ┆ … ┆ review_tas ┆ beer_name ┆ beer_abv ┆ beer_beer │\n",
       "│ id       ┆ me         ┆ me        ┆ rall       ┆   ┆ te         ┆ ---       ┆ ---      ┆ id        │\n",
       "│ ---      ┆ ---        ┆ ---       ┆ ---        ┆   ┆ ---        ┆ str       ┆ f64      ┆ ---       │\n",
       "│ i64      ┆ str        ┆ i64       ┆ f64        ┆   ┆ f64        ┆           ┆          ┆ i64       │\n",
       "╞══════════╪════════════╪═══════════╪════════════╪═══╪════════════╪═══════════╪══════════╪═══════════╡\n",
       "│ 10325    ┆ Vecchio    ┆ 123591509 ┆ 3.0        ┆ … ┆ 3.0        ┆ Red Moon  ┆ 6.2      ┆ 48213     │\n",
       "│          ┆ Birraio    ┆ 7         ┆            ┆   ┆            ┆           ┆          ┆           │\n",
       "└──────────┴────────────┴───────────┴────────────┴───┴────────────┴───────────┴──────────┴───────────┘"
      ]
     },
     "execution_count": 43,
     "metadata": {},
     "output_type": "execute_result"
    }
   ],
   "source": [
    "df.filter(\n",
    "    pl.col(\"beer_name\") == \"Red Moon\"\n",
    ")"
   ]
  },
  {
   "cell_type": "code",
   "execution_count": 44,
   "metadata": {},
   "outputs": [
    {
     "data": {
      "text/html": [
       "<div><style>\n",
       ".dataframe > thead > tr > th,\n",
       ".dataframe > tbody > tr > td {\n",
       "  text-align: right;\n",
       "}\n",
       "</style>\n",
       "<small>shape: (1, 1)</small><table border=\"1\" class=\"dataframe\"><thead><tr><th>brewery_name</th></tr><tr><td>str</td></tr></thead><tbody><tr><td>&quot;Vecchio Birrai…</td></tr></tbody></table></div>"
      ],
      "text/plain": [
       "shape: (1, 1)\n",
       "┌─────────────────┐\n",
       "│ brewery_name    │\n",
       "│ ---             │\n",
       "│ str             │\n",
       "╞═════════════════╡\n",
       "│ Vecchio Birraio │\n",
       "└─────────────────┘"
      ]
     },
     "execution_count": 44,
     "metadata": {},
     "output_type": "execute_result"
    }
   ],
   "source": [
    "df.filter(\n",
    "    pl.col(\"beer_name\") == \"Red Moon\"\n",
    ").select(pl.col('brewery_name').unique())"
   ]
  },
  {
   "cell_type": "code",
   "execution_count": 45,
   "metadata": {},
   "outputs": [
    {
     "data": {
      "text/html": [
       "<div><style>\n",
       ".dataframe > thead > tr > th,\n",
       ".dataframe > tbody > tr > td {\n",
       "  text-align: right;\n",
       "}\n",
       "</style>\n",
       "<small>shape: (1, 3)</small><table border=\"1\" class=\"dataframe\"><thead><tr><th>brewery_id</th><th>review_time</th><th>beer_beerid</th></tr><tr><td>i64</td><td>i64</td><td>i64</td></tr></thead><tbody><tr><td>10325</td><td>1235915097</td><td>48213</td></tr></tbody></table></div>"
      ],
      "text/plain": [
       "shape: (1, 3)\n",
       "┌────────────┬─────────────┬─────────────┐\n",
       "│ brewery_id ┆ review_time ┆ beer_beerid │\n",
       "│ ---        ┆ ---         ┆ ---         │\n",
       "│ i64        ┆ i64         ┆ i64         │\n",
       "╞════════════╪═════════════╪═════════════╡\n",
       "│ 10325      ┆ 1235915097  ┆ 48213       │\n",
       "└────────────┴─────────────┴─────────────┘"
      ]
     },
     "execution_count": 45,
     "metadata": {},
     "output_type": "execute_result"
    }
   ],
   "source": [
    "df.filter(\n",
    "    pl.col(\"beer_name\") == \"Red Moon\"\n",
    ").select(pl.col(pl.Int64))"
   ]
  },
  {
   "attachments": {},
   "cell_type": "markdown",
   "metadata": {},
   "source": [
    "## Ordenando valores"
   ]
  },
  {
   "attachments": {},
   "cell_type": "markdown",
   "metadata": {},
   "source": [
    "Para ordenar los datos de un DataFrame de Polars, podemos usar el metodo **sort()** directamente en el DataFrame o aplicar un ordenamiento al usar `select` y usar `pl.col` el cual contiene el mismo método. Tambien recíbe como parametro el típo de ordenamiento, esto se hace agregando el parametro `descending`, el cuál recíbe como valor `True` o `False`. Por default viene configurado de manera ascendente.\n",
    "\n",
    "```python\n",
    "df.sort('columna_n')\n",
    "df.sort('columna_n', descending=False)\n",
    "```\n",
    "\n",
    "Si deseamos ordenar por más de una columna/variable, debemos realizar el ordenamiento durante la selección y aplicar el método `sort`.\n",
    "\n",
    "```python\n",
    "df.filter(pl.col(\"col_1\") != \"\").select(\n",
    "    pl.col(\"col_1\").sort(),\n",
    "    pl.col(\"col_2\"),\n",
    "    pl.col(\"col_3\").sort(descending=True)\n",
    ").head(10)\n",
    "```"
   ]
  },
  {
   "cell_type": "code",
   "execution_count": 46,
   "metadata": {},
   "outputs": [
    {
     "data": {
      "text/html": [
       "<div><style>\n",
       ".dataframe > thead > tr > th,\n",
       ".dataframe > tbody > tr > td {\n",
       "  text-align: right;\n",
       "}\n",
       "</style>\n",
       "<small>shape: (10, 13)</small><table border=\"1\" class=\"dataframe\"><thead><tr><th>brewery_id</th><th>brewery_name</th><th>review_time</th><th>review_overall</th><th>review_aroma</th><th>review_appearance</th><th>review_profilename</th><th>beer_style</th><th>review_palate</th><th>review_taste</th><th>beer_name</th><th>beer_abv</th><th>beer_beerid</th></tr><tr><td>i64</td><td>str</td><td>i64</td><td>f64</td><td>f64</td><td>f64</td><td>str</td><td>str</td><td>f64</td><td>f64</td><td>str</td><td>f64</td><td>i64</td></tr></thead><tbody><tr><td>2</td><td>&quot;Yellow Rose Br…</td><td>1047929235</td><td>4.5</td><td>4.5</td><td>4.0</td><td>&quot;MAB&quot;</td><td>&quot;American IPA&quot;</td><td>4.0</td><td>4.5</td><td>&quot;Cactus Queen I…</td><td>null</td><td>3</td></tr><tr><td>2</td><td>&quot;Yellow Rose Br…</td><td>1037795643</td><td>4.0</td><td>3.5</td><td>4.0</td><td>&quot;Morris729&quot;</td><td>&quot;American IPA&quot;</td><td>4.0</td><td>4.0</td><td>&quot;Cactus Queen I…</td><td>null</td><td>3</td></tr><tr><td>2</td><td>&quot;Yellow Rose Br…</td><td>1019075828</td><td>4.0</td><td>4.0</td><td>3.5</td><td>&quot;Jason&quot;</td><td>&quot;American IPA&quot;</td><td>4.5</td><td>4.0</td><td>&quot;Cactus Queen I…</td><td>null</td><td>3</td></tr><tr><td>2</td><td>&quot;Yellow Rose Br…</td><td>1111372706</td><td>3.0</td><td>4.5</td><td>4.5</td><td>&quot;shapudding&quot;</td><td>&quot;American Stout…</td><td>2.5</td><td>2.5</td><td>&quot;Wildcatter&#x27;s C…</td><td>null</td><td>4</td></tr><tr><td>2</td><td>&quot;Yellow Rose Br…</td><td>1110335146</td><td>3.5</td><td>3.5</td><td>3.5</td><td>&quot;allengarvin&quot;</td><td>&quot;American Stout…</td><td>4.0</td><td>3.5</td><td>&quot;Wildcatter&#x27;s C…</td><td>null</td><td>4</td></tr><tr><td>2</td><td>&quot;Yellow Rose Br…</td><td>1087912536</td><td>3.5</td><td>3.0</td><td>4.0</td><td>&quot;bditty187&quot;</td><td>&quot;American Stout…</td><td>3.5</td><td>3.0</td><td>&quot;Wildcatter&#x27;s C…</td><td>null</td><td>4</td></tr><tr><td>2</td><td>&quot;Yellow Rose Br…</td><td>1067601637</td><td>4.0</td><td>4.5</td><td>4.0</td><td>&quot;feloniousmonk&quot;</td><td>&quot;American Stout…</td><td>3.5</td><td>4.0</td><td>&quot;Wildcatter&#x27;s C…</td><td>null</td><td>4</td></tr><tr><td>2</td><td>&quot;Yellow Rose Br…</td><td>1066876922</td><td>4.5</td><td>4.0</td><td>4.0</td><td>&quot;NeroFiddled&quot;</td><td>&quot;American Stout…</td><td>4.0</td><td>4.0</td><td>&quot;Wildcatter&#x27;s C…</td><td>null</td><td>4</td></tr><tr><td>2</td><td>&quot;Yellow Rose Br…</td><td>1054498901</td><td>3.0</td><td>4.0</td><td>4.0</td><td>&quot;assurbanipaul&quot;</td><td>&quot;American Stout…</td><td>2.5</td><td>3.5</td><td>&quot;Wildcatter&#x27;s C…</td><td>null</td><td>4</td></tr><tr><td>2</td><td>&quot;Yellow Rose Br…</td><td>1051281122</td><td>5.0</td><td>4.5</td><td>5.0</td><td>&quot;AtrumAnimus&quot;</td><td>&quot;American Stout…</td><td>5.0</td><td>5.0</td><td>&quot;Wildcatter&#x27;s C…</td><td>null</td><td>4</td></tr></tbody></table></div>"
      ],
      "text/plain": [
       "shape: (10, 13)\n",
       "┌──────────┬────────────┬───────────┬────────────┬───┬────────────┬─────────┬──────────┬───────────┐\n",
       "│ brewery_ ┆ brewery_na ┆ review_ti ┆ review_ove ┆ … ┆ review_tas ┆ beer_na ┆ beer_abv ┆ beer_beer │\n",
       "│ id       ┆ me         ┆ me        ┆ rall       ┆   ┆ te         ┆ me      ┆ ---      ┆ id        │\n",
       "│ ---      ┆ ---        ┆ ---       ┆ ---        ┆   ┆ ---        ┆ ---     ┆ f64      ┆ ---       │\n",
       "│ i64      ┆ str        ┆ i64       ┆ f64        ┆   ┆ f64        ┆ str     ┆          ┆ i64       │\n",
       "╞══════════╪════════════╪═══════════╪════════════╪═══╪════════════╪═════════╪══════════╪═══════════╡\n",
       "│ 2        ┆ Yellow     ┆ 104792923 ┆ 4.5        ┆ … ┆ 4.5        ┆ Cactus  ┆ null     ┆ 3         │\n",
       "│          ┆ Rose       ┆ 5         ┆            ┆   ┆            ┆ Queen   ┆          ┆           │\n",
       "│          ┆ Brewing    ┆           ┆            ┆   ┆            ┆ IPA     ┆          ┆           │\n",
       "│          ┆ Company    ┆           ┆            ┆   ┆            ┆         ┆          ┆           │\n",
       "│ 2        ┆ Yellow     ┆ 103779564 ┆ 4.0        ┆ … ┆ 4.0        ┆ Cactus  ┆ null     ┆ 3         │\n",
       "│          ┆ Rose       ┆ 3         ┆            ┆   ┆            ┆ Queen   ┆          ┆           │\n",
       "│          ┆ Brewing    ┆           ┆            ┆   ┆            ┆ IPA     ┆          ┆           │\n",
       "│          ┆ Company    ┆           ┆            ┆   ┆            ┆         ┆          ┆           │\n",
       "│ 2        ┆ Yellow     ┆ 101907582 ┆ 4.0        ┆ … ┆ 4.0        ┆ Cactus  ┆ null     ┆ 3         │\n",
       "│          ┆ Rose       ┆ 8         ┆            ┆   ┆            ┆ Queen   ┆          ┆           │\n",
       "│          ┆ Brewing    ┆           ┆            ┆   ┆            ┆ IPA     ┆          ┆           │\n",
       "│          ┆ Company    ┆           ┆            ┆   ┆            ┆         ┆          ┆           │\n",
       "│ 2        ┆ Yellow     ┆ 111137270 ┆ 3.0        ┆ … ┆ 2.5        ┆ Wildcat ┆ null     ┆ 4         │\n",
       "│          ┆ Rose       ┆ 6         ┆            ┆   ┆            ┆ ter's   ┆          ┆           │\n",
       "│          ┆ Brewing    ┆           ┆            ┆   ┆            ┆ Crude   ┆          ┆           │\n",
       "│          ┆ Company    ┆           ┆            ┆   ┆            ┆ Stout   ┆          ┆           │\n",
       "│ …        ┆ …          ┆ …         ┆ …          ┆ … ┆ …          ┆ …       ┆ …        ┆ …         │\n",
       "│ 2        ┆ Yellow     ┆ 106760163 ┆ 4.0        ┆ … ┆ 4.0        ┆ Wildcat ┆ null     ┆ 4         │\n",
       "│          ┆ Rose       ┆ 7         ┆            ┆   ┆            ┆ ter's   ┆          ┆           │\n",
       "│          ┆ Brewing    ┆           ┆            ┆   ┆            ┆ Crude   ┆          ┆           │\n",
       "│          ┆ Company    ┆           ┆            ┆   ┆            ┆ Stout   ┆          ┆           │\n",
       "│ 2        ┆ Yellow     ┆ 106687692 ┆ 4.5        ┆ … ┆ 4.0        ┆ Wildcat ┆ null     ┆ 4         │\n",
       "│          ┆ Rose       ┆ 2         ┆            ┆   ┆            ┆ ter's   ┆          ┆           │\n",
       "│          ┆ Brewing    ┆           ┆            ┆   ┆            ┆ Crude   ┆          ┆           │\n",
       "│          ┆ Company    ┆           ┆            ┆   ┆            ┆ Stout   ┆          ┆           │\n",
       "│ 2        ┆ Yellow     ┆ 105449890 ┆ 3.0        ┆ … ┆ 3.5        ┆ Wildcat ┆ null     ┆ 4         │\n",
       "│          ┆ Rose       ┆ 1         ┆            ┆   ┆            ┆ ter's   ┆          ┆           │\n",
       "│          ┆ Brewing    ┆           ┆            ┆   ┆            ┆ Crude   ┆          ┆           │\n",
       "│          ┆ Company    ┆           ┆            ┆   ┆            ┆ Stout   ┆          ┆           │\n",
       "│ 2        ┆ Yellow     ┆ 105128112 ┆ 5.0        ┆ … ┆ 5.0        ┆ Wildcat ┆ null     ┆ 4         │\n",
       "│          ┆ Rose       ┆ 2         ┆            ┆   ┆            ┆ ter's   ┆          ┆           │\n",
       "│          ┆ Brewing    ┆           ┆            ┆   ┆            ┆ Crude   ┆          ┆           │\n",
       "│          ┆ Company    ┆           ┆            ┆   ┆            ┆ Stout   ┆          ┆           │\n",
       "└──────────┴────────────┴───────────┴────────────┴───┴────────────┴─────────┴──────────┴───────────┘"
      ]
     },
     "execution_count": 46,
     "metadata": {},
     "output_type": "execute_result"
    }
   ],
   "source": [
    "df.sort(\"beer_beerid\").head(10)"
   ]
  },
  {
   "cell_type": "code",
   "execution_count": 47,
   "metadata": {},
   "outputs": [
    {
     "data": {
      "text/html": [
       "<div><style>\n",
       ".dataframe > thead > tr > th,\n",
       ".dataframe > tbody > tr > td {\n",
       "  text-align: right;\n",
       "}\n",
       "</style>\n",
       "<small>shape: (10, 3)</small><table border=\"1\" class=\"dataframe\"><thead><tr><th>brewery_name</th><th>beer_beerid</th><th>review_palate</th></tr><tr><td>str</td><td>i64</td><td>f64</td></tr></thead><tbody><tr><td>&quot;&#x27;t Hofbrouweri…</td><td>3</td><td>5.0</td></tr><tr><td>&quot;&#x27;t Hofbrouweri…</td><td>3</td><td>5.0</td></tr><tr><td>&quot;&#x27;t Hofbrouweri…</td><td>3</td><td>5.0</td></tr><tr><td>&quot;&#x27;t Hofbrouweri…</td><td>4</td><td>5.0</td></tr><tr><td>&quot;&#x27;t Hofbrouweri…</td><td>4</td><td>5.0</td></tr><tr><td>&quot;&#x27;t Hofbrouweri…</td><td>4</td><td>5.0</td></tr><tr><td>&quot;&#x27;t Hofbrouweri…</td><td>4</td><td>5.0</td></tr><tr><td>&quot;&#x27;t Hofbrouweri…</td><td>4</td><td>5.0</td></tr><tr><td>&quot;&#x27;t Hofbrouweri…</td><td>4</td><td>5.0</td></tr><tr><td>&quot;&#x27;t Hofbrouweri…</td><td>4</td><td>5.0</td></tr></tbody></table></div>"
      ],
      "text/plain": [
       "shape: (10, 3)\n",
       "┌───────────────────┬─────────────┬───────────────┐\n",
       "│ brewery_name      ┆ beer_beerid ┆ review_palate │\n",
       "│ ---               ┆ ---         ┆ ---           │\n",
       "│ str               ┆ i64         ┆ f64           │\n",
       "╞═══════════════════╪═════════════╪═══════════════╡\n",
       "│ 't Hofbrouwerijke ┆ 3           ┆ 5.0           │\n",
       "│ 't Hofbrouwerijke ┆ 3           ┆ 5.0           │\n",
       "│ 't Hofbrouwerijke ┆ 3           ┆ 5.0           │\n",
       "│ 't Hofbrouwerijke ┆ 4           ┆ 5.0           │\n",
       "│ …                 ┆ …           ┆ …             │\n",
       "│ 't Hofbrouwerijke ┆ 4           ┆ 5.0           │\n",
       "│ 't Hofbrouwerijke ┆ 4           ┆ 5.0           │\n",
       "│ 't Hofbrouwerijke ┆ 4           ┆ 5.0           │\n",
       "│ 't Hofbrouwerijke ┆ 4           ┆ 5.0           │\n",
       "└───────────────────┴─────────────┴───────────────┘"
      ]
     },
     "execution_count": 47,
     "metadata": {},
     "output_type": "execute_result"
    }
   ],
   "source": [
    "df.filter(pl.col(\"brewery_name\") != \"\").select(\n",
    "    pl.col(\"brewery_name\").sort(),\n",
    "    pl.col(\"beer_beerid\").sort(),\n",
    "    pl.col(\"review_palate\").sort(descending=True)\n",
    ").head(10)"
   ]
  },
  {
   "attachments": {},
   "cell_type": "markdown",
   "metadata": {},
   "source": [
    "## Creando nuevas columnas\n",
    "\n",
    "Para \"crear\" nuevas columnas, usaremos el método `with_columns`, dentro del método realizaremos la operación entre series que deseamos aplicar y guardar el resultado en la nueva columna. Usaremos el método `alias` para asignarle un nombre, tambien este método nos sirve para darle un alias a las columnas durante la consulta o agregación."
   ]
  },
  {
   "cell_type": "code",
   "execution_count": 48,
   "metadata": {},
   "outputs": [
    {
     "data": {
      "text/html": [
       "<div><style>\n",
       ".dataframe > thead > tr > th,\n",
       ".dataframe > tbody > tr > td {\n",
       "  text-align: right;\n",
       "}\n",
       "</style>\n",
       "<small>shape: (5, 14)</small><table border=\"1\" class=\"dataframe\"><thead><tr><th>brewery_id</th><th>brewery_name</th><th>review_time</th><th>review_overall</th><th>review_aroma</th><th>review_appearance</th><th>review_profilename</th><th>beer_style</th><th>review_palate</th><th>review_taste</th><th>beer_name</th><th>beer_abv</th><th>beer_beerid</th><th>beer_name_full</th></tr><tr><td>i64</td><td>str</td><td>i64</td><td>f64</td><td>f64</td><td>f64</td><td>str</td><td>str</td><td>f64</td><td>f64</td><td>str</td><td>f64</td><td>i64</td><td>str</td></tr></thead><tbody><tr><td>10325</td><td>&quot;Vecchio Birraio&quot;</td><td>1234817823</td><td>1.5</td><td>2.0</td><td>2.5</td><td>&quot;stcules&quot;</td><td>&quot;Hefeweizen&quot;</td><td>1.5</td><td>1.5</td><td>&quot;Sausa Weizen&quot;</td><td>5.0</td><td>47986</td><td>&quot;Sausa Weizen(Vecchio Birraio)&quot;</td></tr><tr><td>10325</td><td>&quot;Vecchio Birraio&quot;</td><td>1235915097</td><td>3.0</td><td>2.5</td><td>3.0</td><td>&quot;stcules&quot;</td><td>&quot;English Strong Ale&quot;</td><td>3.0</td><td>3.0</td><td>&quot;Red Moon&quot;</td><td>6.2</td><td>48213</td><td>&quot;Red Moon(Vecchio Birraio)&quot;</td></tr><tr><td>10325</td><td>&quot;Vecchio Birraio&quot;</td><td>1235916604</td><td>3.0</td><td>2.5</td><td>3.0</td><td>&quot;stcules&quot;</td><td>&quot;Foreign / Export Stout&quot;</td><td>3.0</td><td>3.0</td><td>&quot;Black Horse Black Beer&quot;</td><td>6.5</td><td>48215</td><td>&quot;Black Horse Black Beer(Vecchio Birraio)&quot;</td></tr><tr><td>10325</td><td>&quot;Vecchio Birraio&quot;</td><td>1234725145</td><td>3.0</td><td>3.0</td><td>3.5</td><td>&quot;stcules&quot;</td><td>&quot;German Pilsener&quot;</td><td>2.5</td><td>3.0</td><td>&quot;Sausa Pils&quot;</td><td>5.0</td><td>47969</td><td>&quot;Sausa Pils(Vecchio Birraio)&quot;</td></tr><tr><td>1075</td><td>&quot;Caldera Brewing Company&quot;</td><td>1293735206</td><td>4.0</td><td>4.5</td><td>4.0</td><td>&quot;johnmichaelsen&quot;</td><td>&quot;American Double / Imperial IPA&quot;</td><td>4.0</td><td>4.5</td><td>&quot;Cauldron DIPA&quot;</td><td>7.7</td><td>64883</td><td>&quot;Cauldron DIPA(Caldera Brewing Company)&quot;</td></tr></tbody></table></div>"
      ],
      "text/plain": [
       "shape: (5, 14)\n",
       "┌──────────┬────────────┬───────────┬────────────┬───┬─────────┬──────────┬───────────┬────────────┐\n",
       "│ brewery_ ┆ brewery_na ┆ review_ti ┆ review_ove ┆ … ┆ beer_na ┆ beer_abv ┆ beer_beer ┆ beer_name_ │\n",
       "│ id       ┆ me         ┆ me        ┆ rall       ┆   ┆ me      ┆ ---      ┆ id        ┆ full       │\n",
       "│ ---      ┆ ---        ┆ ---       ┆ ---        ┆   ┆ ---     ┆ f64      ┆ ---       ┆ ---        │\n",
       "│ i64      ┆ str        ┆ i64       ┆ f64        ┆   ┆ str     ┆          ┆ i64       ┆ str        │\n",
       "╞══════════╪════════════╪═══════════╪════════════╪═══╪═════════╪══════════╪═══════════╪════════════╡\n",
       "│ 10325    ┆ Vecchio    ┆ 123481782 ┆ 1.5        ┆ … ┆ Sausa   ┆ 5.0      ┆ 47986     ┆ Sausa Weiz │\n",
       "│          ┆ Birraio    ┆ 3         ┆            ┆   ┆ Weizen  ┆          ┆           ┆ en(Vecchio │\n",
       "│          ┆            ┆           ┆            ┆   ┆         ┆          ┆           ┆ Birraio)   │\n",
       "│ 10325    ┆ Vecchio    ┆ 123591509 ┆ 3.0        ┆ … ┆ Red     ┆ 6.2      ┆ 48213     ┆ Red Moon(V │\n",
       "│          ┆ Birraio    ┆ 7         ┆            ┆   ┆ Moon    ┆          ┆           ┆ ecchio     │\n",
       "│          ┆            ┆           ┆            ┆   ┆         ┆          ┆           ┆ Birraio)   │\n",
       "│ 10325    ┆ Vecchio    ┆ 123591660 ┆ 3.0        ┆ … ┆ Black   ┆ 6.5      ┆ 48215     ┆ Black      │\n",
       "│          ┆ Birraio    ┆ 4         ┆            ┆   ┆ Horse   ┆          ┆           ┆ Horse      │\n",
       "│          ┆            ┆           ┆            ┆   ┆ Black   ┆          ┆           ┆ Black Beer │\n",
       "│          ┆            ┆           ┆            ┆   ┆ Beer    ┆          ┆           ┆ (Vecchio   │\n",
       "│          ┆            ┆           ┆            ┆   ┆         ┆          ┆           ┆ Birraio)   │\n",
       "│ 10325    ┆ Vecchio    ┆ 123472514 ┆ 3.0        ┆ … ┆ Sausa   ┆ 5.0      ┆ 47969     ┆ Sausa Pils │\n",
       "│          ┆ Birraio    ┆ 5         ┆            ┆   ┆ Pils    ┆          ┆           ┆ (Vecchio   │\n",
       "│          ┆            ┆           ┆            ┆   ┆         ┆          ┆           ┆ Birraio)   │\n",
       "│ 1075     ┆ Caldera    ┆ 129373520 ┆ 4.0        ┆ … ┆ Cauldro ┆ 7.7      ┆ 64883     ┆ Cauldron   │\n",
       "│          ┆ Brewing    ┆ 6         ┆            ┆   ┆ n DIPA  ┆          ┆           ┆ DIPA(Calde │\n",
       "│          ┆ Company    ┆           ┆            ┆   ┆         ┆          ┆           ┆ ra Brewing │\n",
       "│          ┆            ┆           ┆            ┆   ┆         ┆          ┆           ┆ Company)   │\n",
       "└──────────┴────────────┴───────────┴────────────┴───┴─────────┴──────────┴───────────┴────────────┘"
      ]
     },
     "execution_count": 48,
     "metadata": {},
     "output_type": "execute_result"
    }
   ],
   "source": [
    "df2 = df.with_columns(\n",
    "    (pl.col('beer_name') + pl.lit(\"(\") + pl.col('brewery_name') + pl.lit(\")\")).alias(\"beer_name_full\")\n",
    ")\n",
    "pl.Config.set_fmt_str_lengths(100)\n",
    "df2.head(5)"
   ]
  },
  {
   "attachments": {},
   "cell_type": "markdown",
   "metadata": {},
   "source": [
    "## Aplicando funciones de agregación\n",
    "\n",
    "En Pandas podiamos aplicar agregaciones sobre una columna o columnas usando el método `agg`, en polars pueden aplicarse durante la selección o durante un agrupamiento."
   ]
  },
  {
   "cell_type": "code",
   "execution_count": 49,
   "metadata": {},
   "outputs": [
    {
     "data": {
      "text/html": [
       "<div><style>\n",
       ".dataframe > thead > tr > th,\n",
       ".dataframe > tbody > tr > td {\n",
       "  text-align: right;\n",
       "}\n",
       "</style>\n",
       "<small>shape: (1, 1)</small><table border=\"1\" class=\"dataframe\"><thead><tr><th>review_appearance</th></tr><tr><td>f64</td></tr></thead><tbody><tr><td>6095202.5</td></tr></tbody></table></div>"
      ],
      "text/plain": [
       "shape: (1, 1)\n",
       "┌───────────────────┐\n",
       "│ review_appearance │\n",
       "│ ---               │\n",
       "│ f64               │\n",
       "╞═══════════════════╡\n",
       "│ 6095202.5         │\n",
       "└───────────────────┘"
      ]
     },
     "execution_count": 49,
     "metadata": {},
     "output_type": "execute_result"
    }
   ],
   "source": [
    "df.select(\n",
    "    pl.col(\"review_appearance\")\n",
    ").sum()"
   ]
  },
  {
   "cell_type": "code",
   "execution_count": 50,
   "metadata": {},
   "outputs": [
    {
     "data": {
      "text/html": [
       "<div><style>\n",
       ".dataframe > thead > tr > th,\n",
       ".dataframe > tbody > tr > td {\n",
       "  text-align: right;\n",
       "}\n",
       "</style>\n",
       "<small>shape: (1, 1)</small><table border=\"1\" class=\"dataframe\"><thead><tr><th>review_appearance</th></tr><tr><td>f64</td></tr></thead><tbody><tr><td>6095202.5</td></tr></tbody></table></div>"
      ],
      "text/plain": [
       "shape: (1, 1)\n",
       "┌───────────────────┐\n",
       "│ review_appearance │\n",
       "│ ---               │\n",
       "│ f64               │\n",
       "╞═══════════════════╡\n",
       "│ 6095202.5         │\n",
       "└───────────────────┘"
      ]
     },
     "execution_count": 50,
     "metadata": {},
     "output_type": "execute_result"
    }
   ],
   "source": [
    "df.select(\n",
    "    pl.col(\"review_appearance\").sum()\n",
    ")"
   ]
  },
  {
   "cell_type": "code",
   "execution_count": 51,
   "metadata": {},
   "outputs": [],
   "source": [
    "def iqr():\n",
    "    \"\"\" Función para calcular el InterCuartil \"\"\"\n",
    "    return pl.col('review_appearance').quantile(0.75) - pl.col('review_appearance').quantile(0.25)"
   ]
  },
  {
   "cell_type": "code",
   "execution_count": 52,
   "metadata": {},
   "outputs": [
    {
     "data": {
      "text/html": [
       "<div><style>\n",
       ".dataframe > thead > tr > th,\n",
       ".dataframe > tbody > tr > td {\n",
       "  text-align: right;\n",
       "}\n",
       "</style>\n",
       "<small>shape: (1, 3)</small><table border=\"1\" class=\"dataframe\"><thead><tr><th>review_appearance_q25</th><th>review_appearance_q75</th><th>review_appearance_iqr</th></tr><tr><td>f64</td><td>f64</td><td>f64</td></tr></thead><tbody><tr><td>3.5</td><td>4.0</td><td>0.5</td></tr></tbody></table></div>"
      ],
      "text/plain": [
       "shape: (1, 3)\n",
       "┌───────────────────────┬───────────────────────┬───────────────────────┐\n",
       "│ review_appearance_q25 ┆ review_appearance_q75 ┆ review_appearance_iqr │\n",
       "│ ---                   ┆ ---                   ┆ ---                   │\n",
       "│ f64                   ┆ f64                   ┆ f64                   │\n",
       "╞═══════════════════════╪═══════════════════════╪═══════════════════════╡\n",
       "│ 3.5                   ┆ 4.0                   ┆ 0.5                   │\n",
       "└───────────────────────┴───────────────────────┴───────────────────────┘"
      ]
     },
     "execution_count": 52,
     "metadata": {},
     "output_type": "execute_result"
    }
   ],
   "source": [
    "df.select(\n",
    "    pl.col('review_appearance').quantile(0.25).suffix('_q25'),\n",
    "    pl.col('review_appearance').quantile(0.75).suffix('_q75'),\n",
    "    iqr().alias('review_appearance').suffix('_iqr')\n",
    ")"
   ]
  },
  {
   "cell_type": "code",
   "execution_count": 53,
   "metadata": {},
   "outputs": [
    {
     "data": {
      "text/html": [
       "<div><style>\n",
       ".dataframe > thead > tr > th,\n",
       ".dataframe > tbody > tr > td {\n",
       "  text-align: right;\n",
       "}\n",
       "</style>\n",
       "<small>shape: (1, 2)</small><table border=\"1\" class=\"dataframe\"><thead><tr><th>total_records</th><th>total_empty_records</th></tr><tr><td>u32</td><td>u32</td></tr></thead><tbody><tr><td>1586614</td><td>15</td></tr></tbody></table></div>"
      ],
      "text/plain": [
       "shape: (1, 2)\n",
       "┌───────────────┬─────────────────────┐\n",
       "│ total_records ┆ total_empty_records │\n",
       "│ ---           ┆ ---                 │\n",
       "│ u32           ┆ u32                 │\n",
       "╞═══════════════╪═════════════════════╡\n",
       "│ 1586614       ┆ 15                  │\n",
       "└───────────────┴─────────────────────┘"
      ]
     },
     "execution_count": 53,
     "metadata": {},
     "output_type": "execute_result"
    }
   ],
   "source": [
    "df.select(\n",
    "    pl.col('brewery_name').count().alias(\"total_records\"),\n",
    "    pl.col('brewery_name').filter(pl.col('brewery_name') == \"\").count().alias(\"total_empty_records\")\n",
    ")"
   ]
  },
  {
   "attachments": {},
   "cell_type": "markdown",
   "metadata": {},
   "source": [
    "## Agrupando\n",
    "\n"
   ]
  },
  {
   "cell_type": "code",
   "execution_count": 54,
   "metadata": {},
   "outputs": [
    {
     "data": {
      "text/plain": [
       "{'brewery_id': Int64,\n",
       " 'brewery_name': Utf8,\n",
       " 'review_time': Int64,\n",
       " 'review_overall': Float64,\n",
       " 'review_aroma': Float64,\n",
       " 'review_appearance': Float64,\n",
       " 'review_profilename': Utf8,\n",
       " 'beer_style': Utf8,\n",
       " 'review_palate': Float64,\n",
       " 'review_taste': Float64,\n",
       " 'beer_name': Utf8,\n",
       " 'beer_abv': Float64,\n",
       " 'beer_beerid': Int64}"
      ]
     },
     "execution_count": 54,
     "metadata": {},
     "output_type": "execute_result"
    }
   ],
   "source": [
    "df.schema"
   ]
  },
  {
   "cell_type": "code",
   "execution_count": 55,
   "metadata": {},
   "outputs": [
    {
     "data": {
      "text/html": [
       "<div><style>\n",
       ".dataframe > thead > tr > th,\n",
       ".dataframe > tbody > tr > td {\n",
       "  text-align: right;\n",
       "}\n",
       "</style>\n",
       "<small>shape: (5_743, 3)</small><table border=\"1\" class=\"dataframe\"><thead><tr><th>brewery_name</th><th>beer_name</th><th>review_overall</th></tr><tr><td>str</td><td>u32</td><td>f64</td></tr></thead><tbody><tr><td>&quot;South Hams Brewery Co Ltd&quot;</td><td>4</td><td>4.13</td></tr><tr><td>&quot;Cairngorm Brewery Company, The&quot;</td><td>85</td><td>3.79</td></tr><tr><td>&quot;De La Vega&#x27;s Pecan Grill &amp; Brewery&quot;</td><td>3</td><td>3.5</td></tr><tr><td>&quot;1516 Brewing Company&quot;</td><td>34</td><td>4.13</td></tr><tr><td>&quot;Angry Hank&#x27;s Microbrewery&quot;</td><td>3</td><td>3.83</td></tr><tr><td>&quot;A Tribbiera&quot;</td><td>5</td><td>2.4</td></tr><tr><td>&quot;Brouwerij St. Bernardus NV&quot;</td><td>6489</td><td>4.21</td></tr><tr><td>&quot;Heads Up Brewing&quot;</td><td>6</td><td>3.0</td></tr><tr><td>&quot;Brewbaker&quot;</td><td>11</td><td>3.86</td></tr><tr><td>&quot;Mr. Jim&#x27;s Cannon Brewpub&quot;</td><td>2</td><td>4.0</td></tr><tr><td>&quot;Pardubický pivovar a.s.&quot;</td><td>89</td><td>3.63</td></tr><tr><td>&quot;Lumberyard Brewing Company&quot;</td><td>42</td><td>3.77</td></tr><tr><td>&hellip;</td><td>&hellip;</td><td>&hellip;</td></tr><tr><td>&quot;Zea Rotisserie &amp; Brewery&quot;</td><td>52</td><td>3.57</td></tr><tr><td>&quot;Brauerei Gasthof Rittmayer&quot;</td><td>25</td><td>3.88</td></tr><tr><td>&quot;High Desert Brewing Company&quot;</td><td>14</td><td>3.96</td></tr><tr><td>&quot;Thomas Kemper Brewing Co.&quot;</td><td>34</td><td>3.26</td></tr><tr><td>&quot;YellowBelly Brewery &amp; Public House&quot;</td><td>11</td><td>3.86</td></tr><tr><td>&quot;Löwenbrauerei Wasseralfingen&quot;</td><td>1</td><td>1.5</td></tr><tr><td>&quot;Townsville Brewing Co.&quot;</td><td>4</td><td>1.75</td></tr><tr><td>&quot;Septem Microbrewery&quot;</td><td>2</td><td>3.25</td></tr><tr><td>&quot;Granite City Food &amp; Brewery&quot;</td><td>288</td><td>3.45</td></tr><tr><td>&quot;Atomic Ale Brewpub And Eatery&quot;</td><td>27</td><td>2.8</td></tr><tr><td>&quot;Big Dog&#x27;s Draft House&quot;</td><td>201</td><td>3.92</td></tr><tr><td>&quot;Old Spot Brewery Ltd&quot;</td><td>1</td><td>4.0</td></tr></tbody></table></div>"
      ],
      "text/plain": [
       "shape: (5_743, 3)\n",
       "┌────────────────────────────────────┬───────────┬────────────────┐\n",
       "│ brewery_name                       ┆ beer_name ┆ review_overall │\n",
       "│ ---                                ┆ ---       ┆ ---            │\n",
       "│ str                                ┆ u32       ┆ f64            │\n",
       "╞════════════════════════════════════╪═══════════╪════════════════╡\n",
       "│ South Hams Brewery Co Ltd          ┆ 4         ┆ 4.13           │\n",
       "│ Cairngorm Brewery Company, The     ┆ 85        ┆ 3.79           │\n",
       "│ De La Vega's Pecan Grill & Brewery ┆ 3         ┆ 3.5            │\n",
       "│ 1516 Brewing Company               ┆ 34        ┆ 4.13           │\n",
       "│ …                                  ┆ …         ┆ …              │\n",
       "│ Granite City Food & Brewery        ┆ 288       ┆ 3.45           │\n",
       "│ Atomic Ale Brewpub And Eatery      ┆ 27        ┆ 2.8            │\n",
       "│ Big Dog's Draft House              ┆ 201       ┆ 3.92           │\n",
       "│ Old Spot Brewery Ltd               ┆ 1         ┆ 4.0            │\n",
       "└────────────────────────────────────┴───────────┴────────────────┘"
      ]
     },
     "execution_count": 55,
     "metadata": {},
     "output_type": "execute_result"
    }
   ],
   "source": [
    "df.groupby(\"brewery_name\").agg(\n",
    "    pl.count(\"beer_name\").sort(descending=True),\n",
    "    pl.mean(\"review_overall\").round(2)\n",
    ")"
   ]
  },
  {
   "attachments": {},
   "cell_type": "markdown",
   "metadata": {},
   "source": [
    "## Tablas dínamicas ( Pivot Tables )\n",
    "\n",
    "Las tablas dinamicas son otra forma de calcular estadisticas de resumen agrupadas. En Excel & PowerBI es común usar tablas dinamicas. En Polars solo podemos procesar una agregación por pivot. \n",
    "\n",
    "Para crear una tabla dinamica, usaremos el método **pivot**, el cúal recibe como parametros `values`, `index`, `columns` & `aggregate_function`. \n",
    "\n",
    "- `values` columna o columnas que contienen los valores a los cuales les aplicaremos la agregación.\n",
    "- `index` es la columna por la que deseamos agrupar.\n",
    "- `columns` son las columnas que seran usadas como nombre de las columnas\n",
    "- `aggregate_function` es la operación de agregación, puede ser\n",
    "    - first\n",
    "    - sum\n",
    "    - max\n",
    "    - min\n",
    "    - mean\n",
    "    - median\n",
    "    - last\n",
    "    - count\n",
    "\n",
    "```python\n",
    "\n",
    "df.pivot(index='col_agrupar', columns='col_header', values='col_datos', aggregate_function='mean')\n",
    "```"
   ]
  },
  {
   "cell_type": "code",
   "execution_count": 56,
   "metadata": {},
   "outputs": [
    {
     "data": {
      "text/html": [
       "<div><style>\n",
       ".dataframe > thead > tr > th,\n",
       ".dataframe > tbody > tr > td {\n",
       "  text-align: right;\n",
       "}\n",
       "</style>\n",
       "<small>shape: (5_743, 56_858)</small><table border=\"1\" class=\"dataframe\"><thead><tr><th>brewery_name</th><th>Sausa Weizen</th><th>Red Moon</th><th>Black Horse Black Beer</th><th>Sausa Pils</th><th>Cauldron DIPA</th><th>Caldera Ginger Beer</th><th>Amstel Light</th><th>Caldera Oatmeal Stout</th><th>Caldera OBF 15</th><th>Rauch Ür Bock</th><th>Caldera Pale Ale</th><th>Pilot Rock Porter</th><th>Vas Deferens Ale</th><th>Caldera IPA</th><th>Cauldron Espresso Stout</th><th>Old Growth Imperial Stout</th><th>Dry Hop Red</th><th>Southside Strong</th><th>Caldera Märzen</th><th>Lawnmower Lager</th><th>Caldera Rose Petal (Kettle Series)</th><th>Amstel Bright</th><th>Nut Brown</th><th>The Captain&#x27;s Porter</th><th>The Highland Stagger</th><th>Swamp Fox IPA</th><th>Hoppin&#x27; To Heaven IPA</th><th>Hopportunity Knocks</th><th>Ashland Amber</th><th>Coconut Porter</th><th>Dry Hop Orange</th><th>Kirner Pils Premium</th><th>Alpha Beta</th><th>Caldera Pilsener Bier</th><th>Hibiscus Ginger Beer</th><th>Exotic Erotic Passion Fruit Ale</th><th>&hellip;</th><th>Cherry Pickers Stout</th><th>Outback Chilli Beer</th><th>3.0</th><th>Outback Stout</th><th>Outback Pilsener</th><th>Outback Country Bitter</th><th>Outback Ale</th><th>Meinel Weizenbock</th><th>Mephisto</th><th>Flemish Cherry</th><th>Three Fingers IPA</th><th>Parum Pango</th><th>Rasberry Porter</th><th>Dark Stout</th><th>Brooklyn Honey Porter</th><th>Cabin Fever Stout</th><th>Little Thumper Ale</th><th>Single Finger IPA</th><th>Abominal Snow Beer</th><th>Death</th><th>Da Oaty</th><th>Lump Of Coal Stout</th><th>Four Horsemen #2:  War</th><th>Brandy Brown</th><th>English Nut Brown</th><th>Four Horsemen #1: Stephano&#x27;s Stout</th><th>Very Hoppy Pale Ale</th><th>Prohibition Lager</th><th>Four Horsemen #4 War</th><th>2007 Resolution #1</th><th>O&#x27;Defiant Stout</th><th>Big Thumper Ale</th><th>Bear Mountain Ale</th><th>Highland Porter</th><th>Baron Von Weizen</th><th>Resolution #2</th><th>The Horseman&#x27;s Ale</th></tr><tr><td>str</td><td>u32</td><td>u32</td><td>u32</td><td>u32</td><td>u32</td><td>u32</td><td>u32</td><td>u32</td><td>u32</td><td>u32</td><td>u32</td><td>u32</td><td>u32</td><td>u32</td><td>u32</td><td>u32</td><td>u32</td><td>u32</td><td>u32</td><td>u32</td><td>u32</td><td>u32</td><td>u32</td><td>u32</td><td>u32</td><td>u32</td><td>u32</td><td>u32</td><td>u32</td><td>u32</td><td>u32</td><td>u32</td><td>u32</td><td>u32</td><td>u32</td><td>u32</td><td>&hellip;</td><td>u32</td><td>u32</td><td>u32</td><td>u32</td><td>u32</td><td>u32</td><td>u32</td><td>u32</td><td>u32</td><td>u32</td><td>u32</td><td>u32</td><td>u32</td><td>u32</td><td>u32</td><td>u32</td><td>u32</td><td>u32</td><td>u32</td><td>u32</td><td>u32</td><td>u32</td><td>u32</td><td>u32</td><td>u32</td><td>u32</td><td>u32</td><td>u32</td><td>u32</td><td>u32</td><td>u32</td><td>u32</td><td>u32</td><td>u32</td><td>u32</td><td>u32</td><td>u32</td></tr></thead><tbody><tr><td>&quot;Vecchio Birraio&quot;</td><td>1</td><td>1</td><td>1</td><td>1</td><td>null</td><td>null</td><td>null</td><td>null</td><td>null</td><td>null</td><td>null</td><td>null</td><td>null</td><td>null</td><td>null</td><td>null</td><td>null</td><td>null</td><td>null</td><td>null</td><td>null</td><td>null</td><td>null</td><td>null</td><td>null</td><td>null</td><td>null</td><td>null</td><td>null</td><td>null</td><td>null</td><td>null</td><td>null</td><td>null</td><td>null</td><td>null</td><td>&hellip;</td><td>null</td><td>null</td><td>null</td><td>null</td><td>null</td><td>null</td><td>null</td><td>null</td><td>null</td><td>null</td><td>null</td><td>null</td><td>null</td><td>null</td><td>null</td><td>null</td><td>null</td><td>null</td><td>null</td><td>null</td><td>null</td><td>null</td><td>null</td><td>null</td><td>null</td><td>null</td><td>null</td><td>null</td><td>null</td><td>null</td><td>null</td><td>null</td><td>null</td><td>null</td><td>null</td><td>null</td><td>null</td></tr><tr><td>&quot;Caldera Brewing Company&quot;</td><td>null</td><td>null</td><td>null</td><td>null</td><td>1</td><td>9</td><td>null</td><td>2</td><td>1</td><td>42</td><td>163</td><td>9</td><td>36</td><td>381</td><td>1</td><td>29</td><td>10</td><td>1</td><td>1</td><td>14</td><td>7</td><td>null</td><td>null</td><td>null</td><td>null</td><td>null</td><td>null</td><td>58</td><td>98</td><td>1</td><td>6</td><td>null</td><td>1</td><td>2</td><td>1</td><td>1</td><td>&hellip;</td><td>null</td><td>null</td><td>null</td><td>null</td><td>null</td><td>null</td><td>null</td><td>null</td><td>null</td><td>null</td><td>null</td><td>null</td><td>null</td><td>null</td><td>null</td><td>null</td><td>null</td><td>null</td><td>null</td><td>null</td><td>null</td><td>null</td><td>null</td><td>null</td><td>null</td><td>null</td><td>null</td><td>null</td><td>null</td><td>null</td><td>null</td><td>null</td><td>null</td><td>null</td><td>null</td><td>null</td><td>null</td></tr><tr><td>&quot;Amstel Brouwerij B. V.&quot;</td><td>null</td><td>null</td><td>null</td><td>null</td><td>null</td><td>null</td><td>465</td><td>null</td><td>null</td><td>null</td><td>null</td><td>null</td><td>null</td><td>null</td><td>null</td><td>null</td><td>null</td><td>null</td><td>null</td><td>null</td><td>null</td><td>14</td><td>null</td><td>null</td><td>null</td><td>null</td><td>null</td><td>null</td><td>null</td><td>null</td><td>null</td><td>null</td><td>null</td><td>null</td><td>null</td><td>null</td><td>&hellip;</td><td>null</td><td>null</td><td>null</td><td>null</td><td>null</td><td>null</td><td>null</td><td>null</td><td>null</td><td>null</td><td>null</td><td>null</td><td>null</td><td>null</td><td>null</td><td>null</td><td>null</td><td>null</td><td>null</td><td>null</td><td>null</td><td>null</td><td>null</td><td>null</td><td>null</td><td>null</td><td>null</td><td>null</td><td>null</td><td>null</td><td>null</td><td>null</td><td>null</td><td>null</td><td>null</td><td>null</td><td>null</td></tr><tr><td>&quot;Broad Ripple Brew Pub&quot;</td><td>null</td><td>null</td><td>null</td><td>null</td><td>null</td><td>null</td><td>null</td><td>null</td><td>null</td><td>null</td><td>null</td><td>null</td><td>null</td><td>null</td><td>null</td><td>null</td><td>null</td><td>null</td><td>null</td><td>null</td><td>null</td><td>null</td><td>1</td><td>null</td><td>null</td><td>null</td><td>null</td><td>null</td><td>null</td><td>null</td><td>null</td><td>null</td><td>null</td><td>null</td><td>null</td><td>null</td><td>&hellip;</td><td>null</td><td>null</td><td>null</td><td>null</td><td>null</td><td>null</td><td>null</td><td>null</td><td>null</td><td>null</td><td>null</td><td>null</td><td>null</td><td>null</td><td>null</td><td>null</td><td>null</td><td>null</td><td>null</td><td>null</td><td>null</td><td>null</td><td>null</td><td>null</td><td>null</td><td>null</td><td>null</td><td>null</td><td>null</td><td>null</td><td>null</td><td>null</td><td>null</td><td>null</td><td>null</td><td>null</td><td>null</td></tr><tr><td>&quot;Moon River Brewing Company&quot;</td><td>null</td><td>null</td><td>null</td><td>null</td><td>null</td><td>null</td><td>null</td><td>null</td><td>null</td><td>null</td><td>null</td><td>null</td><td>null</td><td>null</td><td>null</td><td>null</td><td>null</td><td>null</td><td>null</td><td>null</td><td>null</td><td>null</td><td>null</td><td>32</td><td>2</td><td>41</td><td>null</td><td>null</td><td>null</td><td>null</td><td>null</td><td>null</td><td>null</td><td>null</td><td>null</td><td>null</td><td>&hellip;</td><td>null</td><td>null</td><td>null</td><td>null</td><td>null</td><td>null</td><td>null</td><td>null</td><td>null</td><td>null</td><td>null</td><td>null</td><td>null</td><td>null</td><td>null</td><td>null</td><td>null</td><td>null</td><td>null</td><td>null</td><td>null</td><td>null</td><td>null</td><td>null</td><td>null</td><td>null</td><td>null</td><td>null</td><td>null</td><td>null</td><td>null</td><td>null</td><td>null</td><td>null</td><td>null</td><td>null</td><td>null</td></tr><tr><td>&quot;Hoppin&#x27; Frog Brewery&quot;</td><td>null</td><td>null</td><td>null</td><td>null</td><td>null</td><td>null</td><td>null</td><td>null</td><td>null</td><td>null</td><td>null</td><td>null</td><td>null</td><td>null</td><td>null</td><td>null</td><td>null</td><td>null</td><td>null</td><td>null</td><td>null</td><td>null</td><td>null</td><td>null</td><td>null</td><td>null</td><td>214</td><td>null</td><td>null</td><td>null</td><td>null</td><td>null</td><td>null</td><td>null</td><td>null</td><td>null</td><td>&hellip;</td><td>null</td><td>null</td><td>null</td><td>null</td><td>null</td><td>null</td><td>null</td><td>null</td><td>null</td><td>null</td><td>null</td><td>null</td><td>null</td><td>null</td><td>null</td><td>null</td><td>null</td><td>null</td><td>null</td><td>null</td><td>null</td><td>null</td><td>null</td><td>null</td><td>null</td><td>null</td><td>null</td><td>null</td><td>null</td><td>null</td><td>null</td><td>null</td><td>null</td><td>null</td><td>null</td><td>null</td><td>null</td></tr><tr><td>&quot;Kirner Bier&quot;</td><td>null</td><td>null</td><td>null</td><td>null</td><td>null</td><td>null</td><td>null</td><td>null</td><td>null</td><td>null</td><td>null</td><td>null</td><td>null</td><td>null</td><td>null</td><td>null</td><td>null</td><td>null</td><td>null</td><td>null</td><td>null</td><td>null</td><td>null</td><td>null</td><td>null</td><td>null</td><td>null</td><td>null</td><td>null</td><td>null</td><td>null</td><td>4</td><td>null</td><td>null</td><td>null</td><td>null</td><td>&hellip;</td><td>null</td><td>null</td><td>null</td><td>null</td><td>null</td><td>null</td><td>null</td><td>null</td><td>null</td><td>null</td><td>null</td><td>null</td><td>null</td><td>null</td><td>null</td><td>null</td><td>null</td><td>null</td><td>null</td><td>null</td><td>null</td><td>null</td><td>null</td><td>null</td><td>null</td><td>null</td><td>null</td><td>null</td><td>null</td><td>null</td><td>null</td><td>null</td><td>null</td><td>null</td><td>null</td><td>null</td><td>null</td></tr><tr><td>&quot;Conwy Brewery Ltd&quot;</td><td>null</td><td>null</td><td>null</td><td>null</td><td>null</td><td>null</td><td>null</td><td>null</td><td>null</td><td>null</td><td>null</td><td>null</td><td>null</td><td>null</td><td>null</td><td>null</td><td>null</td><td>null</td><td>null</td><td>null</td><td>null</td><td>null</td><td>null</td><td>null</td><td>null</td><td>null</td><td>null</td><td>null</td><td>null</td><td>null</td><td>null</td><td>null</td><td>null</td><td>null</td><td>null</td><td>null</td><td>&hellip;</td><td>null</td><td>null</td><td>null</td><td>null</td><td>null</td><td>null</td><td>null</td><td>null</td><td>null</td><td>null</td><td>null</td><td>null</td><td>null</td><td>null</td><td>null</td><td>null</td><td>null</td><td>null</td><td>null</td><td>null</td><td>null</td><td>null</td><td>null</td><td>null</td><td>null</td><td>null</td><td>null</td><td>null</td><td>null</td><td>null</td><td>null</td><td>null</td><td>null</td><td>null</td><td>null</td><td>null</td><td>null</td></tr><tr><td>&quot;Pacific Coast Brewing Company&quot;</td><td>null</td><td>null</td><td>null</td><td>null</td><td>null</td><td>null</td><td>null</td><td>null</td><td>null</td><td>null</td><td>null</td><td>null</td><td>null</td><td>null</td><td>null</td><td>null</td><td>null</td><td>null</td><td>null</td><td>null</td><td>null</td><td>null</td><td>null</td><td>null</td><td>null</td><td>null</td><td>null</td><td>null</td><td>null</td><td>null</td><td>null</td><td>null</td><td>null</td><td>null</td><td>null</td><td>null</td><td>&hellip;</td><td>null</td><td>null</td><td>null</td><td>null</td><td>null</td><td>null</td><td>null</td><td>null</td><td>null</td><td>null</td><td>null</td><td>null</td><td>null</td><td>null</td><td>null</td><td>null</td><td>null</td><td>null</td><td>null</td><td>null</td><td>null</td><td>null</td><td>null</td><td>null</td><td>null</td><td>null</td><td>null</td><td>null</td><td>null</td><td>null</td><td>null</td><td>null</td><td>null</td><td>null</td><td>null</td><td>null</td><td>null</td></tr><tr><td>&quot;Harmon Restaurant &amp; Brewery&quot;</td><td>null</td><td>null</td><td>null</td><td>null</td><td>null</td><td>null</td><td>null</td><td>null</td><td>null</td><td>null</td><td>null</td><td>null</td><td>null</td><td>null</td><td>null</td><td>null</td><td>null</td><td>null</td><td>null</td><td>null</td><td>null</td><td>null</td><td>null</td><td>null</td><td>null</td><td>null</td><td>null</td><td>null</td><td>null</td><td>null</td><td>null</td><td>null</td><td>null</td><td>null</td><td>null</td><td>null</td><td>&hellip;</td><td>null</td><td>null</td><td>null</td><td>null</td><td>null</td><td>null</td><td>null</td><td>null</td><td>null</td><td>null</td><td>null</td><td>null</td><td>null</td><td>null</td><td>null</td><td>null</td><td>null</td><td>null</td><td>null</td><td>null</td><td>null</td><td>null</td><td>null</td><td>null</td><td>null</td><td>null</td><td>null</td><td>null</td><td>null</td><td>null</td><td>null</td><td>null</td><td>null</td><td>null</td><td>null</td><td>null</td><td>null</td></tr><tr><td>&quot;City Grille and Brewhaus&quot;</td><td>null</td><td>null</td><td>null</td><td>null</td><td>null</td><td>null</td><td>null</td><td>null</td><td>null</td><td>null</td><td>null</td><td>null</td><td>null</td><td>null</td><td>null</td><td>null</td><td>null</td><td>null</td><td>null</td><td>null</td><td>null</td><td>null</td><td>null</td><td>null</td><td>null</td><td>null</td><td>null</td><td>null</td><td>null</td><td>null</td><td>null</td><td>null</td><td>null</td><td>null</td><td>null</td><td>null</td><td>&hellip;</td><td>null</td><td>null</td><td>null</td><td>null</td><td>null</td><td>null</td><td>null</td><td>null</td><td>null</td><td>null</td><td>null</td><td>null</td><td>null</td><td>null</td><td>null</td><td>null</td><td>null</td><td>null</td><td>null</td><td>null</td><td>null</td><td>null</td><td>null</td><td>null</td><td>null</td><td>null</td><td>null</td><td>null</td><td>null</td><td>null</td><td>null</td><td>null</td><td>null</td><td>null</td><td>null</td><td>null</td><td>null</td></tr><tr><td>&quot;San Francisco Brewing Company&quot;</td><td>null</td><td>null</td><td>null</td><td>null</td><td>null</td><td>null</td><td>null</td><td>null</td><td>null</td><td>null</td><td>null</td><td>null</td><td>null</td><td>null</td><td>null</td><td>null</td><td>null</td><td>null</td><td>null</td><td>null</td><td>null</td><td>null</td><td>null</td><td>null</td><td>null</td><td>null</td><td>null</td><td>null</td><td>null</td><td>null</td><td>null</td><td>null</td><td>null</td><td>null</td><td>null</td><td>null</td><td>&hellip;</td><td>null</td><td>null</td><td>null</td><td>null</td><td>null</td><td>null</td><td>null</td><td>null</td><td>null</td><td>null</td><td>null</td><td>null</td><td>null</td><td>null</td><td>null</td><td>null</td><td>null</td><td>null</td><td>null</td><td>null</td><td>null</td><td>null</td><td>null</td><td>null</td><td>null</td><td>null</td><td>null</td><td>null</td><td>null</td><td>null</td><td>null</td><td>null</td><td>null</td><td>null</td><td>null</td><td>null</td><td>null</td></tr><tr><td>&hellip;</td><td>&hellip;</td><td>&hellip;</td><td>&hellip;</td><td>&hellip;</td><td>&hellip;</td><td>&hellip;</td><td>&hellip;</td><td>&hellip;</td><td>&hellip;</td><td>&hellip;</td><td>&hellip;</td><td>&hellip;</td><td>&hellip;</td><td>&hellip;</td><td>&hellip;</td><td>&hellip;</td><td>&hellip;</td><td>&hellip;</td><td>&hellip;</td><td>&hellip;</td><td>&hellip;</td><td>&hellip;</td><td>&hellip;</td><td>&hellip;</td><td>&hellip;</td><td>&hellip;</td><td>&hellip;</td><td>&hellip;</td><td>&hellip;</td><td>&hellip;</td><td>&hellip;</td><td>&hellip;</td><td>&hellip;</td><td>&hellip;</td><td>&hellip;</td><td>&hellip;</td><td>&hellip;</td><td>&hellip;</td><td>&hellip;</td><td>&hellip;</td><td>&hellip;</td><td>&hellip;</td><td>&hellip;</td><td>&hellip;</td><td>&hellip;</td><td>&hellip;</td><td>&hellip;</td><td>&hellip;</td><td>&hellip;</td><td>&hellip;</td><td>&hellip;</td><td>&hellip;</td><td>&hellip;</td><td>&hellip;</td><td>&hellip;</td><td>&hellip;</td><td>&hellip;</td><td>&hellip;</td><td>&hellip;</td><td>&hellip;</td><td>&hellip;</td><td>&hellip;</td><td>&hellip;</td><td>&hellip;</td><td>&hellip;</td><td>&hellip;</td><td>&hellip;</td><td>&hellip;</td><td>&hellip;</td><td>&hellip;</td><td>&hellip;</td><td>&hellip;</td><td>&hellip;</td><td>&hellip;</td></tr><tr><td>&quot;Coldstream Brewery&quot;</td><td>null</td><td>null</td><td>null</td><td>null</td><td>null</td><td>null</td><td>null</td><td>null</td><td>null</td><td>null</td><td>null</td><td>null</td><td>null</td><td>null</td><td>null</td><td>null</td><td>null</td><td>null</td><td>null</td><td>null</td><td>null</td><td>null</td><td>null</td><td>null</td><td>null</td><td>null</td><td>null</td><td>null</td><td>null</td><td>null</td><td>null</td><td>null</td><td>null</td><td>null</td><td>null</td><td>null</td><td>&hellip;</td><td>null</td><td>null</td><td>null</td><td>null</td><td>null</td><td>null</td><td>null</td><td>null</td><td>null</td><td>null</td><td>null</td><td>null</td><td>null</td><td>null</td><td>null</td><td>null</td><td>null</td><td>null</td><td>null</td><td>null</td><td>null</td><td>null</td><td>null</td><td>null</td><td>null</td><td>null</td><td>null</td><td>null</td><td>null</td><td>null</td><td>null</td><td>null</td><td>null</td><td>null</td><td>null</td><td>null</td><td>null</td></tr><tr><td>&quot;Ludwig Ehrnsperger Gansbrauerei&quot;</td><td>null</td><td>null</td><td>null</td><td>null</td><td>null</td><td>null</td><td>null</td><td>null</td><td>null</td><td>null</td><td>null</td><td>null</td><td>null</td><td>null</td><td>null</td><td>null</td><td>null</td><td>null</td><td>null</td><td>null</td><td>null</td><td>null</td><td>null</td><td>null</td><td>null</td><td>null</td><td>null</td><td>null</td><td>null</td><td>null</td><td>null</td><td>null</td><td>null</td><td>null</td><td>null</td><td>null</td><td>&hellip;</td><td>null</td><td>null</td><td>null</td><td>null</td><td>null</td><td>null</td><td>null</td><td>null</td><td>null</td><td>null</td><td>null</td><td>null</td><td>null</td><td>null</td><td>null</td><td>null</td><td>null</td><td>null</td><td>null</td><td>null</td><td>null</td><td>null</td><td>null</td><td>null</td><td>null</td><td>null</td><td>null</td><td>null</td><td>null</td><td>null</td><td>null</td><td>null</td><td>null</td><td>null</td><td>null</td><td>null</td><td>null</td></tr><tr><td>&quot;Bierbrouwerij &#x27;t Vølendam&quot;</td><td>null</td><td>null</td><td>null</td><td>null</td><td>null</td><td>null</td><td>null</td><td>null</td><td>null</td><td>null</td><td>null</td><td>null</td><td>null</td><td>null</td><td>null</td><td>null</td><td>null</td><td>null</td><td>null</td><td>null</td><td>null</td><td>null</td><td>null</td><td>null</td><td>null</td><td>null</td><td>null</td><td>null</td><td>null</td><td>null</td><td>null</td><td>null</td><td>null</td><td>null</td><td>null</td><td>null</td><td>&hellip;</td><td>null</td><td>null</td><td>null</td><td>null</td><td>null</td><td>null</td><td>null</td><td>null</td><td>null</td><td>null</td><td>null</td><td>null</td><td>null</td><td>null</td><td>null</td><td>null</td><td>null</td><td>null</td><td>null</td><td>null</td><td>null</td><td>null</td><td>null</td><td>null</td><td>null</td><td>null</td><td>null</td><td>null</td><td>null</td><td>null</td><td>null</td><td>null</td><td>null</td><td>null</td><td>null</td><td>null</td><td>null</td></tr><tr><td>&quot;Mia &amp; Pia&#x27;s Pizzeria And Brewhouse&quot;</td><td>null</td><td>null</td><td>null</td><td>null</td><td>null</td><td>null</td><td>null</td><td>null</td><td>null</td><td>null</td><td>null</td><td>null</td><td>null</td><td>null</td><td>null</td><td>null</td><td>null</td><td>null</td><td>null</td><td>null</td><td>null</td><td>null</td><td>null</td><td>null</td><td>null</td><td>null</td><td>null</td><td>null</td><td>null</td><td>null</td><td>null</td><td>null</td><td>null</td><td>null</td><td>null</td><td>null</td><td>&hellip;</td><td>null</td><td>null</td><td>null</td><td>null</td><td>null</td><td>null</td><td>null</td><td>null</td><td>null</td><td>null</td><td>null</td><td>null</td><td>null</td><td>null</td><td>null</td><td>null</td><td>null</td><td>null</td><td>null</td><td>null</td><td>null</td><td>null</td><td>null</td><td>null</td><td>null</td><td>null</td><td>null</td><td>null</td><td>null</td><td>null</td><td>null</td><td>null</td><td>null</td><td>null</td><td>null</td><td>null</td><td>null</td></tr><tr><td>&quot;Mighty Oak Brewing Company Limited&quot;</td><td>null</td><td>null</td><td>null</td><td>null</td><td>null</td><td>null</td><td>null</td><td>null</td><td>null</td><td>null</td><td>null</td><td>null</td><td>null</td><td>null</td><td>null</td><td>null</td><td>null</td><td>null</td><td>null</td><td>null</td><td>null</td><td>null</td><td>null</td><td>null</td><td>null</td><td>null</td><td>null</td><td>null</td><td>null</td><td>null</td><td>null</td><td>null</td><td>null</td><td>null</td><td>null</td><td>null</td><td>&hellip;</td><td>null</td><td>null</td><td>null</td><td>null</td><td>null</td><td>null</td><td>null</td><td>null</td><td>null</td><td>null</td><td>null</td><td>null</td><td>null</td><td>null</td><td>null</td><td>null</td><td>null</td><td>null</td><td>null</td><td>null</td><td>null</td><td>null</td><td>null</td><td>null</td><td>null</td><td>null</td><td>null</td><td>null</td><td>null</td><td>null</td><td>null</td><td>null</td><td>null</td><td>null</td><td>null</td><td>null</td><td>null</td></tr><tr><td>&quot;Junction Craft Brewing&quot;</td><td>null</td><td>null</td><td>null</td><td>null</td><td>null</td><td>null</td><td>null</td><td>null</td><td>null</td><td>null</td><td>null</td><td>null</td><td>null</td><td>null</td><td>null</td><td>null</td><td>null</td><td>null</td><td>null</td><td>null</td><td>null</td><td>null</td><td>null</td><td>null</td><td>null</td><td>null</td><td>null</td><td>null</td><td>null</td><td>null</td><td>null</td><td>null</td><td>null</td><td>null</td><td>null</td><td>null</td><td>&hellip;</td><td>null</td><td>null</td><td>null</td><td>null</td><td>null</td><td>null</td><td>null</td><td>null</td><td>null</td><td>null</td><td>null</td><td>null</td><td>null</td><td>null</td><td>null</td><td>null</td><td>null</td><td>null</td><td>null</td><td>null</td><td>null</td><td>null</td><td>null</td><td>null</td><td>null</td><td>null</td><td>null</td><td>null</td><td>null</td><td>null</td><td>null</td><td>null</td><td>null</td><td>null</td><td>null</td><td>null</td><td>null</td></tr><tr><td>&quot;Tremont Brewery / Atlantic Coast Brewing, Ltd.&quot;</td><td>null</td><td>null</td><td>null</td><td>null</td><td>null</td><td>null</td><td>null</td><td>null</td><td>null</td><td>null</td><td>null</td><td>null</td><td>null</td><td>null</td><td>null</td><td>null</td><td>null</td><td>null</td><td>null</td><td>null</td><td>null</td><td>null</td><td>null</td><td>null</td><td>null</td><td>null</td><td>null</td><td>null</td><td>null</td><td>null</td><td>null</td><td>null</td><td>null</td><td>null</td><td>null</td><td>null</td><td>&hellip;</td><td>null</td><td>null</td><td>null</td><td>null</td><td>null</td><td>null</td><td>null</td><td>null</td><td>null</td><td>null</td><td>null</td><td>null</td><td>null</td><td>null</td><td>null</td><td>null</td><td>null</td><td>null</td><td>null</td><td>null</td><td>null</td><td>null</td><td>null</td><td>null</td><td>null</td><td>null</td><td>null</td><td>null</td><td>null</td><td>null</td><td>null</td><td>null</td><td>null</td><td>null</td><td>null</td><td>null</td><td>null</td></tr><tr><td>&quot;Gattopardo Cervejaria&quot;</td><td>null</td><td>null</td><td>null</td><td>null</td><td>null</td><td>null</td><td>null</td><td>null</td><td>null</td><td>null</td><td>null</td><td>null</td><td>null</td><td>null</td><td>null</td><td>null</td><td>null</td><td>null</td><td>null</td><td>null</td><td>null</td><td>null</td><td>null</td><td>null</td><td>null</td><td>null</td><td>null</td><td>null</td><td>null</td><td>null</td><td>null</td><td>null</td><td>null</td><td>null</td><td>null</td><td>null</td><td>&hellip;</td><td>null</td><td>null</td><td>null</td><td>null</td><td>null</td><td>null</td><td>null</td><td>null</td><td>null</td><td>null</td><td>null</td><td>null</td><td>null</td><td>null</td><td>null</td><td>null</td><td>null</td><td>null</td><td>null</td><td>null</td><td>null</td><td>null</td><td>null</td><td>null</td><td>null</td><td>null</td><td>null</td><td>null</td><td>null</td><td>null</td><td>null</td><td>null</td><td>null</td><td>null</td><td>null</td><td>null</td><td>null</td></tr><tr><td>&quot;Brauerei Lasser GmbH&quot;</td><td>null</td><td>null</td><td>null</td><td>null</td><td>null</td><td>null</td><td>null</td><td>null</td><td>null</td><td>null</td><td>null</td><td>null</td><td>null</td><td>null</td><td>null</td><td>null</td><td>null</td><td>null</td><td>null</td><td>null</td><td>null</td><td>null</td><td>null</td><td>null</td><td>null</td><td>null</td><td>null</td><td>null</td><td>null</td><td>null</td><td>null</td><td>null</td><td>null</td><td>null</td><td>null</td><td>null</td><td>&hellip;</td><td>null</td><td>null</td><td>null</td><td>null</td><td>null</td><td>null</td><td>null</td><td>null</td><td>null</td><td>null</td><td>null</td><td>null</td><td>null</td><td>null</td><td>null</td><td>null</td><td>null</td><td>null</td><td>null</td><td>null</td><td>null</td><td>null</td><td>null</td><td>null</td><td>null</td><td>null</td><td>null</td><td>null</td><td>null</td><td>null</td><td>null</td><td>null</td><td>null</td><td>null</td><td>null</td><td>null</td><td>null</td></tr><tr><td>&quot;Wissey Valley Brewery&quot;</td><td>null</td><td>null</td><td>null</td><td>null</td><td>null</td><td>null</td><td>null</td><td>null</td><td>null</td><td>null</td><td>null</td><td>null</td><td>null</td><td>null</td><td>null</td><td>null</td><td>null</td><td>null</td><td>null</td><td>null</td><td>null</td><td>null</td><td>null</td><td>null</td><td>null</td><td>null</td><td>null</td><td>null</td><td>null</td><td>null</td><td>null</td><td>null</td><td>null</td><td>null</td><td>null</td><td>null</td><td>&hellip;</td><td>1</td><td>null</td><td>null</td><td>null</td><td>null</td><td>null</td><td>null</td><td>null</td><td>null</td><td>null</td><td>null</td><td>null</td><td>null</td><td>null</td><td>null</td><td>null</td><td>null</td><td>null</td><td>null</td><td>null</td><td>null</td><td>null</td><td>null</td><td>null</td><td>null</td><td>null</td><td>null</td><td>null</td><td>null</td><td>null</td><td>null</td><td>null</td><td>null</td><td>null</td><td>null</td><td>null</td><td>null</td></tr><tr><td>&quot;Outback Brewery Pty Ltd&quot;</td><td>null</td><td>null</td><td>null</td><td>null</td><td>null</td><td>null</td><td>null</td><td>null</td><td>null</td><td>null</td><td>null</td><td>null</td><td>null</td><td>null</td><td>null</td><td>null</td><td>null</td><td>null</td><td>null</td><td>null</td><td>null</td><td>null</td><td>null</td><td>null</td><td>null</td><td>null</td><td>null</td><td>null</td><td>null</td><td>null</td><td>null</td><td>null</td><td>null</td><td>null</td><td>null</td><td>null</td><td>&hellip;</td><td>null</td><td>8</td><td>null</td><td>1</td><td>3</td><td>4</td><td>12</td><td>null</td><td>null</td><td>null</td><td>null</td><td>null</td><td>null</td><td>null</td><td>null</td><td>null</td><td>null</td><td>null</td><td>null</td><td>null</td><td>null</td><td>null</td><td>null</td><td>null</td><td>null</td><td>null</td><td>null</td><td>null</td><td>null</td><td>null</td><td>null</td><td>null</td><td>null</td><td>null</td><td>null</td><td>null</td><td>null</td></tr><tr><td>&quot;Georg Meinel Bierbrauerei KG&quot;</td><td>null</td><td>null</td><td>null</td><td>null</td><td>null</td><td>null</td><td>null</td><td>null</td><td>null</td><td>null</td><td>null</td><td>null</td><td>null</td><td>null</td><td>null</td><td>null</td><td>null</td><td>null</td><td>null</td><td>null</td><td>null</td><td>null</td><td>null</td><td>null</td><td>null</td><td>null</td><td>null</td><td>null</td><td>null</td><td>null</td><td>null</td><td>null</td><td>null</td><td>null</td><td>null</td><td>null</td><td>&hellip;</td><td>null</td><td>null</td><td>null</td><td>null</td><td>null</td><td>null</td><td>null</td><td>1</td><td>1</td><td>null</td><td>null</td><td>null</td><td>null</td><td>null</td><td>null</td><td>null</td><td>null</td><td>null</td><td>null</td><td>null</td><td>null</td><td>null</td><td>null</td><td>null</td><td>null</td><td>null</td><td>null</td><td>null</td><td>null</td><td>null</td><td>null</td><td>null</td><td>null</td><td>null</td><td>null</td><td>null</td><td>null</td></tr></tbody></table></div>"
      ],
      "text/plain": [
       "shape: (5_743, 56_858)\n",
       "┌────────────┬────────────┬──────────┬────────────┬───┬────────────┬────────────┬────────────┬────────────┐\n",
       "│ brewery_na ┆ Sausa      ┆ Red Moon ┆ Black      ┆ … ┆ Highland   ┆ Baron Von  ┆ Resolution ┆ The        │\n",
       "│ me         ┆ Weizen     ┆ ---      ┆ Horse      ┆   ┆ Porter     ┆ Weizen     ┆ #2         ┆ Horseman's │\n",
       "│ ---        ┆ ---        ┆ u32      ┆ Black Beer ┆   ┆ ---        ┆ ---        ┆ ---        ┆ Ale        │\n",
       "│ str        ┆ u32        ┆          ┆ ---        ┆   ┆ u32        ┆ u32        ┆ u32        ┆ ---        │\n",
       "│            ┆            ┆          ┆ u32        ┆   ┆            ┆            ┆            ┆ u32        │\n",
       "╞════════════╪════════════╪══════════╪════════════╪═══╪════════════╪════════════╪════════════╪════════════╡\n",
       "│ Vecchio    ┆ 1          ┆ 1        ┆ 1          ┆ … ┆ null       ┆ null       ┆ null       ┆ null       │\n",
       "│ Birraio    ┆            ┆          ┆            ┆   ┆            ┆            ┆            ┆            │\n",
       "│ Caldera    ┆ null       ┆ null     ┆ null       ┆ … ┆ null       ┆ null       ┆ null       ┆ null       │\n",
       "│ Brewing    ┆            ┆          ┆            ┆   ┆            ┆            ┆            ┆            │\n",
       "│ Company    ┆            ┆          ┆            ┆   ┆            ┆            ┆            ┆            │\n",
       "│ Amstel     ┆ null       ┆ null     ┆ null       ┆ … ┆ null       ┆ null       ┆ null       ┆ null       │\n",
       "│ Brouwerij  ┆            ┆          ┆            ┆   ┆            ┆            ┆            ┆            │\n",
       "│ B. V.      ┆            ┆          ┆            ┆   ┆            ┆            ┆            ┆            │\n",
       "│ Broad      ┆ null       ┆ null     ┆ null       ┆ … ┆ null       ┆ null       ┆ null       ┆ null       │\n",
       "│ Ripple     ┆            ┆          ┆            ┆   ┆            ┆            ┆            ┆            │\n",
       "│ Brew Pub   ┆            ┆          ┆            ┆   ┆            ┆            ┆            ┆            │\n",
       "│ …          ┆ …          ┆ …        ┆ …          ┆ … ┆ …          ┆ …          ┆ …          ┆ …          │\n",
       "│ Brauerei   ┆ null       ┆ null     ┆ null       ┆ … ┆ null       ┆ null       ┆ null       ┆ null       │\n",
       "│ Lasser     ┆            ┆          ┆            ┆   ┆            ┆            ┆            ┆            │\n",
       "│ GmbH       ┆            ┆          ┆            ┆   ┆            ┆            ┆            ┆            │\n",
       "│ Wissey     ┆ null       ┆ null     ┆ null       ┆ … ┆ null       ┆ null       ┆ null       ┆ null       │\n",
       "│ Valley     ┆            ┆          ┆            ┆   ┆            ┆            ┆            ┆            │\n",
       "│ Brewery    ┆            ┆          ┆            ┆   ┆            ┆            ┆            ┆            │\n",
       "│ Outback    ┆ null       ┆ null     ┆ null       ┆ … ┆ null       ┆ null       ┆ null       ┆ null       │\n",
       "│ Brewery    ┆            ┆          ┆            ┆   ┆            ┆            ┆            ┆            │\n",
       "│ Pty Ltd    ┆            ┆          ┆            ┆   ┆            ┆            ┆            ┆            │\n",
       "│ Georg      ┆ null       ┆ null     ┆ null       ┆ … ┆ null       ┆ null       ┆ null       ┆ null       │\n",
       "│ Meinel Bie ┆            ┆          ┆            ┆   ┆            ┆            ┆            ┆            │\n",
       "│ rbrauerei  ┆            ┆          ┆            ┆   ┆            ┆            ┆            ┆            │\n",
       "│ KG         ┆            ┆          ┆            ┆   ┆            ┆            ┆            ┆            │\n",
       "└────────────┴────────────┴──────────┴────────────┴───┴────────────┴────────────┴────────────┴────────────┘"
      ]
     },
     "execution_count": 56,
     "metadata": {},
     "output_type": "execute_result"
    }
   ],
   "source": [
    "df.pivot(index='brewery_name', columns='beer_name', values='beer_name', aggregate_function='count')"
   ]
  },
  {
   "attachments": {},
   "cell_type": "markdown",
   "metadata": {},
   "source": [
    "## Visualizando\n",
    "\n",
    "Polars es \"compatible\" con `matplotlib` y `seaborn`, sin embargo debemos en algunas ocasiones pasar el DataFrame a pandas para poder realizar la visualización. "
   ]
  },
  {
   "cell_type": "code",
   "execution_count": 58,
   "metadata": {},
   "outputs": [],
   "source": [
    "import matplotlib.pyplot as plt"
   ]
  },
  {
   "cell_type": "code",
   "execution_count": 57,
   "metadata": {},
   "outputs": [
    {
     "data": {
      "text/html": [
       "<div>\n",
       "<style scoped>\n",
       "    .dataframe tbody tr th:only-of-type {\n",
       "        vertical-align: middle;\n",
       "    }\n",
       "\n",
       "    .dataframe tbody tr th {\n",
       "        vertical-align: top;\n",
       "    }\n",
       "\n",
       "    .dataframe thead th {\n",
       "        text-align: right;\n",
       "    }\n",
       "</style>\n",
       "<table border=\"1\" class=\"dataframe\">\n",
       "  <thead>\n",
       "    <tr style=\"text-align: right;\">\n",
       "      <th></th>\n",
       "      <th>brewery_id</th>\n",
       "      <th>brewery_name</th>\n",
       "      <th>review_time</th>\n",
       "      <th>review_overall</th>\n",
       "      <th>review_aroma</th>\n",
       "      <th>review_appearance</th>\n",
       "      <th>review_profilename</th>\n",
       "      <th>beer_style</th>\n",
       "      <th>review_palate</th>\n",
       "      <th>review_taste</th>\n",
       "      <th>beer_name</th>\n",
       "      <th>beer_abv</th>\n",
       "      <th>beer_beerid</th>\n",
       "    </tr>\n",
       "  </thead>\n",
       "  <tbody>\n",
       "    <tr>\n",
       "      <th>0</th>\n",
       "      <td>10325</td>\n",
       "      <td>Vecchio Birraio</td>\n",
       "      <td>1234817823</td>\n",
       "      <td>1.5</td>\n",
       "      <td>2.0</td>\n",
       "      <td>2.5</td>\n",
       "      <td>stcules</td>\n",
       "      <td>Hefeweizen</td>\n",
       "      <td>1.5</td>\n",
       "      <td>1.5</td>\n",
       "      <td>Sausa Weizen</td>\n",
       "      <td>5.0</td>\n",
       "      <td>47986</td>\n",
       "    </tr>\n",
       "    <tr>\n",
       "      <th>1</th>\n",
       "      <td>10325</td>\n",
       "      <td>Vecchio Birraio</td>\n",
       "      <td>1235915097</td>\n",
       "      <td>3.0</td>\n",
       "      <td>2.5</td>\n",
       "      <td>3.0</td>\n",
       "      <td>stcules</td>\n",
       "      <td>English Strong Ale</td>\n",
       "      <td>3.0</td>\n",
       "      <td>3.0</td>\n",
       "      <td>Red Moon</td>\n",
       "      <td>6.2</td>\n",
       "      <td>48213</td>\n",
       "    </tr>\n",
       "    <tr>\n",
       "      <th>2</th>\n",
       "      <td>10325</td>\n",
       "      <td>Vecchio Birraio</td>\n",
       "      <td>1235916604</td>\n",
       "      <td>3.0</td>\n",
       "      <td>2.5</td>\n",
       "      <td>3.0</td>\n",
       "      <td>stcules</td>\n",
       "      <td>Foreign / Export Stout</td>\n",
       "      <td>3.0</td>\n",
       "      <td>3.0</td>\n",
       "      <td>Black Horse Black Beer</td>\n",
       "      <td>6.5</td>\n",
       "      <td>48215</td>\n",
       "    </tr>\n",
       "    <tr>\n",
       "      <th>3</th>\n",
       "      <td>10325</td>\n",
       "      <td>Vecchio Birraio</td>\n",
       "      <td>1234725145</td>\n",
       "      <td>3.0</td>\n",
       "      <td>3.0</td>\n",
       "      <td>3.5</td>\n",
       "      <td>stcules</td>\n",
       "      <td>German Pilsener</td>\n",
       "      <td>2.5</td>\n",
       "      <td>3.0</td>\n",
       "      <td>Sausa Pils</td>\n",
       "      <td>5.0</td>\n",
       "      <td>47969</td>\n",
       "    </tr>\n",
       "    <tr>\n",
       "      <th>4</th>\n",
       "      <td>1075</td>\n",
       "      <td>Caldera Brewing Company</td>\n",
       "      <td>1293735206</td>\n",
       "      <td>4.0</td>\n",
       "      <td>4.5</td>\n",
       "      <td>4.0</td>\n",
       "      <td>johnmichaelsen</td>\n",
       "      <td>American Double / Imperial IPA</td>\n",
       "      <td>4.0</td>\n",
       "      <td>4.5</td>\n",
       "      <td>Cauldron DIPA</td>\n",
       "      <td>7.7</td>\n",
       "      <td>64883</td>\n",
       "    </tr>\n",
       "    <tr>\n",
       "      <th>...</th>\n",
       "      <td>...</td>\n",
       "      <td>...</td>\n",
       "      <td>...</td>\n",
       "      <td>...</td>\n",
       "      <td>...</td>\n",
       "      <td>...</td>\n",
       "      <td>...</td>\n",
       "      <td>...</td>\n",
       "      <td>...</td>\n",
       "      <td>...</td>\n",
       "      <td>...</td>\n",
       "      <td>...</td>\n",
       "      <td>...</td>\n",
       "    </tr>\n",
       "    <tr>\n",
       "      <th>1586609</th>\n",
       "      <td>14359</td>\n",
       "      <td>The Defiant Brewing Company</td>\n",
       "      <td>1162684892</td>\n",
       "      <td>5.0</td>\n",
       "      <td>4.0</td>\n",
       "      <td>3.5</td>\n",
       "      <td>maddogruss</td>\n",
       "      <td>Pumpkin Ale</td>\n",
       "      <td>4.0</td>\n",
       "      <td>4.0</td>\n",
       "      <td>The Horseman's Ale</td>\n",
       "      <td>5.2</td>\n",
       "      <td>33061</td>\n",
       "    </tr>\n",
       "    <tr>\n",
       "      <th>1586610</th>\n",
       "      <td>14359</td>\n",
       "      <td>The Defiant Brewing Company</td>\n",
       "      <td>1161048566</td>\n",
       "      <td>4.0</td>\n",
       "      <td>5.0</td>\n",
       "      <td>2.5</td>\n",
       "      <td>yelterdow</td>\n",
       "      <td>Pumpkin Ale</td>\n",
       "      <td>2.0</td>\n",
       "      <td>4.0</td>\n",
       "      <td>The Horseman's Ale</td>\n",
       "      <td>5.2</td>\n",
       "      <td>33061</td>\n",
       "    </tr>\n",
       "    <tr>\n",
       "      <th>1586611</th>\n",
       "      <td>14359</td>\n",
       "      <td>The Defiant Brewing Company</td>\n",
       "      <td>1160702513</td>\n",
       "      <td>4.5</td>\n",
       "      <td>3.5</td>\n",
       "      <td>3.0</td>\n",
       "      <td>TongoRad</td>\n",
       "      <td>Pumpkin Ale</td>\n",
       "      <td>3.5</td>\n",
       "      <td>4.0</td>\n",
       "      <td>The Horseman's Ale</td>\n",
       "      <td>5.2</td>\n",
       "      <td>33061</td>\n",
       "    </tr>\n",
       "    <tr>\n",
       "      <th>1586612</th>\n",
       "      <td>14359</td>\n",
       "      <td>The Defiant Brewing Company</td>\n",
       "      <td>1160023044</td>\n",
       "      <td>4.0</td>\n",
       "      <td>4.5</td>\n",
       "      <td>4.5</td>\n",
       "      <td>dherling</td>\n",
       "      <td>Pumpkin Ale</td>\n",
       "      <td>4.5</td>\n",
       "      <td>4.5</td>\n",
       "      <td>The Horseman's Ale</td>\n",
       "      <td>5.2</td>\n",
       "      <td>33061</td>\n",
       "    </tr>\n",
       "    <tr>\n",
       "      <th>1586613</th>\n",
       "      <td>14359</td>\n",
       "      <td>The Defiant Brewing Company</td>\n",
       "      <td>1160005319</td>\n",
       "      <td>5.0</td>\n",
       "      <td>4.5</td>\n",
       "      <td>4.5</td>\n",
       "      <td>cbl2</td>\n",
       "      <td>Pumpkin Ale</td>\n",
       "      <td>4.5</td>\n",
       "      <td>4.5</td>\n",
       "      <td>The Horseman's Ale</td>\n",
       "      <td>5.2</td>\n",
       "      <td>33061</td>\n",
       "    </tr>\n",
       "  </tbody>\n",
       "</table>\n",
       "<p>1586614 rows × 13 columns</p>\n",
       "</div>"
      ],
      "text/plain": [
       "         brewery_id                 brewery_name  review_time  review_overall  \\\n",
       "0             10325              Vecchio Birraio   1234817823             1.5   \n",
       "1             10325              Vecchio Birraio   1235915097             3.0   \n",
       "2             10325              Vecchio Birraio   1235916604             3.0   \n",
       "3             10325              Vecchio Birraio   1234725145             3.0   \n",
       "4              1075      Caldera Brewing Company   1293735206             4.0   \n",
       "...             ...                          ...          ...             ...   \n",
       "1586609       14359  The Defiant Brewing Company   1162684892             5.0   \n",
       "1586610       14359  The Defiant Brewing Company   1161048566             4.0   \n",
       "1586611       14359  The Defiant Brewing Company   1160702513             4.5   \n",
       "1586612       14359  The Defiant Brewing Company   1160023044             4.0   \n",
       "1586613       14359  The Defiant Brewing Company   1160005319             5.0   \n",
       "\n",
       "         review_aroma  review_appearance review_profilename  \\\n",
       "0                 2.0                2.5            stcules   \n",
       "1                 2.5                3.0            stcules   \n",
       "2                 2.5                3.0            stcules   \n",
       "3                 3.0                3.5            stcules   \n",
       "4                 4.5                4.0     johnmichaelsen   \n",
       "...               ...                ...                ...   \n",
       "1586609           4.0                3.5         maddogruss   \n",
       "1586610           5.0                2.5          yelterdow   \n",
       "1586611           3.5                3.0           TongoRad   \n",
       "1586612           4.5                4.5           dherling   \n",
       "1586613           4.5                4.5               cbl2   \n",
       "\n",
       "                             beer_style  review_palate  review_taste  \\\n",
       "0                            Hefeweizen            1.5           1.5   \n",
       "1                    English Strong Ale            3.0           3.0   \n",
       "2                Foreign / Export Stout            3.0           3.0   \n",
       "3                       German Pilsener            2.5           3.0   \n",
       "4        American Double / Imperial IPA            4.0           4.5   \n",
       "...                                 ...            ...           ...   \n",
       "1586609                     Pumpkin Ale            4.0           4.0   \n",
       "1586610                     Pumpkin Ale            2.0           4.0   \n",
       "1586611                     Pumpkin Ale            3.5           4.0   \n",
       "1586612                     Pumpkin Ale            4.5           4.5   \n",
       "1586613                     Pumpkin Ale            4.5           4.5   \n",
       "\n",
       "                      beer_name  beer_abv  beer_beerid  \n",
       "0                  Sausa Weizen       5.0        47986  \n",
       "1                      Red Moon       6.2        48213  \n",
       "2        Black Horse Black Beer       6.5        48215  \n",
       "3                    Sausa Pils       5.0        47969  \n",
       "4                 Cauldron DIPA       7.7        64883  \n",
       "...                         ...       ...          ...  \n",
       "1586609      The Horseman's Ale       5.2        33061  \n",
       "1586610      The Horseman's Ale       5.2        33061  \n",
       "1586611      The Horseman's Ale       5.2        33061  \n",
       "1586612      The Horseman's Ale       5.2        33061  \n",
       "1586613      The Horseman's Ale       5.2        33061  \n",
       "\n",
       "[1586614 rows x 13 columns]"
      ]
     },
     "execution_count": 57,
     "metadata": {},
     "output_type": "execute_result"
    }
   ],
   "source": [
    "df.to_pandas()"
   ]
  },
  {
   "cell_type": "code",
   "execution_count": 66,
   "metadata": {},
   "outputs": [
    {
     "data": {
      "text/html": [
       "<div><style>\n",
       ".dataframe > thead > tr > th,\n",
       ".dataframe > tbody > tr > td {\n",
       "  text-align: right;\n",
       "}\n",
       "</style>\n",
       "<small>shape: (5_743, 2)</small><table border=\"1\" class=\"dataframe\"><thead><tr><th>brewery_name</th><th>total_beers</th></tr><tr><td>str</td><td>u32</td></tr></thead><tbody><tr><td>&quot;Boston Beer Company (Samuel Adams)&quot;</td><td>39444</td></tr><tr><td>&quot;Dogfish Head Brewery&quot;</td><td>33839</td></tr><tr><td>&quot;Stone Brewing Co.&quot;</td><td>33066</td></tr><tr><td>&quot;Sierra Nevada Brewing Co.&quot;</td><td>28751</td></tr><tr><td>&quot;Bell&#x27;s Brewery, Inc.&quot;</td><td>25191</td></tr><tr><td>&quot;Rogue Ales&quot;</td><td>24083</td></tr><tr><td>&quot;Founders Brewing Company&quot;</td><td>20004</td></tr><tr><td>&quot;Victory Brewing Company&quot;</td><td>19479</td></tr><tr><td>&quot;Lagunitas Brewing Company&quot;</td><td>16837</td></tr><tr><td>&quot;Avery Brewing Company&quot;</td><td>16107</td></tr><tr><td>&quot;Southern Tier Brewing Company&quot;</td><td>15868</td></tr><tr><td>&quot;Anheuser-Busch&quot;</td><td>15815</td></tr><tr><td>&hellip;</td><td>&hellip;</td></tr><tr><td>&quot;Wibblers&quot;</td><td>1</td></tr><tr><td>&quot;Pivovar Louny&quot;</td><td>1</td></tr><tr><td>&quot;Traktir Rus&quot;</td><td>1</td></tr><tr><td>&quot;Mysore Breweries Limited&quot;</td><td>1</td></tr><tr><td>&quot;MonkSouth (Thirsty Monk South)&quot;</td><td>1</td></tr><tr><td>&quot;Fulstow Brewery&quot;</td><td>1</td></tr><tr><td>&quot;La Succursale Brasserie Artisanale&quot;</td><td>1</td></tr><tr><td>&quot;Schloderer Bräu&quot;</td><td>1</td></tr><tr><td>&quot;Pivara MB&quot;</td><td>1</td></tr><tr><td>&quot;Big Surf Beer Co.&quot;</td><td>1</td></tr><tr><td>&quot;Brasserie Henri Monier&quot;</td><td>1</td></tr><tr><td>&quot;Hakkaisan K.K.&quot;</td><td>1</td></tr></tbody></table></div>"
      ],
      "text/plain": [
       "shape: (5_743, 2)\n",
       "┌────────────────────────────────────┬─────────────┐\n",
       "│ brewery_name                       ┆ total_beers │\n",
       "│ ---                                ┆ ---         │\n",
       "│ str                                ┆ u32         │\n",
       "╞════════════════════════════════════╪═════════════╡\n",
       "│ Boston Beer Company (Samuel Adams) ┆ 39444       │\n",
       "│ Dogfish Head Brewery               ┆ 33839       │\n",
       "│ Stone Brewing Co.                  ┆ 33066       │\n",
       "│ Sierra Nevada Brewing Co.          ┆ 28751       │\n",
       "│ …                                  ┆ …           │\n",
       "│ Pivara MB                          ┆ 1           │\n",
       "│ Big Surf Beer Co.                  ┆ 1           │\n",
       "│ Brasserie Henri Monier             ┆ 1           │\n",
       "│ Hakkaisan K.K.                     ┆ 1           │\n",
       "└────────────────────────────────────┴─────────────┘"
      ]
     },
     "execution_count": 66,
     "metadata": {},
     "output_type": "execute_result"
    }
   ],
   "source": [
    "breweries = df.groupby(\"brewery_name\").agg(\n",
    "    pl.count(\"beer_name\").alias(\"total_beers\")\n",
    ").sort(\"total_beers\", descending=True)\n",
    "\n",
    "breweries"
   ]
  },
  {
   "cell_type": "code",
   "execution_count": 70,
   "metadata": {},
   "outputs": [
    {
     "data": {
      "image/png": "[encoded data removed]",
      "text/plain": [
       "<Figure size 640x480 with 1 Axes>"
      ]
     },
     "metadata": {},
     "output_type": "display_data"
    }
   ],
   "source": [
    "fig, ax = plt.subplots()\n",
    "\n",
    "sample = breweries.sample(10)\n",
    "\n",
    "ax.bar(\n",
    "    x=sample[\"brewery_name\"],\n",
    "    height=sample[\"total_beers\"],\n",
    ")\n",
    "\n",
    "plt.xticks(rotation=90)\n",
    "plt.show()"
   ]
  },
  {
   "cell_type": "code",
   "execution_count": 72,
   "metadata": {},
   "outputs": [
    {
     "data": {
      "image/png": "[encoded data removed]",
      "text/plain": [
       "<Figure size 640x480 with 1 Axes>"
      ]
     },
     "metadata": {},
     "output_type": "display_data"
    }
   ],
   "source": [
    "sample = breweries.sample(10)\n",
    "\n",
    "plt.bar(\n",
    "    sample.select('brewery_name').to_series(),\n",
    "    sample.select('total_beers').to_series()\n",
    ")\n",
    "plt.xticks(rotation=90)\n",
    "\n",
    "plt.show()"
   ]
  },
  {
   "cell_type": "code",
   "execution_count": 62,
   "metadata": {},
   "outputs": [],
   "source": [
    "import pandas as pd\n",
    "import pyarrow as pa\n",
    "import plotly.express as px"
   ]
  },
  {
   "cell_type": "code",
   "execution_count": 73,
   "metadata": {},
   "outputs": [
    {
     "data": {
      "application/vnd.plotly.v1+json": {
       "config": {
        "plotlyServerURL": "https://plot.ly"
       },
       "data": [
        {
         "alignmentgroup": "True",
         "hovertemplate": "x=%{x}<br>y=%{y}<extra></extra>",
         "legendgroup": "",
         "marker": {
          "color": "#636efa",
          "pattern": {
           "shape": ""
          }
         },
         "name": "",
         "offsetgroup": "",
         "orientation": "v",
         "showlegend": false,
         "textposition": "auto",
         "type": "bar",
         "x": [
          "Porter Brewing Co. Ltd.",
          "Traktir Rus",
          "L'Inox",
          "Yellow Cross",
          "Microbrasserie du Lièvre",
          "Wäldches Bräu GmbH",
          "BraufactuM - Die Internationale Brau-Manufacturen GmbH",
          "Nectar Ales",
          "Falls Brewing Company",
          "Lemke Gasthausbrauerei",
          "Calwer-Eck-Bräu GmbH & Co. KG",
          "Brauerei Bruckmüller",
          "Odd Side Ales",
          "Irkutskpisheprom",
          "Berg Brauerei Ulrich Zimmermann GmbH & Co. KG"
         ],
         "xaxis": "x",
         "y": [
          1,
          1,
          10,
          3,
          106,
          1,
          5,
          879,
          49,
          6,
          1,
          7,
          55,
          8,
          2
         ],
         "yaxis": "y"
        }
       ],
       "layout": {
        "barmode": "relative",
        "legend": {
         "tracegroupgap": 0
        },
        "margin": {
         "t": 60
        },
        "template": {
         "data": {
          "bar": [
           {
            "error_x": {
             "color": "#2a3f5f"
            },
            "error_y": {
             "color": "#2a3f5f"
            },
            "marker": {
             "line": {
              "color": "#E5ECF6",
              "width": 0.5
             },
             "pattern": {
              "fillmode": "overlay",
              "size": 10,
              "solidity": 0.2
             }
            },
            "type": "bar"
           }
          ],
          "barpolar": [
           {
            "marker": {
             "line": {
              "color": "#E5ECF6",
              "width": 0.5
             },
             "pattern": {
              "fillmode": "overlay",
              "size": 10,
              "solidity": 0.2
             }
            },
            "type": "barpolar"
           }
          ],
          "carpet": [
           {
            "aaxis": {
             "endlinecolor": "#2a3f5f",
             "gridcolor": "white",
             "linecolor": "white",
             "minorgridcolor": "white",
             "startlinecolor": "#2a3f5f"
            },
            "baxis": {
             "endlinecolor": "#2a3f5f",
             "gridcolor": "white",
             "linecolor": "white",
             "minorgridcolor": "white",
             "startlinecolor": "#2a3f5f"
            },
            "type": "carpet"
           }
          ],
          "choropleth": [
           {
            "colorbar": {
             "outlinewidth": 0,
             "ticks": ""
            },
            "type": "choropleth"
           }
          ],
          "contour": [
           {
            "colorbar": {
             "outlinewidth": 0,
             "ticks": ""
            },
            "colorscale": [
             [
              0,
              "#0d0887"
             ],
             [
              0.1111111111111111,
              "#46039f"
             ],
             [
              0.2222222222222222,
              "#7201a8"
             ],
             [
              0.3333333333333333,
              "#9c179e"
             ],
             [
              0.4444444444444444,
              "#bd3786"
             ],
             [
              0.5555555555555556,
              "#d8576b"
             ],
             [
              0.6666666666666666,
              "#ed7953"
             ],
             [
              0.7777777777777778,
              "#fb9f3a"
             ],
             [
              0.8888888888888888,
              "#fdca26"
             ],
             [
              1,
              "#f0f921"
             ]
            ],
            "type": "contour"
           }
          ],
          "contourcarpet": [
           {
            "colorbar": {
             "outlinewidth": 0,
             "ticks": ""
            },
            "type": "contourcarpet"
           }
          ],
          "heatmap": [
           {
            "colorbar": {
             "outlinewidth": 0,
             "ticks": ""
            },
            "colorscale": [
             [
              0,
              "#0d0887"
             ],
             [
              0.1111111111111111,
              "#46039f"
             ],
             [
              0.2222222222222222,
              "#7201a8"
             ],
             [
              0.3333333333333333,
              "#9c179e"
             ],
             [
              0.4444444444444444,
              "#bd3786"
             ],
             [
              0.5555555555555556,
              "#d8576b"
             ],
             [
              0.6666666666666666,
              "#ed7953"
             ],
             [
              0.7777777777777778,
              "#fb9f3a"
             ],
             [
              0.8888888888888888,
              "#fdca26"
             ],
             [
              1,
              "#f0f921"
             ]
            ],
            "type": "heatmap"
           }
          ],
          "heatmapgl": [
           {
            "colorbar": {
             "outlinewidth": 0,
             "ticks": ""
            },
            "colorscale": [
             [
              0,
              "#0d0887"
             ],
             [
              0.1111111111111111,
              "#46039f"
             ],
             [
              0.2222222222222222,
              "#7201a8"
             ],
             [
              0.3333333333333333,
              "#9c179e"
             ],
             [
              0.4444444444444444,
              "#bd3786"
             ],
             [
              0.5555555555555556,
              "#d8576b"
             ],
             [
              0.6666666666666666,
              "#ed7953"
             ],
             [
              0.7777777777777778,
              "#fb9f3a"
             ],
             [
              0.8888888888888888,
              "#fdca26"
             ],
             [
              1,
              "#f0f921"
             ]
            ],
            "type": "heatmapgl"
           }
          ],
          "histogram": [
           {
            "marker": {
             "pattern": {
              "fillmode": "overlay",
              "size": 10,
              "solidity": 0.2
             }
            },
            "type": "histogram"
           }
          ],
          "histogram2d": [
           {
            "colorbar": {
             "outlinewidth": 0,
             "ticks": ""
            },
            "colorscale": [
             [
              0,
              "#0d0887"
             ],
             [
              0.1111111111111111,
              "#46039f"
             ],
             [
              0.2222222222222222,
              "#7201a8"
             ],
             [
              0.3333333333333333,
              "#9c179e"
             ],
             [
              0.4444444444444444,
              "#bd3786"
             ],
             [
              0.5555555555555556,
              "#d8576b"
             ],
             [
              0.6666666666666666,
              "#ed7953"
             ],
             [
              0.7777777777777778,
              "#fb9f3a"
             ],
             [
              0.8888888888888888,
              "#fdca26"
             ],
             [
              1,
              "#f0f921"
             ]
            ],
            "type": "histogram2d"
           }
          ],
          "histogram2dcontour": [
           {
            "colorbar": {
             "outlinewidth": 0,
             "ticks": ""
            },
            "colorscale": [
             [
              0,
              "#0d0887"
             ],
             [
              0.1111111111111111,
              "#46039f"
             ],
             [
              0.2222222222222222,
              "#7201a8"
             ],
             [
              0.3333333333333333,
              "#9c179e"
             ],
             [
              0.4444444444444444,
              "#bd3786"
             ],
             [
              0.5555555555555556,
              "#d8576b"
             ],
             [
              0.6666666666666666,
              "#ed7953"
             ],
             [
              0.7777777777777778,
              "#fb9f3a"
             ],
             [
              0.8888888888888888,
              "#fdca26"
             ],
             [
              1,
              "#f0f921"
             ]
            ],
            "type": "histogram2dcontour"
           }
          ],
          "mesh3d": [
           {
            "colorbar": {
             "outlinewidth": 0,
             "ticks": ""
            },
            "type": "mesh3d"
           }
          ],
          "parcoords": [
           {
            "line": {
             "colorbar": {
              "outlinewidth": 0,
              "ticks": ""
             }
            },
            "type": "parcoords"
           }
          ],
          "pie": [
           {
            "automargin": true,
            "type": "pie"
           }
          ],
          "scatter": [
           {
            "fillpattern": {
             "fillmode": "overlay",
             "size": 10,
             "solidity": 0.2
            },
            "type": "scatter"
           }
          ],
          "scatter3d": [
           {
            "line": {
             "colorbar": {
              "outlinewidth": 0,
              "ticks": ""
             }
            },
            "marker": {
             "colorbar": {
              "outlinewidth": 0,
              "ticks": ""
             }
            },
            "type": "scatter3d"
           }
          ],
          "scattercarpet": [
           {
            "marker": {
             "colorbar": {
              "outlinewidth": 0,
              "ticks": ""
             }
            },
            "type": "scattercarpet"
           }
          ],
          "scattergeo": [
           {
            "marker": {
             "colorbar": {
              "outlinewidth": 0,
              "ticks": ""
             }
            },
            "type": "scattergeo"
           }
          ],
          "scattergl": [
           {
            "marker": {
             "colorbar": {
              "outlinewidth": 0,
              "ticks": ""
             }
            },
            "type": "scattergl"
           }
          ],
          "scattermapbox": [
           {
            "marker": {
             "colorbar": {
              "outlinewidth": 0,
              "ticks": ""
             }
            },
            "type": "scattermapbox"
           }
          ],
          "scatterpolar": [
           {
            "marker": {
             "colorbar": {
              "outlinewidth": 0,
              "ticks": ""
             }
            },
            "type": "scatterpolar"
           }
          ],
          "scatterpolargl": [
           {
            "marker": {
             "colorbar": {
              "outlinewidth": 0,
              "ticks": ""
             }
            },
            "type": "scatterpolargl"
           }
          ],
          "scatterternary": [
           {
            "marker": {
             "colorbar": {
              "outlinewidth": 0,
              "ticks": ""
             }
            },
            "type": "scatterternary"
           }
          ],
          "surface": [
           {
            "colorbar": {
             "outlinewidth": 0,
             "ticks": ""
            },
            "colorscale": [
             [
              0,
              "#0d0887"
             ],
             [
              0.1111111111111111,
              "#46039f"
             ],
             [
              0.2222222222222222,
              "#7201a8"
             ],
             [
              0.3333333333333333,
              "#9c179e"
             ],
             [
              0.4444444444444444,
              "#bd3786"
             ],
             [
              0.5555555555555556,
              "#d8576b"
             ],
             [
              0.6666666666666666,
              "#ed7953"
             ],
             [
              0.7777777777777778,
              "#fb9f3a"
             ],
             [
              0.8888888888888888,
              "#fdca26"
             ],
             [
              1,
              "#f0f921"
             ]
            ],
            "type": "surface"
           }
          ],
          "table": [
           {
            "cells": {
             "fill": {
              "color": "#EBF0F8"
             },
             "line": {
              "color": "white"
             }
            },
            "header": {
             "fill": {
              "color": "#C8D4E3"
             },
             "line": {
              "color": "white"
             }
            },
            "type": "table"
           }
          ]
         },
         "layout": {
          "annotationdefaults": {
           "arrowcolor": "#2a3f5f",
           "arrowhead": 0,
           "arrowwidth": 1
          },
          "autotypenumbers": "strict",
          "coloraxis": {
           "colorbar": {
            "outlinewidth": 0,
            "ticks": ""
           }
          },
          "colorscale": {
           "diverging": [
            [
             0,
             "#8e0152"
            ],
            [
             0.1,
             "#c51b7d"
            ],
            [
             0.2,
             "#de77ae"
            ],
            [
             0.3,
             "#f1b6da"
            ],
            [
             0.4,
             "#fde0ef"
            ],
            [
             0.5,
             "#f7f7f7"
            ],
            [
             0.6,
             "#e6f5d0"
            ],
            [
             0.7,
             "#b8e186"
            ],
            [
             0.8,
             "#7fbc41"
            ],
            [
             0.9,
             "#4d9221"
            ],
            [
             1,
             "#276419"
            ]
           ],
           "sequential": [
            [
             0,
             "#0d0887"
            ],
            [
             0.1111111111111111,
             "#46039f"
            ],
            [
             0.2222222222222222,
             "#7201a8"
            ],
            [
             0.3333333333333333,
             "#9c179e"
            ],
            [
             0.4444444444444444,
             "#bd3786"
            ],
            [
             0.5555555555555556,
             "#d8576b"
            ],
            [
             0.6666666666666666,
             "#ed7953"
            ],
            [
             0.7777777777777778,
             "#fb9f3a"
            ],
            [
             0.8888888888888888,
             "#fdca26"
            ],
            [
             1,
             "#f0f921"
            ]
           ],
           "sequentialminus": [
            [
             0,
             "#0d0887"
            ],
            [
             0.1111111111111111,
             "#46039f"
            ],
            [
             0.2222222222222222,
             "#7201a8"
            ],
            [
             0.3333333333333333,
             "#9c179e"
            ],
            [
             0.4444444444444444,
             "#bd3786"
            ],
            [
             0.5555555555555556,
             "#d8576b"
            ],
            [
             0.6666666666666666,
             "#ed7953"
            ],
            [
             0.7777777777777778,
             "#fb9f3a"
            ],
            [
             0.8888888888888888,
             "#fdca26"
            ],
            [
             1,
             "#f0f921"
            ]
           ]
          },
          "colorway": [
           "#636efa",
           "#EF553B",
           "#00cc96",
           "#ab63fa",
           "#FFA15A",
           "#19d3f3",
           "#FF6692",
           "#B6E880",
           "#FF97FF",
           "#FECB52"
          ],
          "font": {
           "color": "#2a3f5f"
          },
          "geo": {
           "bgcolor": "white",
           "lakecolor": "white",
           "landcolor": "#E5ECF6",
           "showlakes": true,
           "showland": true,
           "subunitcolor": "white"
          },
          "hoverlabel": {
           "align": "left"
          },
          "hovermode": "closest",
          "mapbox": {
           "style": "light"
          },
          "paper_bgcolor": "white",
          "plot_bgcolor": "#E5ECF6",
          "polar": {
           "angularaxis": {
            "gridcolor": "white",
            "linecolor": "white",
            "ticks": ""
           },
           "bgcolor": "#E5ECF6",
           "radialaxis": {
            "gridcolor": "white",
            "linecolor": "white",
            "ticks": ""
           }
          },
          "scene": {
           "xaxis": {
            "backgroundcolor": "#E5ECF6",
            "gridcolor": "white",
            "gridwidth": 2,
            "linecolor": "white",
            "showbackground": true,
            "ticks": "",
            "zerolinecolor": "white"
           },
           "yaxis": {
            "backgroundcolor": "#E5ECF6",
            "gridcolor": "white",
            "gridwidth": 2,
            "linecolor": "white",
            "showbackground": true,
            "ticks": "",
            "zerolinecolor": "white"
           },
           "zaxis": {
            "backgroundcolor": "#E5ECF6",
            "gridcolor": "white",
            "gridwidth": 2,
            "linecolor": "white",
            "showbackground": true,
            "ticks": "",
            "zerolinecolor": "white"
           }
          },
          "shapedefaults": {
           "line": {
            "color": "#2a3f5f"
           }
          },
          "ternary": {
           "aaxis": {
            "gridcolor": "white",
            "linecolor": "white",
            "ticks": ""
           },
           "baxis": {
            "gridcolor": "white",
            "linecolor": "white",
            "ticks": ""
           },
           "bgcolor": "#E5ECF6",
           "caxis": {
            "gridcolor": "white",
            "linecolor": "white",
            "ticks": ""
           }
          },
          "title": {
           "x": 0.05
          },
          "xaxis": {
           "automargin": true,
           "gridcolor": "white",
           "linecolor": "white",
           "ticks": "",
           "title": {
            "standoff": 15
           },
           "zerolinecolor": "white",
           "zerolinewidth": 2
          },
          "yaxis": {
           "automargin": true,
           "gridcolor": "white",
           "linecolor": "white",
           "ticks": "",
           "title": {
            "standoff": 15
           },
           "zerolinecolor": "white",
           "zerolinewidth": 2
          }
         }
        },
        "xaxis": {
         "anchor": "y",
         "domain": [
          0,
          1
         ],
         "title": {
          "text": "x"
         }
        },
        "yaxis": {
         "anchor": "x",
         "domain": [
          0,
          1
         ],
         "title": {
          "text": "y"
         }
        }
       }
      },
      "text/html": [
       "<div>                            <div id=\"82f4efb1-8b6b-46bd-ae3b-ee4d5edaa531\" class=\"plotly-graph-div\" style=\"height:525px; width:100%;\"></div>            <script type=\"text/javascript\">                require([\"plotly\"], function(Plotly) {                    window.PLOTLYENV=window.PLOTLYENV || {};                                    if (document.getElementById(\"82f4efb1-8b6b-46bd-ae3b-ee4d5edaa531\")) {                    Plotly.newPlot(                        \"82f4efb1-8b6b-46bd-ae3b-ee4d5edaa531\",                        [{\"alignmentgroup\":\"True\",\"hovertemplate\":\"x=%{x}\\u003cbr\\u003ey=%{y}\\u003cextra\\u003e\\u003c\\u002fextra\\u003e\",\"legendgroup\":\"\",\"marker\":{\"color\":\"#636efa\",\"pattern\":{\"shape\":\"\"}},\"name\":\"\",\"offsetgroup\":\"\",\"orientation\":\"v\",\"showlegend\":false,\"textposition\":\"auto\",\"x\":[\"Porter Brewing Co. Ltd.\",\"Traktir Rus\",\"L'Inox\",\"Yellow Cross\",\"Microbrasserie du Li\\u00e8vre\",\"W\\u00e4ldches Br\\u00e4u GmbH\",\"BraufactuM - Die Internationale Brau-Manufacturen GmbH\",\"Nectar Ales\",\"Falls Brewing Company\",\"Lemke Gasthausbrauerei\",\"Calwer-Eck-Br\\u00e4u GmbH & Co. KG\",\"Brauerei Bruckm\\u00fcller\",\"Odd Side Ales\",\"Irkutskpisheprom\",\"Berg Brauerei Ulrich Zimmermann GmbH & Co. KG\"],\"xaxis\":\"x\",\"y\":[1,1,10,3,106,1,5,879,49,6,1,7,55,8,2],\"yaxis\":\"y\",\"type\":\"bar\"}],                        {\"template\":{\"data\":{\"histogram2dcontour\":[{\"type\":\"histogram2dcontour\",\"colorbar\":{\"outlinewidth\":0,\"ticks\":\"\"},\"colorscale\":[[0.0,\"#0d0887\"],[0.1111111111111111,\"#46039f\"],[0.2222222222222222,\"#7201a8\"],[0.3333333333333333,\"#9c179e\"],[0.4444444444444444,\"#bd3786\"],[0.5555555555555556,\"#d8576b\"],[0.6666666666666666,\"#ed7953\"],[0.7777777777777778,\"#fb9f3a\"],[0.8888888888888888,\"#fdca26\"],[1.0,\"#f0f921\"]]}],\"choropleth\":[{\"type\":\"choropleth\",\"colorbar\":{\"outlinewidth\":0,\"ticks\":\"\"}}],\"histogram2d\":[{\"type\":\"histogram2d\",\"colorbar\":{\"outlinewidth\":0,\"ticks\":\"\"},\"colorscale\":[[0.0,\"#0d0887\"],[0.1111111111111111,\"#46039f\"],[0.2222222222222222,\"#7201a8\"],[0.3333333333333333,\"#9c179e\"],[0.4444444444444444,\"#bd3786\"],[0.5555555555555556,\"#d8576b\"],[0.6666666666666666,\"#ed7953\"],[0.7777777777777778,\"#fb9f3a\"],[0.8888888888888888,\"#fdca26\"],[1.0,\"#f0f921\"]]}],\"heatmap\":[{\"type\":\"heatmap\",\"colorbar\":{\"outlinewidth\":0,\"ticks\":\"\"},\"colorscale\":[[0.0,\"#0d0887\"],[0.1111111111111111,\"#46039f\"],[0.2222222222222222,\"#7201a8\"],[0.3333333333333333,\"#9c179e\"],[0.4444444444444444,\"#bd3786\"],[0.5555555555555556,\"#d8576b\"],[0.6666666666666666,\"#ed7953\"],[0.7777777777777778,\"#fb9f3a\"],[0.8888888888888888,\"#fdca26\"],[1.0,\"#f0f921\"]]}],\"heatmapgl\":[{\"type\":\"heatmapgl\",\"colorbar\":{\"outlinewidth\":0,\"ticks\":\"\"},\"colorscale\":[[0.0,\"#0d0887\"],[0.1111111111111111,\"#46039f\"],[0.2222222222222222,\"#7201a8\"],[0.3333333333333333,\"#9c179e\"],[0.4444444444444444,\"#bd3786\"],[0.5555555555555556,\"#d8576b\"],[0.6666666666666666,\"#ed7953\"],[0.7777777777777778,\"#fb9f3a\"],[0.8888888888888888,\"#fdca26\"],[1.0,\"#f0f921\"]]}],\"contourcarpet\":[{\"type\":\"contourcarpet\",\"colorbar\":{\"outlinewidth\":0,\"ticks\":\"\"}}],\"contour\":[{\"type\":\"contour\",\"colorbar\":{\"outlinewidth\":0,\"ticks\":\"\"},\"colorscale\":[[0.0,\"#0d0887\"],[0.1111111111111111,\"#46039f\"],[0.2222222222222222,\"#7201a8\"],[0.3333333333333333,\"#9c179e\"],[0.4444444444444444,\"#bd3786\"],[0.5555555555555556,\"#d8576b\"],[0.6666666666666666,\"#ed7953\"],[0.7777777777777778,\"#fb9f3a\"],[0.8888888888888888,\"#fdca26\"],[1.0,\"#f0f921\"]]}],\"surface\":[{\"type\":\"surface\",\"colorbar\":{\"outlinewidth\":0,\"ticks\":\"\"},\"colorscale\":[[0.0,\"#0d0887\"],[0.1111111111111111,\"#46039f\"],[0.2222222222222222,\"#7201a8\"],[0.3333333333333333,\"#9c179e\"],[0.4444444444444444,\"#bd3786\"],[0.5555555555555556,\"#d8576b\"],[0.6666666666666666,\"#ed7953\"],[0.7777777777777778,\"#fb9f3a\"],[0.8888888888888888,\"#fdca26\"],[1.0,\"#f0f921\"]]}],\"mesh3d\":[{\"type\":\"mesh3d\",\"colorbar\":{\"outlinewidth\":0,\"ticks\":\"\"}}],\"scatter\":[{\"fillpattern\":{\"fillmode\":\"overlay\",\"size\":10,\"solidity\":0.2},\"type\":\"scatter\"}],\"parcoords\":[{\"type\":\"parcoords\",\"line\":{\"colorbar\":{\"outlinewidth\":0,\"ticks\":\"\"}}}],\"scatterpolargl\":[{\"type\":\"scatterpolargl\",\"marker\":{\"colorbar\":{\"outlinewidth\":0,\"ticks\":\"\"}}}],\"bar\":[{\"error_x\":{\"color\":\"#2a3f5f\"},\"error_y\":{\"color\":\"#2a3f5f\"},\"marker\":{\"line\":{\"color\":\"#E5ECF6\",\"width\":0.5},\"pattern\":{\"fillmode\":\"overlay\",\"size\":10,\"solidity\":0.2}},\"type\":\"bar\"}],\"scattergeo\":[{\"type\":\"scattergeo\",\"marker\":{\"colorbar\":{\"outlinewidth\":0,\"ticks\":\"\"}}}],\"scatterpolar\":[{\"type\":\"scatterpolar\",\"marker\":{\"colorbar\":{\"outlinewidth\":0,\"ticks\":\"\"}}}],\"histogram\":[{\"marker\":{\"pattern\":{\"fillmode\":\"overlay\",\"size\":10,\"solidity\":0.2}},\"type\":\"histogram\"}],\"scattergl\":[{\"type\":\"scattergl\",\"marker\":{\"colorbar\":{\"outlinewidth\":0,\"ticks\":\"\"}}}],\"scatter3d\":[{\"type\":\"scatter3d\",\"line\":{\"colorbar\":{\"outlinewidth\":0,\"ticks\":\"\"}},\"marker\":{\"colorbar\":{\"outlinewidth\":0,\"ticks\":\"\"}}}],\"scattermapbox\":[{\"type\":\"scattermapbox\",\"marker\":{\"colorbar\":{\"outlinewidth\":0,\"ticks\":\"\"}}}],\"scatterternary\":[{\"type\":\"scatterternary\",\"marker\":{\"colorbar\":{\"outlinewidth\":0,\"ticks\":\"\"}}}],\"scattercarpet\":[{\"type\":\"scattercarpet\",\"marker\":{\"colorbar\":{\"outlinewidth\":0,\"ticks\":\"\"}}}],\"carpet\":[{\"aaxis\":{\"endlinecolor\":\"#2a3f5f\",\"gridcolor\":\"white\",\"linecolor\":\"white\",\"minorgridcolor\":\"white\",\"startlinecolor\":\"#2a3f5f\"},\"baxis\":{\"endlinecolor\":\"#2a3f5f\",\"gridcolor\":\"white\",\"linecolor\":\"white\",\"minorgridcolor\":\"white\",\"startlinecolor\":\"#2a3f5f\"},\"type\":\"carpet\"}],\"table\":[{\"cells\":{\"fill\":{\"color\":\"#EBF0F8\"},\"line\":{\"color\":\"white\"}},\"header\":{\"fill\":{\"color\":\"#C8D4E3\"},\"line\":{\"color\":\"white\"}},\"type\":\"table\"}],\"barpolar\":[{\"marker\":{\"line\":{\"color\":\"#E5ECF6\",\"width\":0.5},\"pattern\":{\"fillmode\":\"overlay\",\"size\":10,\"solidity\":0.2}},\"type\":\"barpolar\"}],\"pie\":[{\"automargin\":true,\"type\":\"pie\"}]},\"layout\":{\"autotypenumbers\":\"strict\",\"colorway\":[\"#636efa\",\"#EF553B\",\"#00cc96\",\"#ab63fa\",\"#FFA15A\",\"#19d3f3\",\"#FF6692\",\"#B6E880\",\"#FF97FF\",\"#FECB52\"],\"font\":{\"color\":\"#2a3f5f\"},\"hovermode\":\"closest\",\"hoverlabel\":{\"align\":\"left\"},\"paper_bgcolor\":\"white\",\"plot_bgcolor\":\"#E5ECF6\",\"polar\":{\"bgcolor\":\"#E5ECF6\",\"angularaxis\":{\"gridcolor\":\"white\",\"linecolor\":\"white\",\"ticks\":\"\"},\"radialaxis\":{\"gridcolor\":\"white\",\"linecolor\":\"white\",\"ticks\":\"\"}},\"ternary\":{\"bgcolor\":\"#E5ECF6\",\"aaxis\":{\"gridcolor\":\"white\",\"linecolor\":\"white\",\"ticks\":\"\"},\"baxis\":{\"gridcolor\":\"white\",\"linecolor\":\"white\",\"ticks\":\"\"},\"caxis\":{\"gridcolor\":\"white\",\"linecolor\":\"white\",\"ticks\":\"\"}},\"coloraxis\":{\"colorbar\":{\"outlinewidth\":0,\"ticks\":\"\"}},\"colorscale\":{\"sequential\":[[0.0,\"#0d0887\"],[0.1111111111111111,\"#46039f\"],[0.2222222222222222,\"#7201a8\"],[0.3333333333333333,\"#9c179e\"],[0.4444444444444444,\"#bd3786\"],[0.5555555555555556,\"#d8576b\"],[0.6666666666666666,\"#ed7953\"],[0.7777777777777778,\"#fb9f3a\"],[0.8888888888888888,\"#fdca26\"],[1.0,\"#f0f921\"]],\"sequentialminus\":[[0.0,\"#0d0887\"],[0.1111111111111111,\"#46039f\"],[0.2222222222222222,\"#7201a8\"],[0.3333333333333333,\"#9c179e\"],[0.4444444444444444,\"#bd3786\"],[0.5555555555555556,\"#d8576b\"],[0.6666666666666666,\"#ed7953\"],[0.7777777777777778,\"#fb9f3a\"],[0.8888888888888888,\"#fdca26\"],[1.0,\"#f0f921\"]],\"diverging\":[[0,\"#8e0152\"],[0.1,\"#c51b7d\"],[0.2,\"#de77ae\"],[0.3,\"#f1b6da\"],[0.4,\"#fde0ef\"],[0.5,\"#f7f7f7\"],[0.6,\"#e6f5d0\"],[0.7,\"#b8e186\"],[0.8,\"#7fbc41\"],[0.9,\"#4d9221\"],[1,\"#276419\"]]},\"xaxis\":{\"gridcolor\":\"white\",\"linecolor\":\"white\",\"ticks\":\"\",\"title\":{\"standoff\":15},\"zerolinecolor\":\"white\",\"automargin\":true,\"zerolinewidth\":2},\"yaxis\":{\"gridcolor\":\"white\",\"linecolor\":\"white\",\"ticks\":\"\",\"title\":{\"standoff\":15},\"zerolinecolor\":\"white\",\"automargin\":true,\"zerolinewidth\":2},\"scene\":{\"xaxis\":{\"backgroundcolor\":\"#E5ECF6\",\"gridcolor\":\"white\",\"linecolor\":\"white\",\"showbackground\":true,\"ticks\":\"\",\"zerolinecolor\":\"white\",\"gridwidth\":2},\"yaxis\":{\"backgroundcolor\":\"#E5ECF6\",\"gridcolor\":\"white\",\"linecolor\":\"white\",\"showbackground\":true,\"ticks\":\"\",\"zerolinecolor\":\"white\",\"gridwidth\":2},\"zaxis\":{\"backgroundcolor\":\"#E5ECF6\",\"gridcolor\":\"white\",\"linecolor\":\"white\",\"showbackground\":true,\"ticks\":\"\",\"zerolinecolor\":\"white\",\"gridwidth\":2}},\"shapedefaults\":{\"line\":{\"color\":\"#2a3f5f\"}},\"annotationdefaults\":{\"arrowcolor\":\"#2a3f5f\",\"arrowhead\":0,\"arrowwidth\":1},\"geo\":{\"bgcolor\":\"white\",\"landcolor\":\"#E5ECF6\",\"subunitcolor\":\"white\",\"showland\":true,\"showlakes\":true,\"lakecolor\":\"white\"},\"title\":{\"x\":0.05},\"mapbox\":{\"style\":\"light\"}}},\"xaxis\":{\"anchor\":\"y\",\"domain\":[0.0,1.0],\"title\":{\"text\":\"x\"}},\"yaxis\":{\"anchor\":\"x\",\"domain\":[0.0,1.0],\"title\":{\"text\":\"y\"}},\"legend\":{\"tracegroupgap\":0},\"margin\":{\"t\":60},\"barmode\":\"relative\"},                        {\"responsive\": true}                    ).then(function(){\n",
       "                            \n",
       "var gd = document.getElementById('82f4efb1-8b6b-46bd-ae3b-ee4d5edaa531');\n",
       "var x = new MutationObserver(function (mutations, observer) {{\n",
       "        var display = window.getComputedStyle(gd).display;\n",
       "        if (!display || display === 'none') {{\n",
       "            console.log([gd, 'removed!']);\n",
       "            Plotly.purge(gd);\n",
       "            observer.disconnect();\n",
       "        }}\n",
       "}});\n",
       "\n",
       "// Listen for the removal of the full notebook cells\n",
       "var notebookContainer = gd.closest('#notebook-container');\n",
       "if (notebookContainer) {{\n",
       "    x.observe(notebookContainer, {childList: true});\n",
       "}}\n",
       "\n",
       "// Listen for the clearing of the current output cell\n",
       "var outputEl = gd.closest('.output');\n",
       "if (outputEl) {{\n",
       "    x.observe(outputEl, {childList: true});\n",
       "}}\n",
       "\n",
       "                        })                };                });            </script>        </div>"
      ]
     },
     "metadata": {},
     "output_type": "display_data"
    }
   ],
   "source": [
    "sample = breweries.sample(15)\n",
    "\n",
    "px.bar(x = sample.select('brewery_name').to_series(),\n",
    "       y = sample.select('total_beers').to_series())"
   ]
  },
  {
   "cell_type": "code",
   "execution_count": 74,
   "metadata": {},
   "outputs": [
    {
     "data": {
      "application/vnd.plotly.v1+json": {
       "config": {
        "plotlyServerURL": "https://plot.ly"
       },
       "data": [
        {
         "alignmentgroup": "True",
         "hovertemplate": "x=%{x}<br>y=%{y}<extra></extra>",
         "legendgroup": "",
         "marker": {
          "color": "#636efa",
          "pattern": {
           "shape": ""
          }
         },
         "name": "",
         "offsetgroup": "",
         "orientation": "v",
         "showlegend": false,
         "textposition": "auto",
         "type": "bar",
         "x": [
          "Brauerei Heller-Trum / Schlenkerla",
          "Upstream Brewing Company - Legacy",
          "Lindeboom Bierbrouwerij B.V.",
          "Toppling Goliath Brewing Company",
          "Karl Strauss Brewing Company",
          "Thoroughbreds Grill & Brewing",
          "Potters Hotel & Brewery (Hunter Beer Co)",
          "O'Connor Brewing Co.",
          "Silver Creek Brewing Co.",
          "Brasserie Lefèbvre SA",
          "Brauerei Baar AG",
          "Ram Big Horn Brewery"
         ],
         "xaxis": "x",
         "y": [
          2404,
          22,
          15,
          42,
          942,
          22,
          59,
          39,
          28,
          957,
          4,
          1
         ],
         "yaxis": "y"
        }
       ],
       "layout": {
        "barmode": "relative",
        "legend": {
         "tracegroupgap": 0
        },
        "margin": {
         "t": 60
        },
        "template": {
         "data": {
          "bar": [
           {
            "error_x": {
             "color": "#2a3f5f"
            },
            "error_y": {
             "color": "#2a3f5f"
            },
            "marker": {
             "line": {
              "color": "#E5ECF6",
              "width": 0.5
             },
             "pattern": {
              "fillmode": "overlay",
              "size": 10,
              "solidity": 0.2
             }
            },
            "type": "bar"
           }
          ],
          "barpolar": [
           {
            "marker": {
             "line": {
              "color": "#E5ECF6",
              "width": 0.5
             },
             "pattern": {
              "fillmode": "overlay",
              "size": 10,
              "solidity": 0.2
             }
            },
            "type": "barpolar"
           }
          ],
          "carpet": [
           {
            "aaxis": {
             "endlinecolor": "#2a3f5f",
             "gridcolor": "white",
             "linecolor": "white",
             "minorgridcolor": "white",
             "startlinecolor": "#2a3f5f"
            },
            "baxis": {
             "endlinecolor": "#2a3f5f",
             "gridcolor": "white",
             "linecolor": "white",
             "minorgridcolor": "white",
             "startlinecolor": "#2a3f5f"
            },
            "type": "carpet"
           }
          ],
          "choropleth": [
           {
            "colorbar": {
             "outlinewidth": 0,
             "ticks": ""
            },
            "type": "choropleth"
           }
          ],
          "contour": [
           {
            "colorbar": {
             "outlinewidth": 0,
             "ticks": ""
            },
            "colorscale": [
             [
              0,
              "#0d0887"
             ],
             [
              0.1111111111111111,
              "#46039f"
             ],
             [
              0.2222222222222222,
              "#7201a8"
             ],
             [
              0.3333333333333333,
              "#9c179e"
             ],
             [
              0.4444444444444444,
              "#bd3786"
             ],
             [
              0.5555555555555556,
              "#d8576b"
             ],
             [
              0.6666666666666666,
              "#ed7953"
             ],
             [
              0.7777777777777778,
              "#fb9f3a"
             ],
             [
              0.8888888888888888,
              "#fdca26"
             ],
             [
              1,
              "#f0f921"
             ]
            ],
            "type": "contour"
           }
          ],
          "contourcarpet": [
           {
            "colorbar": {
             "outlinewidth": 0,
             "ticks": ""
            },
            "type": "contourcarpet"
           }
          ],
          "heatmap": [
           {
            "colorbar": {
             "outlinewidth": 0,
             "ticks": ""
            },
            "colorscale": [
             [
              0,
              "#0d0887"
             ],
             [
              0.1111111111111111,
              "#46039f"
             ],
             [
              0.2222222222222222,
              "#7201a8"
             ],
             [
              0.3333333333333333,
              "#9c179e"
             ],
             [
              0.4444444444444444,
              "#bd3786"
             ],
             [
              0.5555555555555556,
              "#d8576b"
             ],
             [
              0.6666666666666666,
              "#ed7953"
             ],
             [
              0.7777777777777778,
              "#fb9f3a"
             ],
             [
              0.8888888888888888,
              "#fdca26"
             ],
             [
              1,
              "#f0f921"
             ]
            ],
            "type": "heatmap"
           }
          ],
          "heatmapgl": [
           {
            "colorbar": {
             "outlinewidth": 0,
             "ticks": ""
            },
            "colorscale": [
             [
              0,
              "#0d0887"
             ],
             [
              0.1111111111111111,
              "#46039f"
             ],
             [
              0.2222222222222222,
              "#7201a8"
             ],
             [
              0.3333333333333333,
              "#9c179e"
             ],
             [
              0.4444444444444444,
              "#bd3786"
             ],
             [
              0.5555555555555556,
              "#d8576b"
             ],
             [
              0.6666666666666666,
              "#ed7953"
             ],
             [
              0.7777777777777778,
              "#fb9f3a"
             ],
             [
              0.8888888888888888,
              "#fdca26"
             ],
             [
              1,
              "#f0f921"
             ]
            ],
            "type": "heatmapgl"
           }
          ],
          "histogram": [
           {
            "marker": {
             "pattern": {
              "fillmode": "overlay",
              "size": 10,
              "solidity": 0.2
             }
            },
            "type": "histogram"
           }
          ],
          "histogram2d": [
           {
            "colorbar": {
             "outlinewidth": 0,
             "ticks": ""
            },
            "colorscale": [
             [
              0,
              "#0d0887"
             ],
             [
              0.1111111111111111,
              "#46039f"
             ],
             [
              0.2222222222222222,
              "#7201a8"
             ],
             [
              0.3333333333333333,
              "#9c179e"
             ],
             [
              0.4444444444444444,
              "#bd3786"
             ],
             [
              0.5555555555555556,
              "#d8576b"
             ],
             [
              0.6666666666666666,
              "#ed7953"
             ],
             [
              0.7777777777777778,
              "#fb9f3a"
             ],
             [
              0.8888888888888888,
              "#fdca26"
             ],
             [
              1,
              "#f0f921"
             ]
            ],
            "type": "histogram2d"
           }
          ],
          "histogram2dcontour": [
           {
            "colorbar": {
             "outlinewidth": 0,
             "ticks": ""
            },
            "colorscale": [
             [
              0,
              "#0d0887"
             ],
             [
              0.1111111111111111,
              "#46039f"
             ],
             [
              0.2222222222222222,
              "#7201a8"
             ],
             [
              0.3333333333333333,
              "#9c179e"
             ],
             [
              0.4444444444444444,
              "#bd3786"
             ],
             [
              0.5555555555555556,
              "#d8576b"
             ],
             [
              0.6666666666666666,
              "#ed7953"
             ],
             [
              0.7777777777777778,
              "#fb9f3a"
             ],
             [
              0.8888888888888888,
              "#fdca26"
             ],
             [
              1,
              "#f0f921"
             ]
            ],
            "type": "histogram2dcontour"
           }
          ],
          "mesh3d": [
           {
            "colorbar": {
             "outlinewidth": 0,
             "ticks": ""
            },
            "type": "mesh3d"
           }
          ],
          "parcoords": [
           {
            "line": {
             "colorbar": {
              "outlinewidth": 0,
              "ticks": ""
             }
            },
            "type": "parcoords"
           }
          ],
          "pie": [
           {
            "automargin": true,
            "type": "pie"
           }
          ],
          "scatter": [
           {
            "fillpattern": {
             "fillmode": "overlay",
             "size": 10,
             "solidity": 0.2
            },
            "type": "scatter"
           }
          ],
          "scatter3d": [
           {
            "line": {
             "colorbar": {
              "outlinewidth": 0,
              "ticks": ""
             }
            },
            "marker": {
             "colorbar": {
              "outlinewidth": 0,
              "ticks": ""
             }
            },
            "type": "scatter3d"
           }
          ],
          "scattercarpet": [
           {
            "marker": {
             "colorbar": {
              "outlinewidth": 0,
              "ticks": ""
             }
            },
            "type": "scattercarpet"
           }
          ],
          "scattergeo": [
           {
            "marker": {
             "colorbar": {
              "outlinewidth": 0,
              "ticks": ""
             }
            },
            "type": "scattergeo"
           }
          ],
          "scattergl": [
           {
            "marker": {
             "colorbar": {
              "outlinewidth": 0,
              "ticks": ""
             }
            },
            "type": "scattergl"
           }
          ],
          "scattermapbox": [
           {
            "marker": {
             "colorbar": {
              "outlinewidth": 0,
              "ticks": ""
             }
            },
            "type": "scattermapbox"
           }
          ],
          "scatterpolar": [
           {
            "marker": {
             "colorbar": {
              "outlinewidth": 0,
              "ticks": ""
             }
            },
            "type": "scatterpolar"
           }
          ],
          "scatterpolargl": [
           {
            "marker": {
             "colorbar": {
              "outlinewidth": 0,
              "ticks": ""
             }
            },
            "type": "scatterpolargl"
           }
          ],
          "scatterternary": [
           {
            "marker": {
             "colorbar": {
              "outlinewidth": 0,
              "ticks": ""
             }
            },
            "type": "scatterternary"
           }
          ],
          "surface": [
           {
            "colorbar": {
             "outlinewidth": 0,
             "ticks": ""
            },
            "colorscale": [
             [
              0,
              "#0d0887"
             ],
             [
              0.1111111111111111,
              "#46039f"
             ],
             [
              0.2222222222222222,
              "#7201a8"
             ],
             [
              0.3333333333333333,
              "#9c179e"
             ],
             [
              0.4444444444444444,
              "#bd3786"
             ],
             [
              0.5555555555555556,
              "#d8576b"
             ],
             [
              0.6666666666666666,
              "#ed7953"
             ],
             [
              0.7777777777777778,
              "#fb9f3a"
             ],
             [
              0.8888888888888888,
              "#fdca26"
             ],
             [
              1,
              "#f0f921"
             ]
            ],
            "type": "surface"
           }
          ],
          "table": [
           {
            "cells": {
             "fill": {
              "color": "#EBF0F8"
             },
             "line": {
              "color": "white"
             }
            },
            "header": {
             "fill": {
              "color": "#C8D4E3"
             },
             "line": {
              "color": "white"
             }
            },
            "type": "table"
           }
          ]
         },
         "layout": {
          "annotationdefaults": {
           "arrowcolor": "#2a3f5f",
           "arrowhead": 0,
           "arrowwidth": 1
          },
          "autotypenumbers": "strict",
          "coloraxis": {
           "colorbar": {
            "outlinewidth": 0,
            "ticks": ""
           }
          },
          "colorscale": {
           "diverging": [
            [
             0,
             "#8e0152"
            ],
            [
             0.1,
             "#c51b7d"
            ],
            [
             0.2,
             "#de77ae"
            ],
            [
             0.3,
             "#f1b6da"
            ],
            [
             0.4,
             "#fde0ef"
            ],
            [
             0.5,
             "#f7f7f7"
            ],
            [
             0.6,
             "#e6f5d0"
            ],
            [
             0.7,
             "#b8e186"
            ],
            [
             0.8,
             "#7fbc41"
            ],
            [
             0.9,
             "#4d9221"
            ],
            [
             1,
             "#276419"
            ]
           ],
           "sequential": [
            [
             0,
             "#0d0887"
            ],
            [
             0.1111111111111111,
             "#46039f"
            ],
            [
             0.2222222222222222,
             "#7201a8"
            ],
            [
             0.3333333333333333,
             "#9c179e"
            ],
            [
             0.4444444444444444,
             "#bd3786"
            ],
            [
             0.5555555555555556,
             "#d8576b"
            ],
            [
             0.6666666666666666,
             "#ed7953"
            ],
            [
             0.7777777777777778,
             "#fb9f3a"
            ],
            [
             0.8888888888888888,
             "#fdca26"
            ],
            [
             1,
             "#f0f921"
            ]
           ],
           "sequentialminus": [
            [
             0,
             "#0d0887"
            ],
            [
             0.1111111111111111,
             "#46039f"
            ],
            [
             0.2222222222222222,
             "#7201a8"
            ],
            [
             0.3333333333333333,
             "#9c179e"
            ],
            [
             0.4444444444444444,
             "#bd3786"
            ],
            [
             0.5555555555555556,
             "#d8576b"
            ],
            [
             0.6666666666666666,
             "#ed7953"
            ],
            [
             0.7777777777777778,
             "#fb9f3a"
            ],
            [
             0.8888888888888888,
             "#fdca26"
            ],
            [
             1,
             "#f0f921"
            ]
           ]
          },
          "colorway": [
           "#636efa",
           "#EF553B",
           "#00cc96",
           "#ab63fa",
           "#FFA15A",
           "#19d3f3",
           "#FF6692",
           "#B6E880",
           "#FF97FF",
           "#FECB52"
          ],
          "font": {
           "color": "#2a3f5f"
          },
          "geo": {
           "bgcolor": "white",
           "lakecolor": "white",
           "landcolor": "#E5ECF6",
           "showlakes": true,
           "showland": true,
           "subunitcolor": "white"
          },
          "hoverlabel": {
           "align": "left"
          },
          "hovermode": "closest",
          "mapbox": {
           "style": "light"
          },
          "paper_bgcolor": "white",
          "plot_bgcolor": "#E5ECF6",
          "polar": {
           "angularaxis": {
            "gridcolor": "white",
            "linecolor": "white",
            "ticks": ""
           },
           "bgcolor": "#E5ECF6",
           "radialaxis": {
            "gridcolor": "white",
            "linecolor": "white",
            "ticks": ""
           }
          },
          "scene": {
           "xaxis": {
            "backgroundcolor": "#E5ECF6",
            "gridcolor": "white",
            "gridwidth": 2,
            "linecolor": "white",
            "showbackground": true,
            "ticks": "",
            "zerolinecolor": "white"
           },
           "yaxis": {
            "backgroundcolor": "#E5ECF6",
            "gridcolor": "white",
            "gridwidth": 2,
            "linecolor": "white",
            "showbackground": true,
            "ticks": "",
            "zerolinecolor": "white"
           },
           "zaxis": {
            "backgroundcolor": "#E5ECF6",
            "gridcolor": "white",
            "gridwidth": 2,
            "linecolor": "white",
            "showbackground": true,
            "ticks": "",
            "zerolinecolor": "white"
           }
          },
          "shapedefaults": {
           "line": {
            "color": "#2a3f5f"
           }
          },
          "ternary": {
           "aaxis": {
            "gridcolor": "white",
            "linecolor": "white",
            "ticks": ""
           },
           "baxis": {
            "gridcolor": "white",
            "linecolor": "white",
            "ticks": ""
           },
           "bgcolor": "#E5ECF6",
           "caxis": {
            "gridcolor": "white",
            "linecolor": "white",
            "ticks": ""
           }
          },
          "title": {
           "x": 0.05
          },
          "xaxis": {
           "automargin": true,
           "gridcolor": "white",
           "linecolor": "white",
           "ticks": "",
           "title": {
            "standoff": 15
           },
           "zerolinecolor": "white",
           "zerolinewidth": 2
          },
          "yaxis": {
           "automargin": true,
           "gridcolor": "white",
           "linecolor": "white",
           "ticks": "",
           "title": {
            "standoff": 15
           },
           "zerolinecolor": "white",
           "zerolinewidth": 2
          }
         }
        },
        "xaxis": {
         "anchor": "y",
         "domain": [
          0,
          1
         ],
         "title": {
          "text": "x"
         }
        },
        "yaxis": {
         "anchor": "x",
         "domain": [
          0,
          1
         ],
         "title": {
          "text": "y"
         }
        }
       }
      },
      "text/html": [
       "<div>                            <div id=\"d68a986c-8b87-43a1-9163-f7526ffebfdf\" class=\"plotly-graph-div\" style=\"height:525px; width:100%;\"></div>            <script type=\"text/javascript\">                require([\"plotly\"], function(Plotly) {                    window.PLOTLYENV=window.PLOTLYENV || {};                                    if (document.getElementById(\"d68a986c-8b87-43a1-9163-f7526ffebfdf\")) {                    Plotly.newPlot(                        \"d68a986c-8b87-43a1-9163-f7526ffebfdf\",                        [{\"alignmentgroup\":\"True\",\"hovertemplate\":\"x=%{x}\\u003cbr\\u003ey=%{y}\\u003cextra\\u003e\\u003c\\u002fextra\\u003e\",\"legendgroup\":\"\",\"marker\":{\"color\":\"#636efa\",\"pattern\":{\"shape\":\"\"}},\"name\":\"\",\"offsetgroup\":\"\",\"orientation\":\"v\",\"showlegend\":false,\"textposition\":\"auto\",\"x\":[\"Brauerei Heller-Trum \\u002f Schlenkerla\",\"Upstream Brewing Company - Legacy\",\"Lindeboom Bierbrouwerij B.V.\",\"Toppling Goliath Brewing Company\",\"Karl Strauss Brewing Company\",\"Thoroughbreds Grill & Brewing\",\"Potters Hotel & Brewery (Hunter Beer Co)\",\"O'Connor Brewing Co.\",\"Silver Creek Brewing Co.\",\"Brasserie Lef\\u00e8bvre SA\",\"Brauerei Baar AG\",\"Ram Big Horn Brewery\"],\"xaxis\":\"x\",\"y\":[2404,22,15,42,942,22,59,39,28,957,4,1],\"yaxis\":\"y\",\"type\":\"bar\"}],                        {\"template\":{\"data\":{\"histogram2dcontour\":[{\"type\":\"histogram2dcontour\",\"colorbar\":{\"outlinewidth\":0,\"ticks\":\"\"},\"colorscale\":[[0.0,\"#0d0887\"],[0.1111111111111111,\"#46039f\"],[0.2222222222222222,\"#7201a8\"],[0.3333333333333333,\"#9c179e\"],[0.4444444444444444,\"#bd3786\"],[0.5555555555555556,\"#d8576b\"],[0.6666666666666666,\"#ed7953\"],[0.7777777777777778,\"#fb9f3a\"],[0.8888888888888888,\"#fdca26\"],[1.0,\"#f0f921\"]]}],\"choropleth\":[{\"type\":\"choropleth\",\"colorbar\":{\"outlinewidth\":0,\"ticks\":\"\"}}],\"histogram2d\":[{\"type\":\"histogram2d\",\"colorbar\":{\"outlinewidth\":0,\"ticks\":\"\"},\"colorscale\":[[0.0,\"#0d0887\"],[0.1111111111111111,\"#46039f\"],[0.2222222222222222,\"#7201a8\"],[0.3333333333333333,\"#9c179e\"],[0.4444444444444444,\"#bd3786\"],[0.5555555555555556,\"#d8576b\"],[0.6666666666666666,\"#ed7953\"],[0.7777777777777778,\"#fb9f3a\"],[0.8888888888888888,\"#fdca26\"],[1.0,\"#f0f921\"]]}],\"heatmap\":[{\"type\":\"heatmap\",\"colorbar\":{\"outlinewidth\":0,\"ticks\":\"\"},\"colorscale\":[[0.0,\"#0d0887\"],[0.1111111111111111,\"#46039f\"],[0.2222222222222222,\"#7201a8\"],[0.3333333333333333,\"#9c179e\"],[0.4444444444444444,\"#bd3786\"],[0.5555555555555556,\"#d8576b\"],[0.6666666666666666,\"#ed7953\"],[0.7777777777777778,\"#fb9f3a\"],[0.8888888888888888,\"#fdca26\"],[1.0,\"#f0f921\"]]}],\"heatmapgl\":[{\"type\":\"heatmapgl\",\"colorbar\":{\"outlinewidth\":0,\"ticks\":\"\"},\"colorscale\":[[0.0,\"#0d0887\"],[0.1111111111111111,\"#46039f\"],[0.2222222222222222,\"#7201a8\"],[0.3333333333333333,\"#9c179e\"],[0.4444444444444444,\"#bd3786\"],[0.5555555555555556,\"#d8576b\"],[0.6666666666666666,\"#ed7953\"],[0.7777777777777778,\"#fb9f3a\"],[0.8888888888888888,\"#fdca26\"],[1.0,\"#f0f921\"]]}],\"contourcarpet\":[{\"type\":\"contourcarpet\",\"colorbar\":{\"outlinewidth\":0,\"ticks\":\"\"}}],\"contour\":[{\"type\":\"contour\",\"colorbar\":{\"outlinewidth\":0,\"ticks\":\"\"},\"colorscale\":[[0.0,\"#0d0887\"],[0.1111111111111111,\"#46039f\"],[0.2222222222222222,\"#7201a8\"],[0.3333333333333333,\"#9c179e\"],[0.4444444444444444,\"#bd3786\"],[0.5555555555555556,\"#d8576b\"],[0.6666666666666666,\"#ed7953\"],[0.7777777777777778,\"#fb9f3a\"],[0.8888888888888888,\"#fdca26\"],[1.0,\"#f0f921\"]]}],\"surface\":[{\"type\":\"surface\",\"colorbar\":{\"outlinewidth\":0,\"ticks\":\"\"},\"colorscale\":[[0.0,\"#0d0887\"],[0.1111111111111111,\"#46039f\"],[0.2222222222222222,\"#7201a8\"],[0.3333333333333333,\"#9c179e\"],[0.4444444444444444,\"#bd3786\"],[0.5555555555555556,\"#d8576b\"],[0.6666666666666666,\"#ed7953\"],[0.7777777777777778,\"#fb9f3a\"],[0.8888888888888888,\"#fdca26\"],[1.0,\"#f0f921\"]]}],\"mesh3d\":[{\"type\":\"mesh3d\",\"colorbar\":{\"outlinewidth\":0,\"ticks\":\"\"}}],\"scatter\":[{\"fillpattern\":{\"fillmode\":\"overlay\",\"size\":10,\"solidity\":0.2},\"type\":\"scatter\"}],\"parcoords\":[{\"type\":\"parcoords\",\"line\":{\"colorbar\":{\"outlinewidth\":0,\"ticks\":\"\"}}}],\"scatterpolargl\":[{\"type\":\"scatterpolargl\",\"marker\":{\"colorbar\":{\"outlinewidth\":0,\"ticks\":\"\"}}}],\"bar\":[{\"error_x\":{\"color\":\"#2a3f5f\"},\"error_y\":{\"color\":\"#2a3f5f\"},\"marker\":{\"line\":{\"color\":\"#E5ECF6\",\"width\":0.5},\"pattern\":{\"fillmode\":\"overlay\",\"size\":10,\"solidity\":0.2}},\"type\":\"bar\"}],\"scattergeo\":[{\"type\":\"scattergeo\",\"marker\":{\"colorbar\":{\"outlinewidth\":0,\"ticks\":\"\"}}}],\"scatterpolar\":[{\"type\":\"scatterpolar\",\"marker\":{\"colorbar\":{\"outlinewidth\":0,\"ticks\":\"\"}}}],\"histogram\":[{\"marker\":{\"pattern\":{\"fillmode\":\"overlay\",\"size\":10,\"solidity\":0.2}},\"type\":\"histogram\"}],\"scattergl\":[{\"type\":\"scattergl\",\"marker\":{\"colorbar\":{\"outlinewidth\":0,\"ticks\":\"\"}}}],\"scatter3d\":[{\"type\":\"scatter3d\",\"line\":{\"colorbar\":{\"outlinewidth\":0,\"ticks\":\"\"}},\"marker\":{\"colorbar\":{\"outlinewidth\":0,\"ticks\":\"\"}}}],\"scattermapbox\":[{\"type\":\"scattermapbox\",\"marker\":{\"colorbar\":{\"outlinewidth\":0,\"ticks\":\"\"}}}],\"scatterternary\":[{\"type\":\"scatterternary\",\"marker\":{\"colorbar\":{\"outlinewidth\":0,\"ticks\":\"\"}}}],\"scattercarpet\":[{\"type\":\"scattercarpet\",\"marker\":{\"colorbar\":{\"outlinewidth\":0,\"ticks\":\"\"}}}],\"carpet\":[{\"aaxis\":{\"endlinecolor\":\"#2a3f5f\",\"gridcolor\":\"white\",\"linecolor\":\"white\",\"minorgridcolor\":\"white\",\"startlinecolor\":\"#2a3f5f\"},\"baxis\":{\"endlinecolor\":\"#2a3f5f\",\"gridcolor\":\"white\",\"linecolor\":\"white\",\"minorgridcolor\":\"white\",\"startlinecolor\":\"#2a3f5f\"},\"type\":\"carpet\"}],\"table\":[{\"cells\":{\"fill\":{\"color\":\"#EBF0F8\"},\"line\":{\"color\":\"white\"}},\"header\":{\"fill\":{\"color\":\"#C8D4E3\"},\"line\":{\"color\":\"white\"}},\"type\":\"table\"}],\"barpolar\":[{\"marker\":{\"line\":{\"color\":\"#E5ECF6\",\"width\":0.5},\"pattern\":{\"fillmode\":\"overlay\",\"size\":10,\"solidity\":0.2}},\"type\":\"barpolar\"}],\"pie\":[{\"automargin\":true,\"type\":\"pie\"}]},\"layout\":{\"autotypenumbers\":\"strict\",\"colorway\":[\"#636efa\",\"#EF553B\",\"#00cc96\",\"#ab63fa\",\"#FFA15A\",\"#19d3f3\",\"#FF6692\",\"#B6E880\",\"#FF97FF\",\"#FECB52\"],\"font\":{\"color\":\"#2a3f5f\"},\"hovermode\":\"closest\",\"hoverlabel\":{\"align\":\"left\"},\"paper_bgcolor\":\"white\",\"plot_bgcolor\":\"#E5ECF6\",\"polar\":{\"bgcolor\":\"#E5ECF6\",\"angularaxis\":{\"gridcolor\":\"white\",\"linecolor\":\"white\",\"ticks\":\"\"},\"radialaxis\":{\"gridcolor\":\"white\",\"linecolor\":\"white\",\"ticks\":\"\"}},\"ternary\":{\"bgcolor\":\"#E5ECF6\",\"aaxis\":{\"gridcolor\":\"white\",\"linecolor\":\"white\",\"ticks\":\"\"},\"baxis\":{\"gridcolor\":\"white\",\"linecolor\":\"white\",\"ticks\":\"\"},\"caxis\":{\"gridcolor\":\"white\",\"linecolor\":\"white\",\"ticks\":\"\"}},\"coloraxis\":{\"colorbar\":{\"outlinewidth\":0,\"ticks\":\"\"}},\"colorscale\":{\"sequential\":[[0.0,\"#0d0887\"],[0.1111111111111111,\"#46039f\"],[0.2222222222222222,\"#7201a8\"],[0.3333333333333333,\"#9c179e\"],[0.4444444444444444,\"#bd3786\"],[0.5555555555555556,\"#d8576b\"],[0.6666666666666666,\"#ed7953\"],[0.7777777777777778,\"#fb9f3a\"],[0.8888888888888888,\"#fdca26\"],[1.0,\"#f0f921\"]],\"sequentialminus\":[[0.0,\"#0d0887\"],[0.1111111111111111,\"#46039f\"],[0.2222222222222222,\"#7201a8\"],[0.3333333333333333,\"#9c179e\"],[0.4444444444444444,\"#bd3786\"],[0.5555555555555556,\"#d8576b\"],[0.6666666666666666,\"#ed7953\"],[0.7777777777777778,\"#fb9f3a\"],[0.8888888888888888,\"#fdca26\"],[1.0,\"#f0f921\"]],\"diverging\":[[0,\"#8e0152\"],[0.1,\"#c51b7d\"],[0.2,\"#de77ae\"],[0.3,\"#f1b6da\"],[0.4,\"#fde0ef\"],[0.5,\"#f7f7f7\"],[0.6,\"#e6f5d0\"],[0.7,\"#b8e186\"],[0.8,\"#7fbc41\"],[0.9,\"#4d9221\"],[1,\"#276419\"]]},\"xaxis\":{\"gridcolor\":\"white\",\"linecolor\":\"white\",\"ticks\":\"\",\"title\":{\"standoff\":15},\"zerolinecolor\":\"white\",\"automargin\":true,\"zerolinewidth\":2},\"yaxis\":{\"gridcolor\":\"white\",\"linecolor\":\"white\",\"ticks\":\"\",\"title\":{\"standoff\":15},\"zerolinecolor\":\"white\",\"automargin\":true,\"zerolinewidth\":2},\"scene\":{\"xaxis\":{\"backgroundcolor\":\"#E5ECF6\",\"gridcolor\":\"white\",\"linecolor\":\"white\",\"showbackground\":true,\"ticks\":\"\",\"zerolinecolor\":\"white\",\"gridwidth\":2},\"yaxis\":{\"backgroundcolor\":\"#E5ECF6\",\"gridcolor\":\"white\",\"linecolor\":\"white\",\"showbackground\":true,\"ticks\":\"\",\"zerolinecolor\":\"white\",\"gridwidth\":2},\"zaxis\":{\"backgroundcolor\":\"#E5ECF6\",\"gridcolor\":\"white\",\"linecolor\":\"white\",\"showbackground\":true,\"ticks\":\"\",\"zerolinecolor\":\"white\",\"gridwidth\":2}},\"shapedefaults\":{\"line\":{\"color\":\"#2a3f5f\"}},\"annotationdefaults\":{\"arrowcolor\":\"#2a3f5f\",\"arrowhead\":0,\"arrowwidth\":1},\"geo\":{\"bgcolor\":\"white\",\"landcolor\":\"#E5ECF6\",\"subunitcolor\":\"white\",\"showland\":true,\"showlakes\":true,\"lakecolor\":\"white\"},\"title\":{\"x\":0.05},\"mapbox\":{\"style\":\"light\"}}},\"xaxis\":{\"anchor\":\"y\",\"domain\":[0.0,1.0],\"title\":{\"text\":\"x\"}},\"yaxis\":{\"anchor\":\"x\",\"domain\":[0.0,1.0],\"title\":{\"text\":\"y\"}},\"legend\":{\"tracegroupgap\":0},\"margin\":{\"t\":60},\"barmode\":\"relative\"},                        {\"responsive\": true}                    ).then(function(){\n",
       "                            \n",
       "var gd = document.getElementById('d68a986c-8b87-43a1-9163-f7526ffebfdf');\n",
       "var x = new MutationObserver(function (mutations, observer) {{\n",
       "        var display = window.getComputedStyle(gd).display;\n",
       "        if (!display || display === 'none') {{\n",
       "            console.log([gd, 'removed!']);\n",
       "            Plotly.purge(gd);\n",
       "            observer.disconnect();\n",
       "        }}\n",
       "}});\n",
       "\n",
       "// Listen for the removal of the full notebook cells\n",
       "var notebookContainer = gd.closest('#notebook-container');\n",
       "if (notebookContainer) {{\n",
       "    x.observe(notebookContainer, {childList: true});\n",
       "}}\n",
       "\n",
       "// Listen for the clearing of the current output cell\n",
       "var outputEl = gd.closest('.output');\n",
       "if (outputEl) {{\n",
       "    x.observe(outputEl, {childList: true});\n",
       "}}\n",
       "\n",
       "                        })                };                });            </script>        </div>"
      ]
     },
     "metadata": {},
     "output_type": "display_data"
    }
   ],
   "source": [
    "sample = breweries.sample(12)\n",
    "\n",
    "px.bar(x = sample.select('brewery_name').to_series(),\n",
    "       y = sample.select('total_beers').to_series())"
   ]
  },
  {
   "cell_type": "code",
   "execution_count": 76,
   "metadata": {},
   "outputs": [
    {
     "data": {
      "text/html": [
       "<div>\n",
       "<style scoped>\n",
       "    .dataframe tbody tr th:only-of-type {\n",
       "        vertical-align: middle;\n",
       "    }\n",
       "\n",
       "    .dataframe tbody tr th {\n",
       "        vertical-align: top;\n",
       "    }\n",
       "\n",
       "    .dataframe thead th {\n",
       "        text-align: right;\n",
       "    }\n",
       "</style>\n",
       "<table border=\"1\" class=\"dataframe\">\n",
       "  <thead>\n",
       "    <tr style=\"text-align: right;\">\n",
       "      <th></th>\n",
       "      <th>brewery_name</th>\n",
       "      <th>total_beers</th>\n",
       "    </tr>\n",
       "  </thead>\n",
       "  <tbody>\n",
       "    <tr>\n",
       "      <th>0</th>\n",
       "      <td>Fulton Beer</td>\n",
       "      <td>72</td>\n",
       "    </tr>\n",
       "    <tr>\n",
       "      <th>1</th>\n",
       "      <td>Brauerei Rosengarten AG</td>\n",
       "      <td>6</td>\n",
       "    </tr>\n",
       "    <tr>\n",
       "      <th>2</th>\n",
       "      <td>Brewery Creek Inn Restaurant &amp; Brewery</td>\n",
       "      <td>8</td>\n",
       "    </tr>\n",
       "    <tr>\n",
       "      <th>3</th>\n",
       "      <td>Brasserie Des Alberes</td>\n",
       "      <td>3</td>\n",
       "    </tr>\n",
       "    <tr>\n",
       "      <th>4</th>\n",
       "      <td>North Peak Brewing Company</td>\n",
       "      <td>409</td>\n",
       "    </tr>\n",
       "    <tr>\n",
       "      <th>5</th>\n",
       "      <td>United Breweries - UB Group</td>\n",
       "      <td>651</td>\n",
       "    </tr>\n",
       "    <tr>\n",
       "      <th>6</th>\n",
       "      <td>Legend Brewing Co.</td>\n",
       "      <td>886</td>\n",
       "    </tr>\n",
       "    <tr>\n",
       "      <th>7</th>\n",
       "      <td>Derwent Brewing Co.</td>\n",
       "      <td>1</td>\n",
       "    </tr>\n",
       "    <tr>\n",
       "      <th>8</th>\n",
       "      <td>J.J. Bitting Brewing Company</td>\n",
       "      <td>179</td>\n",
       "    </tr>\n",
       "    <tr>\n",
       "      <th>9</th>\n",
       "      <td>General Lafayette Inn &amp; Brewery</td>\n",
       "      <td>451</td>\n",
       "    </tr>\n",
       "    <tr>\n",
       "      <th>10</th>\n",
       "      <td>Concrete Cow Brewery</td>\n",
       "      <td>2</td>\n",
       "    </tr>\n",
       "    <tr>\n",
       "      <th>11</th>\n",
       "      <td>Ridna Marka</td>\n",
       "      <td>4</td>\n",
       "    </tr>\n",
       "    <tr>\n",
       "      <th>12</th>\n",
       "      <td>Beer Station</td>\n",
       "      <td>4</td>\n",
       "    </tr>\n",
       "    <tr>\n",
       "      <th>13</th>\n",
       "      <td>Ahlafors Bryggerier AB</td>\n",
       "      <td>7</td>\n",
       "    </tr>\n",
       "    <tr>\n",
       "      <th>14</th>\n",
       "      <td>Surf Brewery</td>\n",
       "      <td>18</td>\n",
       "    </tr>\n",
       "    <tr>\n",
       "      <th>15</th>\n",
       "      <td>Brasserie De La Brière</td>\n",
       "      <td>4</td>\n",
       "    </tr>\n",
       "    <tr>\n",
       "      <th>16</th>\n",
       "      <td>Belhaven Brewery Company Ltd.</td>\n",
       "      <td>2400</td>\n",
       "    </tr>\n",
       "    <tr>\n",
       "      <th>17</th>\n",
       "      <td>Cervejaria Munique</td>\n",
       "      <td>3</td>\n",
       "    </tr>\n",
       "    <tr>\n",
       "      <th>18</th>\n",
       "      <td>Black Lotus Brewery</td>\n",
       "      <td>38</td>\n",
       "    </tr>\n",
       "    <tr>\n",
       "      <th>19</th>\n",
       "      <td>AS Puls Brewery</td>\n",
       "      <td>6</td>\n",
       "    </tr>\n",
       "    <tr>\n",
       "      <th>20</th>\n",
       "      <td>Aviator Brewing Company</td>\n",
       "      <td>109</td>\n",
       "    </tr>\n",
       "    <tr>\n",
       "      <th>21</th>\n",
       "      <td>The Backyard Brewhouse</td>\n",
       "      <td>1</td>\n",
       "    </tr>\n",
       "    <tr>\n",
       "      <th>22</th>\n",
       "      <td>First Coast Brewing</td>\n",
       "      <td>6</td>\n",
       "    </tr>\n",
       "    <tr>\n",
       "      <th>23</th>\n",
       "      <td>Jergensen`s Brewery</td>\n",
       "      <td>4</td>\n",
       "    </tr>\n",
       "    <tr>\n",
       "      <th>24</th>\n",
       "      <td>Brasserie De Mont-Saint-Guibert</td>\n",
       "      <td>5</td>\n",
       "    </tr>\n",
       "    <tr>\n",
       "      <th>25</th>\n",
       "      <td>Suomenlinnan Panimo Sveaborgs Bryggeri</td>\n",
       "      <td>2</td>\n",
       "    </tr>\n",
       "    <tr>\n",
       "      <th>26</th>\n",
       "      <td>Erix Birra</td>\n",
       "      <td>1</td>\n",
       "    </tr>\n",
       "    <tr>\n",
       "      <th>27</th>\n",
       "      <td>DuClaw Brewing Co.</td>\n",
       "      <td>1</td>\n",
       "    </tr>\n",
       "    <tr>\n",
       "      <th>28</th>\n",
       "      <td>The Run of the Mill Public House &amp; Brewery</td>\n",
       "      <td>37</td>\n",
       "    </tr>\n",
       "    <tr>\n",
       "      <th>29</th>\n",
       "      <td>Mandalay Brewery</td>\n",
       "      <td>2</td>\n",
       "    </tr>\n",
       "    <tr>\n",
       "      <th>30</th>\n",
       "      <td>Brasserie d'Oran</td>\n",
       "      <td>2</td>\n",
       "    </tr>\n",
       "    <tr>\n",
       "      <th>31</th>\n",
       "      <td>Craggie Brewing Company</td>\n",
       "      <td>89</td>\n",
       "    </tr>\n",
       "    <tr>\n",
       "      <th>32</th>\n",
       "      <td>Doghouse Brewery Co</td>\n",
       "      <td>1</td>\n",
       "    </tr>\n",
       "    <tr>\n",
       "      <th>33</th>\n",
       "      <td>Tunbridge Brewing</td>\n",
       "      <td>2</td>\n",
       "    </tr>\n",
       "    <tr>\n",
       "      <th>34</th>\n",
       "      <td>Front Street Brewery</td>\n",
       "      <td>82</td>\n",
       "    </tr>\n",
       "    <tr>\n",
       "      <th>35</th>\n",
       "      <td>Alina S.R.L.</td>\n",
       "      <td>10</td>\n",
       "    </tr>\n",
       "    <tr>\n",
       "      <th>36</th>\n",
       "      <td>Nodding Head Brewery and Restaurant</td>\n",
       "      <td>346</td>\n",
       "    </tr>\n",
       "    <tr>\n",
       "      <th>37</th>\n",
       "      <td>Italian Oasis Restaurant And Brewery</td>\n",
       "      <td>9</td>\n",
       "    </tr>\n",
       "    <tr>\n",
       "      <th>38</th>\n",
       "      <td>Grivita International (Brau Union Romania)</td>\n",
       "      <td>2</td>\n",
       "    </tr>\n",
       "    <tr>\n",
       "      <th>39</th>\n",
       "      <td>Weissbierbrauerei Schwendl</td>\n",
       "      <td>3</td>\n",
       "    </tr>\n",
       "    <tr>\n",
       "      <th>40</th>\n",
       "      <td>Gold Coast Brewpub</td>\n",
       "      <td>8</td>\n",
       "    </tr>\n",
       "    <tr>\n",
       "      <th>41</th>\n",
       "      <td>Oranjeboom Bierbrouwerij B. V.</td>\n",
       "      <td>207</td>\n",
       "    </tr>\n",
       "    <tr>\n",
       "      <th>42</th>\n",
       "      <td>Lion Breweries</td>\n",
       "      <td>18</td>\n",
       "    </tr>\n",
       "    <tr>\n",
       "      <th>43</th>\n",
       "      <td>Shenzhen Kingway Brewery</td>\n",
       "      <td>14</td>\n",
       "    </tr>\n",
       "    <tr>\n",
       "      <th>44</th>\n",
       "      <td>Equinox Brewing Company</td>\n",
       "      <td>63</td>\n",
       "    </tr>\n",
       "    <tr>\n",
       "      <th>45</th>\n",
       "      <td>La Franche (Bière artisanale de Franche Comté)</td>\n",
       "      <td>1</td>\n",
       "    </tr>\n",
       "    <tr>\n",
       "      <th>46</th>\n",
       "      <td>Humes Brewing Company</td>\n",
       "      <td>2</td>\n",
       "    </tr>\n",
       "    <tr>\n",
       "      <th>47</th>\n",
       "      <td>San Diego Brewing Co.</td>\n",
       "      <td>105</td>\n",
       "    </tr>\n",
       "    <tr>\n",
       "      <th>48</th>\n",
       "      <td>OPA Bier</td>\n",
       "      <td>1</td>\n",
       "    </tr>\n",
       "    <tr>\n",
       "      <th>49</th>\n",
       "      <td>Kronen Brauhaus</td>\n",
       "      <td>1</td>\n",
       "    </tr>\n",
       "  </tbody>\n",
       "</table>\n",
       "</div>"
      ],
      "text/plain": [
       "                                      brewery_name  total_beers\n",
       "0                                      Fulton Beer           72\n",
       "1                          Brauerei Rosengarten AG            6\n",
       "2           Brewery Creek Inn Restaurant & Brewery            8\n",
       "3                            Brasserie Des Alberes            3\n",
       "4                       North Peak Brewing Company          409\n",
       "5                      United Breweries - UB Group          651\n",
       "6                               Legend Brewing Co.          886\n",
       "7                              Derwent Brewing Co.            1\n",
       "8                     J.J. Bitting Brewing Company          179\n",
       "9                  General Lafayette Inn & Brewery          451\n",
       "10                            Concrete Cow Brewery            2\n",
       "11                                     Ridna Marka            4\n",
       "12                                    Beer Station            4\n",
       "13                          Ahlafors Bryggerier AB            7\n",
       "14                                    Surf Brewery           18\n",
       "15                          Brasserie De La Brière            4\n",
       "16                   Belhaven Brewery Company Ltd.         2400\n",
       "17                              Cervejaria Munique            3\n",
       "18                             Black Lotus Brewery           38\n",
       "19                                 AS Puls Brewery            6\n",
       "20                         Aviator Brewing Company          109\n",
       "21                          The Backyard Brewhouse            1\n",
       "22                             First Coast Brewing            6\n",
       "23                             Jergensen`s Brewery            4\n",
       "24                 Brasserie De Mont-Saint-Guibert            5\n",
       "25          Suomenlinnan Panimo Sveaborgs Bryggeri            2\n",
       "26                                      Erix Birra            1\n",
       "27                              DuClaw Brewing Co.            1\n",
       "28      The Run of the Mill Public House & Brewery           37\n",
       "29                                Mandalay Brewery            2\n",
       "30                                Brasserie d'Oran            2\n",
       "31                         Craggie Brewing Company           89\n",
       "32                             Doghouse Brewery Co            1\n",
       "33                               Tunbridge Brewing            2\n",
       "34                            Front Street Brewery           82\n",
       "35                                    Alina S.R.L.           10\n",
       "36             Nodding Head Brewery and Restaurant          346\n",
       "37            Italian Oasis Restaurant And Brewery            9\n",
       "38      Grivita International (Brau Union Romania)            2\n",
       "39                      Weissbierbrauerei Schwendl            3\n",
       "40                              Gold Coast Brewpub            8\n",
       "41                  Oranjeboom Bierbrouwerij B. V.          207\n",
       "42                                  Lion Breweries           18\n",
       "43                        Shenzhen Kingway Brewery           14\n",
       "44                         Equinox Brewing Company           63\n",
       "45  La Franche (Bière artisanale de Franche Comté)            1\n",
       "46                           Humes Brewing Company            2\n",
       "47                           San Diego Brewing Co.          105\n",
       "48                                        OPA Bier            1\n",
       "49                                 Kronen Brauhaus            1"
      ]
     },
     "execution_count": 76,
     "metadata": {},
     "output_type": "execute_result"
    }
   ],
   "source": [
    "# Pasando Polars a Pandas\n",
    "sample = breweries.sample(50).to_pandas()\n",
    "sample"
   ]
  },
  {
   "cell_type": "code",
   "execution_count": 79,
   "metadata": {},
   "outputs": [
    {
     "data": {
      "application/vnd.plotly.v1+json": {
       "config": {
        "plotlyServerURL": "https://plot.ly"
       },
       "data": [
        {
         "alignmentgroup": "True",
         "hovertemplate": "brewery_name=%{x}<br>total_beers=%{y}<extra></extra>",
         "legendgroup": "",
         "marker": {
          "color": "#636efa",
          "pattern": {
           "shape": ""
          }
         },
         "name": "",
         "offsetgroup": "",
         "orientation": "v",
         "showlegend": false,
         "textposition": "auto",
         "type": "bar",
         "x": [
          "Ridna Marka",
          "Surf Brewery",
          "Lion Breweries",
          "Legend Brewing Co.",
          "The Backyard Brewhouse",
          "Nodding Head Brewery and Restaurant",
          "Kronen Brauhaus",
          "AS Puls Brewery",
          "Grivita International (Brau Union Romania)",
          "Ahlafors Bryggerier AB",
          "United Breweries - UB Group",
          "Tunbridge Brewing",
          "Brasserie De Mont-Saint-Guibert",
          "J.J. Bitting Brewing Company",
          "Suomenlinnan Panimo Sveaborgs Bryggeri"
         ],
         "xaxis": "x",
         "y": [
          4,
          18,
          18,
          886,
          1,
          346,
          1,
          6,
          2,
          7,
          651,
          2,
          5,
          179,
          2
         ],
         "yaxis": "y"
        }
       ],
       "layout": {
        "barmode": "relative",
        "legend": {
         "tracegroupgap": 0
        },
        "margin": {
         "t": 60
        },
        "template": {
         "data": {
          "bar": [
           {
            "error_x": {
             "color": "#2a3f5f"
            },
            "error_y": {
             "color": "#2a3f5f"
            },
            "marker": {
             "line": {
              "color": "#E5ECF6",
              "width": 0.5
             },
             "pattern": {
              "fillmode": "overlay",
              "size": 10,
              "solidity": 0.2
             }
            },
            "type": "bar"
           }
          ],
          "barpolar": [
           {
            "marker": {
             "line": {
              "color": "#E5ECF6",
              "width": 0.5
             },
             "pattern": {
              "fillmode": "overlay",
              "size": 10,
              "solidity": 0.2
             }
            },
            "type": "barpolar"
           }
          ],
          "carpet": [
           {
            "aaxis": {
             "endlinecolor": "#2a3f5f",
             "gridcolor": "white",
             "linecolor": "white",
             "minorgridcolor": "white",
             "startlinecolor": "#2a3f5f"
            },
            "baxis": {
             "endlinecolor": "#2a3f5f",
             "gridcolor": "white",
             "linecolor": "white",
             "minorgridcolor": "white",
             "startlinecolor": "#2a3f5f"
            },
            "type": "carpet"
           }
          ],
          "choropleth": [
           {
            "colorbar": {
             "outlinewidth": 0,
             "ticks": ""
            },
            "type": "choropleth"
           }
          ],
          "contour": [
           {
            "colorbar": {
             "outlinewidth": 0,
             "ticks": ""
            },
            "colorscale": [
             [
              0,
              "#0d0887"
             ],
             [
              0.1111111111111111,
              "#46039f"
             ],
             [
              0.2222222222222222,
              "#7201a8"
             ],
             [
              0.3333333333333333,
              "#9c179e"
             ],
             [
              0.4444444444444444,
              "#bd3786"
             ],
             [
              0.5555555555555556,
              "#d8576b"
             ],
             [
              0.6666666666666666,
              "#ed7953"
             ],
             [
              0.7777777777777778,
              "#fb9f3a"
             ],
             [
              0.8888888888888888,
              "#fdca26"
             ],
             [
              1,
              "#f0f921"
             ]
            ],
            "type": "contour"
           }
          ],
          "contourcarpet": [
           {
            "colorbar": {
             "outlinewidth": 0,
             "ticks": ""
            },
            "type": "contourcarpet"
           }
          ],
          "heatmap": [
           {
            "colorbar": {
             "outlinewidth": 0,
             "ticks": ""
            },
            "colorscale": [
             [
              0,
              "#0d0887"
             ],
             [
              0.1111111111111111,
              "#46039f"
             ],
             [
              0.2222222222222222,
              "#7201a8"
             ],
             [
              0.3333333333333333,
              "#9c179e"
             ],
             [
              0.4444444444444444,
              "#bd3786"
             ],
             [
              0.5555555555555556,
              "#d8576b"
             ],
             [
              0.6666666666666666,
              "#ed7953"
             ],
             [
              0.7777777777777778,
              "#fb9f3a"
             ],
             [
              0.8888888888888888,
              "#fdca26"
             ],
             [
              1,
              "#f0f921"
             ]
            ],
            "type": "heatmap"
           }
          ],
          "heatmapgl": [
           {
            "colorbar": {
             "outlinewidth": 0,
             "ticks": ""
            },
            "colorscale": [
             [
              0,
              "#0d0887"
             ],
             [
              0.1111111111111111,
              "#46039f"
             ],
             [
              0.2222222222222222,
              "#7201a8"
             ],
             [
              0.3333333333333333,
              "#9c179e"
             ],
             [
              0.4444444444444444,
              "#bd3786"
             ],
             [
              0.5555555555555556,
              "#d8576b"
             ],
             [
              0.6666666666666666,
              "#ed7953"
             ],
             [
              0.7777777777777778,
              "#fb9f3a"
             ],
             [
              0.8888888888888888,
              "#fdca26"
             ],
             [
              1,
              "#f0f921"
             ]
            ],
            "type": "heatmapgl"
           }
          ],
          "histogram": [
           {
            "marker": {
             "pattern": {
              "fillmode": "overlay",
              "size": 10,
              "solidity": 0.2
             }
            },
            "type": "histogram"
           }
          ],
          "histogram2d": [
           {
            "colorbar": {
             "outlinewidth": 0,
             "ticks": ""
            },
            "colorscale": [
             [
              0,
              "#0d0887"
             ],
             [
              0.1111111111111111,
              "#46039f"
             ],
             [
              0.2222222222222222,
              "#7201a8"
             ],
             [
              0.3333333333333333,
              "#9c179e"
             ],
             [
              0.4444444444444444,
              "#bd3786"
             ],
             [
              0.5555555555555556,
              "#d8576b"
             ],
             [
              0.6666666666666666,
              "#ed7953"
             ],
             [
              0.7777777777777778,
              "#fb9f3a"
             ],
             [
              0.8888888888888888,
              "#fdca26"
             ],
             [
              1,
              "#f0f921"
             ]
            ],
            "type": "histogram2d"
           }
          ],
          "histogram2dcontour": [
           {
            "colorbar": {
             "outlinewidth": 0,
             "ticks": ""
            },
            "colorscale": [
             [
              0,
              "#0d0887"
             ],
             [
              0.1111111111111111,
              "#46039f"
             ],
             [
              0.2222222222222222,
              "#7201a8"
             ],
             [
              0.3333333333333333,
              "#9c179e"
             ],
             [
              0.4444444444444444,
              "#bd3786"
             ],
             [
              0.5555555555555556,
              "#d8576b"
             ],
             [
              0.6666666666666666,
              "#ed7953"
             ],
             [
              0.7777777777777778,
              "#fb9f3a"
             ],
             [
              0.8888888888888888,
              "#fdca26"
             ],
             [
              1,
              "#f0f921"
             ]
            ],
            "type": "histogram2dcontour"
           }
          ],
          "mesh3d": [
           {
            "colorbar": {
             "outlinewidth": 0,
             "ticks": ""
            },
            "type": "mesh3d"
           }
          ],
          "parcoords": [
           {
            "line": {
             "colorbar": {
              "outlinewidth": 0,
              "ticks": ""
             }
            },
            "type": "parcoords"
           }
          ],
          "pie": [
           {
            "automargin": true,
            "type": "pie"
           }
          ],
          "scatter": [
           {
            "fillpattern": {
             "fillmode": "overlay",
             "size": 10,
             "solidity": 0.2
            },
            "type": "scatter"
           }
          ],
          "scatter3d": [
           {
            "line": {
             "colorbar": {
              "outlinewidth": 0,
              "ticks": ""
             }
            },
            "marker": {
             "colorbar": {
              "outlinewidth": 0,
              "ticks": ""
             }
            },
            "type": "scatter3d"
           }
          ],
          "scattercarpet": [
           {
            "marker": {
             "colorbar": {
              "outlinewidth": 0,
              "ticks": ""
             }
            },
            "type": "scattercarpet"
           }
          ],
          "scattergeo": [
           {
            "marker": {
             "colorbar": {
              "outlinewidth": 0,
              "ticks": ""
             }
            },
            "type": "scattergeo"
           }
          ],
          "scattergl": [
           {
            "marker": {
             "colorbar": {
              "outlinewidth": 0,
              "ticks": ""
             }
            },
            "type": "scattergl"
           }
          ],
          "scattermapbox": [
           {
            "marker": {
             "colorbar": {
              "outlinewidth": 0,
              "ticks": ""
             }
            },
            "type": "scattermapbox"
           }
          ],
          "scatterpolar": [
           {
            "marker": {
             "colorbar": {
              "outlinewidth": 0,
              "ticks": ""
             }
            },
            "type": "scatterpolar"
           }
          ],
          "scatterpolargl": [
           {
            "marker": {
             "colorbar": {
              "outlinewidth": 0,
              "ticks": ""
             }
            },
            "type": "scatterpolargl"
           }
          ],
          "scatterternary": [
           {
            "marker": {
             "colorbar": {
              "outlinewidth": 0,
              "ticks": ""
             }
            },
            "type": "scatterternary"
           }
          ],
          "surface": [
           {
            "colorbar": {
             "outlinewidth": 0,
             "ticks": ""
            },
            "colorscale": [
             [
              0,
              "#0d0887"
             ],
             [
              0.1111111111111111,
              "#46039f"
             ],
             [
              0.2222222222222222,
              "#7201a8"
             ],
             [
              0.3333333333333333,
              "#9c179e"
             ],
             [
              0.4444444444444444,
              "#bd3786"
             ],
             [
              0.5555555555555556,
              "#d8576b"
             ],
             [
              0.6666666666666666,
              "#ed7953"
             ],
             [
              0.7777777777777778,
              "#fb9f3a"
             ],
             [
              0.8888888888888888,
              "#fdca26"
             ],
             [
              1,
              "#f0f921"
             ]
            ],
            "type": "surface"
           }
          ],
          "table": [
           {
            "cells": {
             "fill": {
              "color": "#EBF0F8"
             },
             "line": {
              "color": "white"
             }
            },
            "header": {
             "fill": {
              "color": "#C8D4E3"
             },
             "line": {
              "color": "white"
             }
            },
            "type": "table"
           }
          ]
         },
         "layout": {
          "annotationdefaults": {
           "arrowcolor": "#2a3f5f",
           "arrowhead": 0,
           "arrowwidth": 1
          },
          "autotypenumbers": "strict",
          "coloraxis": {
           "colorbar": {
            "outlinewidth": 0,
            "ticks": ""
           }
          },
          "colorscale": {
           "diverging": [
            [
             0,
             "#8e0152"
            ],
            [
             0.1,
             "#c51b7d"
            ],
            [
             0.2,
             "#de77ae"
            ],
            [
             0.3,
             "#f1b6da"
            ],
            [
             0.4,
             "#fde0ef"
            ],
            [
             0.5,
             "#f7f7f7"
            ],
            [
             0.6,
             "#e6f5d0"
            ],
            [
             0.7,
             "#b8e186"
            ],
            [
             0.8,
             "#7fbc41"
            ],
            [
             0.9,
             "#4d9221"
            ],
            [
             1,
             "#276419"
            ]
           ],
           "sequential": [
            [
             0,
             "#0d0887"
            ],
            [
             0.1111111111111111,
             "#46039f"
            ],
            [
             0.2222222222222222,
             "#7201a8"
            ],
            [
             0.3333333333333333,
             "#9c179e"
            ],
            [
             0.4444444444444444,
             "#bd3786"
            ],
            [
             0.5555555555555556,
             "#d8576b"
            ],
            [
             0.6666666666666666,
             "#ed7953"
            ],
            [
             0.7777777777777778,
             "#fb9f3a"
            ],
            [
             0.8888888888888888,
             "#fdca26"
            ],
            [
             1,
             "#f0f921"
            ]
           ],
           "sequentialminus": [
            [
             0,
             "#0d0887"
            ],
            [
             0.1111111111111111,
             "#46039f"
            ],
            [
             0.2222222222222222,
             "#7201a8"
            ],
            [
             0.3333333333333333,
             "#9c179e"
            ],
            [
             0.4444444444444444,
             "#bd3786"
            ],
            [
             0.5555555555555556,
             "#d8576b"
            ],
            [
             0.6666666666666666,
             "#ed7953"
            ],
            [
             0.7777777777777778,
             "#fb9f3a"
            ],
            [
             0.8888888888888888,
             "#fdca26"
            ],
            [
             1,
             "#f0f921"
            ]
           ]
          },
          "colorway": [
           "#636efa",
           "#EF553B",
           "#00cc96",
           "#ab63fa",
           "#FFA15A",
           "#19d3f3",
           "#FF6692",
           "#B6E880",
           "#FF97FF",
           "#FECB52"
          ],
          "font": {
           "color": "#2a3f5f"
          },
          "geo": {
           "bgcolor": "white",
           "lakecolor": "white",
           "landcolor": "#E5ECF6",
           "showlakes": true,
           "showland": true,
           "subunitcolor": "white"
          },
          "hoverlabel": {
           "align": "left"
          },
          "hovermode": "closest",
          "mapbox": {
           "style": "light"
          },
          "paper_bgcolor": "white",
          "plot_bgcolor": "#E5ECF6",
          "polar": {
           "angularaxis": {
            "gridcolor": "white",
            "linecolor": "white",
            "ticks": ""
           },
           "bgcolor": "#E5ECF6",
           "radialaxis": {
            "gridcolor": "white",
            "linecolor": "white",
            "ticks": ""
           }
          },
          "scene": {
           "xaxis": {
            "backgroundcolor": "#E5ECF6",
            "gridcolor": "white",
            "gridwidth": 2,
            "linecolor": "white",
            "showbackground": true,
            "ticks": "",
            "zerolinecolor": "white"
           },
           "yaxis": {
            "backgroundcolor": "#E5ECF6",
            "gridcolor": "white",
            "gridwidth": 2,
            "linecolor": "white",
            "showbackground": true,
            "ticks": "",
            "zerolinecolor": "white"
           },
           "zaxis": {
            "backgroundcolor": "#E5ECF6",
            "gridcolor": "white",
            "gridwidth": 2,
            "linecolor": "white",
            "showbackground": true,
            "ticks": "",
            "zerolinecolor": "white"
           }
          },
          "shapedefaults": {
           "line": {
            "color": "#2a3f5f"
           }
          },
          "ternary": {
           "aaxis": {
            "gridcolor": "white",
            "linecolor": "white",
            "ticks": ""
           },
           "baxis": {
            "gridcolor": "white",
            "linecolor": "white",
            "ticks": ""
           },
           "bgcolor": "#E5ECF6",
           "caxis": {
            "gridcolor": "white",
            "linecolor": "white",
            "ticks": ""
           }
          },
          "title": {
           "x": 0.05
          },
          "xaxis": {
           "automargin": true,
           "gridcolor": "white",
           "linecolor": "white",
           "ticks": "",
           "title": {
            "standoff": 15
           },
           "zerolinecolor": "white",
           "zerolinewidth": 2
          },
          "yaxis": {
           "automargin": true,
           "gridcolor": "white",
           "linecolor": "white",
           "ticks": "",
           "title": {
            "standoff": 15
           },
           "zerolinecolor": "white",
           "zerolinewidth": 2
          }
         }
        },
        "xaxis": {
         "anchor": "y",
         "domain": [
          0,
          1
         ],
         "title": {
          "text": "brewery_name"
         }
        },
        "yaxis": {
         "anchor": "x",
         "domain": [
          0,
          1
         ],
         "title": {
          "text": "total_beers"
         }
        }
       }
      },
      "text/html": [
       "<div>                            <div id=\"d7c35f76-8f6a-401f-82be-21fe43730f46\" class=\"plotly-graph-div\" style=\"height:525px; width:100%;\"></div>            <script type=\"text/javascript\">                require([\"plotly\"], function(Plotly) {                    window.PLOTLYENV=window.PLOTLYENV || {};                                    if (document.getElementById(\"d7c35f76-8f6a-401f-82be-21fe43730f46\")) {                    Plotly.newPlot(                        \"d7c35f76-8f6a-401f-82be-21fe43730f46\",                        [{\"alignmentgroup\":\"True\",\"hovertemplate\":\"brewery_name=%{x}\\u003cbr\\u003etotal_beers=%{y}\\u003cextra\\u003e\\u003c\\u002fextra\\u003e\",\"legendgroup\":\"\",\"marker\":{\"color\":\"#636efa\",\"pattern\":{\"shape\":\"\"}},\"name\":\"\",\"offsetgroup\":\"\",\"orientation\":\"v\",\"showlegend\":false,\"textposition\":\"auto\",\"x\":[\"Ridna Marka\",\"Surf Brewery\",\"Lion Breweries\",\"Legend Brewing Co.\",\"The Backyard Brewhouse\",\"Nodding Head Brewery and Restaurant\",\"Kronen Brauhaus\",\"AS Puls Brewery\",\"Grivita International (Brau Union Romania)\",\"Ahlafors Bryggerier AB\",\"United Breweries - UB Group\",\"Tunbridge Brewing\",\"Brasserie De Mont-Saint-Guibert\",\"J.J. Bitting Brewing Company\",\"Suomenlinnan Panimo Sveaborgs Bryggeri\"],\"xaxis\":\"x\",\"y\":[4,18,18,886,1,346,1,6,2,7,651,2,5,179,2],\"yaxis\":\"y\",\"type\":\"bar\"}],                        {\"template\":{\"data\":{\"histogram2dcontour\":[{\"type\":\"histogram2dcontour\",\"colorbar\":{\"outlinewidth\":0,\"ticks\":\"\"},\"colorscale\":[[0.0,\"#0d0887\"],[0.1111111111111111,\"#46039f\"],[0.2222222222222222,\"#7201a8\"],[0.3333333333333333,\"#9c179e\"],[0.4444444444444444,\"#bd3786\"],[0.5555555555555556,\"#d8576b\"],[0.6666666666666666,\"#ed7953\"],[0.7777777777777778,\"#fb9f3a\"],[0.8888888888888888,\"#fdca26\"],[1.0,\"#f0f921\"]]}],\"choropleth\":[{\"type\":\"choropleth\",\"colorbar\":{\"outlinewidth\":0,\"ticks\":\"\"}}],\"histogram2d\":[{\"type\":\"histogram2d\",\"colorbar\":{\"outlinewidth\":0,\"ticks\":\"\"},\"colorscale\":[[0.0,\"#0d0887\"],[0.1111111111111111,\"#46039f\"],[0.2222222222222222,\"#7201a8\"],[0.3333333333333333,\"#9c179e\"],[0.4444444444444444,\"#bd3786\"],[0.5555555555555556,\"#d8576b\"],[0.6666666666666666,\"#ed7953\"],[0.7777777777777778,\"#fb9f3a\"],[0.8888888888888888,\"#fdca26\"],[1.0,\"#f0f921\"]]}],\"heatmap\":[{\"type\":\"heatmap\",\"colorbar\":{\"outlinewidth\":0,\"ticks\":\"\"},\"colorscale\":[[0.0,\"#0d0887\"],[0.1111111111111111,\"#46039f\"],[0.2222222222222222,\"#7201a8\"],[0.3333333333333333,\"#9c179e\"],[0.4444444444444444,\"#bd3786\"],[0.5555555555555556,\"#d8576b\"],[0.6666666666666666,\"#ed7953\"],[0.7777777777777778,\"#fb9f3a\"],[0.8888888888888888,\"#fdca26\"],[1.0,\"#f0f921\"]]}],\"heatmapgl\":[{\"type\":\"heatmapgl\",\"colorbar\":{\"outlinewidth\":0,\"ticks\":\"\"},\"colorscale\":[[0.0,\"#0d0887\"],[0.1111111111111111,\"#46039f\"],[0.2222222222222222,\"#7201a8\"],[0.3333333333333333,\"#9c179e\"],[0.4444444444444444,\"#bd3786\"],[0.5555555555555556,\"#d8576b\"],[0.6666666666666666,\"#ed7953\"],[0.7777777777777778,\"#fb9f3a\"],[0.8888888888888888,\"#fdca26\"],[1.0,\"#f0f921\"]]}],\"contourcarpet\":[{\"type\":\"contourcarpet\",\"colorbar\":{\"outlinewidth\":0,\"ticks\":\"\"}}],\"contour\":[{\"type\":\"contour\",\"colorbar\":{\"outlinewidth\":0,\"ticks\":\"\"},\"colorscale\":[[0.0,\"#0d0887\"],[0.1111111111111111,\"#46039f\"],[0.2222222222222222,\"#7201a8\"],[0.3333333333333333,\"#9c179e\"],[0.4444444444444444,\"#bd3786\"],[0.5555555555555556,\"#d8576b\"],[0.6666666666666666,\"#ed7953\"],[0.7777777777777778,\"#fb9f3a\"],[0.8888888888888888,\"#fdca26\"],[1.0,\"#f0f921\"]]}],\"surface\":[{\"type\":\"surface\",\"colorbar\":{\"outlinewidth\":0,\"ticks\":\"\"},\"colorscale\":[[0.0,\"#0d0887\"],[0.1111111111111111,\"#46039f\"],[0.2222222222222222,\"#7201a8\"],[0.3333333333333333,\"#9c179e\"],[0.4444444444444444,\"#bd3786\"],[0.5555555555555556,\"#d8576b\"],[0.6666666666666666,\"#ed7953\"],[0.7777777777777778,\"#fb9f3a\"],[0.8888888888888888,\"#fdca26\"],[1.0,\"#f0f921\"]]}],\"mesh3d\":[{\"type\":\"mesh3d\",\"colorbar\":{\"outlinewidth\":0,\"ticks\":\"\"}}],\"scatter\":[{\"fillpattern\":{\"fillmode\":\"overlay\",\"size\":10,\"solidity\":0.2},\"type\":\"scatter\"}],\"parcoords\":[{\"type\":\"parcoords\",\"line\":{\"colorbar\":{\"outlinewidth\":0,\"ticks\":\"\"}}}],\"scatterpolargl\":[{\"type\":\"scatterpolargl\",\"marker\":{\"colorbar\":{\"outlinewidth\":0,\"ticks\":\"\"}}}],\"bar\":[{\"error_x\":{\"color\":\"#2a3f5f\"},\"error_y\":{\"color\":\"#2a3f5f\"},\"marker\":{\"line\":{\"color\":\"#E5ECF6\",\"width\":0.5},\"pattern\":{\"fillmode\":\"overlay\",\"size\":10,\"solidity\":0.2}},\"type\":\"bar\"}],\"scattergeo\":[{\"type\":\"scattergeo\",\"marker\":{\"colorbar\":{\"outlinewidth\":0,\"ticks\":\"\"}}}],\"scatterpolar\":[{\"type\":\"scatterpolar\",\"marker\":{\"colorbar\":{\"outlinewidth\":0,\"ticks\":\"\"}}}],\"histogram\":[{\"marker\":{\"pattern\":{\"fillmode\":\"overlay\",\"size\":10,\"solidity\":0.2}},\"type\":\"histogram\"}],\"scattergl\":[{\"type\":\"scattergl\",\"marker\":{\"colorbar\":{\"outlinewidth\":0,\"ticks\":\"\"}}}],\"scatter3d\":[{\"type\":\"scatter3d\",\"line\":{\"colorbar\":{\"outlinewidth\":0,\"ticks\":\"\"}},\"marker\":{\"colorbar\":{\"outlinewidth\":0,\"ticks\":\"\"}}}],\"scattermapbox\":[{\"type\":\"scattermapbox\",\"marker\":{\"colorbar\":{\"outlinewidth\":0,\"ticks\":\"\"}}}],\"scatterternary\":[{\"type\":\"scatterternary\",\"marker\":{\"colorbar\":{\"outlinewidth\":0,\"ticks\":\"\"}}}],\"scattercarpet\":[{\"type\":\"scattercarpet\",\"marker\":{\"colorbar\":{\"outlinewidth\":0,\"ticks\":\"\"}}}],\"carpet\":[{\"aaxis\":{\"endlinecolor\":\"#2a3f5f\",\"gridcolor\":\"white\",\"linecolor\":\"white\",\"minorgridcolor\":\"white\",\"startlinecolor\":\"#2a3f5f\"},\"baxis\":{\"endlinecolor\":\"#2a3f5f\",\"gridcolor\":\"white\",\"linecolor\":\"white\",\"minorgridcolor\":\"white\",\"startlinecolor\":\"#2a3f5f\"},\"type\":\"carpet\"}],\"table\":[{\"cells\":{\"fill\":{\"color\":\"#EBF0F8\"},\"line\":{\"color\":\"white\"}},\"header\":{\"fill\":{\"color\":\"#C8D4E3\"},\"line\":{\"color\":\"white\"}},\"type\":\"table\"}],\"barpolar\":[{\"marker\":{\"line\":{\"color\":\"#E5ECF6\",\"width\":0.5},\"pattern\":{\"fillmode\":\"overlay\",\"size\":10,\"solidity\":0.2}},\"type\":\"barpolar\"}],\"pie\":[{\"automargin\":true,\"type\":\"pie\"}]},\"layout\":{\"autotypenumbers\":\"strict\",\"colorway\":[\"#636efa\",\"#EF553B\",\"#00cc96\",\"#ab63fa\",\"#FFA15A\",\"#19d3f3\",\"#FF6692\",\"#B6E880\",\"#FF97FF\",\"#FECB52\"],\"font\":{\"color\":\"#2a3f5f\"},\"hovermode\":\"closest\",\"hoverlabel\":{\"align\":\"left\"},\"paper_bgcolor\":\"white\",\"plot_bgcolor\":\"#E5ECF6\",\"polar\":{\"bgcolor\":\"#E5ECF6\",\"angularaxis\":{\"gridcolor\":\"white\",\"linecolor\":\"white\",\"ticks\":\"\"},\"radialaxis\":{\"gridcolor\":\"white\",\"linecolor\":\"white\",\"ticks\":\"\"}},\"ternary\":{\"bgcolor\":\"#E5ECF6\",\"aaxis\":{\"gridcolor\":\"white\",\"linecolor\":\"white\",\"ticks\":\"\"},\"baxis\":{\"gridcolor\":\"white\",\"linecolor\":\"white\",\"ticks\":\"\"},\"caxis\":{\"gridcolor\":\"white\",\"linecolor\":\"white\",\"ticks\":\"\"}},\"coloraxis\":{\"colorbar\":{\"outlinewidth\":0,\"ticks\":\"\"}},\"colorscale\":{\"sequential\":[[0.0,\"#0d0887\"],[0.1111111111111111,\"#46039f\"],[0.2222222222222222,\"#7201a8\"],[0.3333333333333333,\"#9c179e\"],[0.4444444444444444,\"#bd3786\"],[0.5555555555555556,\"#d8576b\"],[0.6666666666666666,\"#ed7953\"],[0.7777777777777778,\"#fb9f3a\"],[0.8888888888888888,\"#fdca26\"],[1.0,\"#f0f921\"]],\"sequentialminus\":[[0.0,\"#0d0887\"],[0.1111111111111111,\"#46039f\"],[0.2222222222222222,\"#7201a8\"],[0.3333333333333333,\"#9c179e\"],[0.4444444444444444,\"#bd3786\"],[0.5555555555555556,\"#d8576b\"],[0.6666666666666666,\"#ed7953\"],[0.7777777777777778,\"#fb9f3a\"],[0.8888888888888888,\"#fdca26\"],[1.0,\"#f0f921\"]],\"diverging\":[[0,\"#8e0152\"],[0.1,\"#c51b7d\"],[0.2,\"#de77ae\"],[0.3,\"#f1b6da\"],[0.4,\"#fde0ef\"],[0.5,\"#f7f7f7\"],[0.6,\"#e6f5d0\"],[0.7,\"#b8e186\"],[0.8,\"#7fbc41\"],[0.9,\"#4d9221\"],[1,\"#276419\"]]},\"xaxis\":{\"gridcolor\":\"white\",\"linecolor\":\"white\",\"ticks\":\"\",\"title\":{\"standoff\":15},\"zerolinecolor\":\"white\",\"automargin\":true,\"zerolinewidth\":2},\"yaxis\":{\"gridcolor\":\"white\",\"linecolor\":\"white\",\"ticks\":\"\",\"title\":{\"standoff\":15},\"zerolinecolor\":\"white\",\"automargin\":true,\"zerolinewidth\":2},\"scene\":{\"xaxis\":{\"backgroundcolor\":\"#E5ECF6\",\"gridcolor\":\"white\",\"linecolor\":\"white\",\"showbackground\":true,\"ticks\":\"\",\"zerolinecolor\":\"white\",\"gridwidth\":2},\"yaxis\":{\"backgroundcolor\":\"#E5ECF6\",\"gridcolor\":\"white\",\"linecolor\":\"white\",\"showbackground\":true,\"ticks\":\"\",\"zerolinecolor\":\"white\",\"gridwidth\":2},\"zaxis\":{\"backgroundcolor\":\"#E5ECF6\",\"gridcolor\":\"white\",\"linecolor\":\"white\",\"showbackground\":true,\"ticks\":\"\",\"zerolinecolor\":\"white\",\"gridwidth\":2}},\"shapedefaults\":{\"line\":{\"color\":\"#2a3f5f\"}},\"annotationdefaults\":{\"arrowcolor\":\"#2a3f5f\",\"arrowhead\":0,\"arrowwidth\":1},\"geo\":{\"bgcolor\":\"white\",\"landcolor\":\"#E5ECF6\",\"subunitcolor\":\"white\",\"showland\":true,\"showlakes\":true,\"lakecolor\":\"white\"},\"title\":{\"x\":0.05},\"mapbox\":{\"style\":\"light\"}}},\"xaxis\":{\"anchor\":\"y\",\"domain\":[0.0,1.0],\"title\":{\"text\":\"brewery_name\"}},\"yaxis\":{\"anchor\":\"x\",\"domain\":[0.0,1.0],\"title\":{\"text\":\"total_beers\"}},\"legend\":{\"tracegroupgap\":0},\"margin\":{\"t\":60},\"barmode\":\"relative\"},                        {\"responsive\": true}                    ).then(function(){\n",
       "                            \n",
       "var gd = document.getElementById('d7c35f76-8f6a-401f-82be-21fe43730f46');\n",
       "var x = new MutationObserver(function (mutations, observer) {{\n",
       "        var display = window.getComputedStyle(gd).display;\n",
       "        if (!display || display === 'none') {{\n",
       "            console.log([gd, 'removed!']);\n",
       "            Plotly.purge(gd);\n",
       "            observer.disconnect();\n",
       "        }}\n",
       "}});\n",
       "\n",
       "// Listen for the removal of the full notebook cells\n",
       "var notebookContainer = gd.closest('#notebook-container');\n",
       "if (notebookContainer) {{\n",
       "    x.observe(notebookContainer, {childList: true});\n",
       "}}\n",
       "\n",
       "// Listen for the clearing of the current output cell\n",
       "var outputEl = gd.closest('.output');\n",
       "if (outputEl) {{\n",
       "    x.observe(outputEl, {childList: true});\n",
       "}}\n",
       "\n",
       "                        })                };                });            </script>        </div>"
      ]
     },
     "metadata": {},
     "output_type": "display_data"
    }
   ],
   "source": [
    "sample = sample.sample(15)\n",
    "\n",
    "px.bar(data_frame=sample, x='brewery_name', y='total_beers')"
   ]
  },
  {
   "attachments": {},
   "cell_type": "markdown",
   "metadata": {},
   "source": [
    "## Guardando el DataFrame en un archivo\n",
    "\n",
    "Polars en su modulo de **IO** nos permite obtener nuestros datos de diferentes fuentes, así como tiene los métodos `read_` , tambíen contiene su contraparte `write_`"
   ]
  },
  {
   "cell_type": "code",
   "execution_count": 65,
   "metadata": {},
   "outputs": [],
   "source": [
    "df.write_parquet(\"beer_reviews.parquet\")"
   ]
  }
 ],
 "metadata": {
  "kernelspec": {
   "display_name": "Python 3",
   "language": "python",
   "name": "python3"
  },
  "language_info": {
   "codemirror_mode": {
    "name": "ipython",
    "version": 3
   },
   "file_extension": ".py",
   "mimetype": "text/x-python",
   "name": "python",
   "nbconvert_exporter": "python",
   "pygments_lexer": "ipython3",
   "version": "3.10.6"
  },
  "orig_nbformat": 4
 },
 "nbformat": 4,
 "nbformat_minor": 2
}
